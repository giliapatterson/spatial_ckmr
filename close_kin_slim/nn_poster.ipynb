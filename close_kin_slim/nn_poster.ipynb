{
 "cells": [
  {
   "cell_type": "code",
   "execution_count": 1,
   "id": "4f2a8d48-1eb7-4b62-ba8a-6a56c752c4ae",
   "metadata": {},
   "outputs": [],
   "source": [
    "import msprime, pyslim\n",
    "import tskit\n",
    "import json\n",
    "import numpy as np\n",
    "from matplotlib import pyplot as plt\n",
    "from scipy import stats\n",
    "import itertools\n",
    "import math\n",
    "\n",
    "import torch\n",
    "from torch.utils.data import Dataset\n",
    "import matplotlib.pyplot as plt\n",
    "import os\n",
    "import pandas as pd\n",
    "from torch.utils.data import DataLoader, random_split, TensorDataset\n",
    "from torch import nn\n",
    "\n",
    "import sklearn\n",
    "import sklearn.model_selection\n",
    "\n",
    "rng = np.random.default_rng()"
   ]
  },
  {
   "cell_type": "code",
   "execution_count": 2,
   "id": "2b48a463-4b16-4bbf-ba91-8d3eacd616a4",
   "metadata": {},
   "outputs": [
    {
     "name": "stdout",
     "output_type": "stream",
     "text": [
      "                                           path    N\n",
      "0  input_matrices/spatial_sim_parents_500_0.csv  531\n",
      "1  input_matrices/spatial_sim_parents_500_1.csv  525\n",
      "2  input_matrices/spatial_sim_parents_500_2.csv  532\n",
      "3  input_matrices/spatial_sim_parents_500_3.csv  539\n",
      "4  input_matrices/spatial_sim_parents_500_4.csv  528\n",
      "5  input_matrices/spatial_sim_parents_500_5.csv  547\n",
      "6  input_matrices/spatial_sim_parents_500_6.csv  521\n",
      "7  input_matrices/spatial_sim_parents_500_7.csv  523\n",
      "8  input_matrices/spatial_sim_parents_500_8.csv  543\n",
      "9  input_matrices/spatial_sim_parents_500_9.csv  530\n"
     ]
    }
   ],
   "source": [
    "labels = pd.read_csv(\"spatial_sim_data/labels.csv\", names = [\"path\", \"N\"])\n",
    "print(labels.iloc[0:10,:])"
   ]
  },
  {
   "cell_type": "code",
   "execution_count": 3,
   "id": "fd7fbe2d-b926-483a-9bce-b87c935d48aa",
   "metadata": {},
   "outputs": [
    {
     "name": "stdout",
     "output_type": "stream",
     "text": [
      "     individual   parent1   parent2         x         y   age\n",
      "0       11519.0   10550.0   10550.0  0.897136  0.423633  88.0\n",
      "1       11729.0   10829.0   10829.0  0.229187  0.078204  84.0\n",
      "2       12251.0   11980.0   11980.0  0.866318  0.323394  75.0\n",
      "3       12580.0   11146.0   11146.0  0.838571  0.300380  68.0\n",
      "4       12632.0   12176.0   12176.0  0.264359  0.824464  67.0\n",
      "..          ...       ...       ...       ...       ...   ...\n",
      "526     16181.0   16052.0   16052.0  0.522768  0.772153   0.0\n",
      "527     16182.0   15364.0   15364.0  0.986324  0.209085   0.0\n",
      "528     16183.0   12786.0   12786.0  0.926631  0.828131   0.0\n",
      "529     16185.0   15590.0   15590.0  0.023032  0.462635   0.0\n",
      "530     16186.0   14721.0   14721.0  0.460829  0.660411   0.0\n",
      "\n",
      "[531 rows x 6 columns]\n"
     ]
    }
   ],
   "source": [
    "parents_file = \"spatial_sim_data/spatial_parents/spatial_sim_parents_500_0.csv\"\n",
    "n = 150\n",
    "parents = pd.read_csv(parents_file)\n",
    "#parents.columns = ['individual', 'parent1', 'parent2', 'x', 'y', 'age']\n",
    "print(parents)\n",
    "N = len(parents)\n",
    "sample_rows = rng.choice(np.arange(N), n, replace = False)\n"
   ]
  },
  {
   "cell_type": "code",
   "execution_count": 4,
   "id": "8e67c327-1afe-4a3e-aa68-04d630ee6a1b",
   "metadata": {},
   "outputs": [
    {
     "name": "stdout",
     "output_type": "stream",
     "text": [
      "       # parent0of1   parent1of0        x0        y0        x1        y1  \\\n",
      "0               0.0          0.0  0.926631  0.828131  0.506117  0.767903   \n",
      "1               0.0          0.0  0.926631  0.828131  0.076521  0.767202   \n",
      "2               0.0          0.0  0.926631  0.828131  0.260086  0.382743   \n",
      "3               0.0          0.0  0.926631  0.828131  0.057782  0.517319   \n",
      "4               0.0          0.0  0.926631  0.828131  0.831766  0.793029   \n",
      "...             ...          ...       ...       ...       ...       ...   \n",
      "11170           0.0          0.0  0.823451  0.318772  0.423007  0.208028   \n",
      "11171           0.0          0.0  0.823451  0.318772  0.317089  0.822454   \n",
      "11172           0.0          0.0  0.161297  0.947966  0.423007  0.208028   \n",
      "11173           0.0          0.0  0.161297  0.947966  0.317089  0.822454   \n",
      "11174           0.0          0.0  0.423007  0.208028  0.317089  0.822454   \n",
      "\n",
      "        age0   age1  \n",
      "0        0.0    8.0  \n",
      "1        0.0    7.0  \n",
      "2        0.0   17.0  \n",
      "3        0.0    8.0  \n",
      "4        0.0   10.0  \n",
      "...      ...    ...  \n",
      "11170    9.0    3.0  \n",
      "11171    9.0   16.0  \n",
      "11172   35.0    3.0  \n",
      "11173   35.0   16.0  \n",
      "11174    3.0   16.0  \n",
      "\n",
      "[11175 rows x 8 columns]\n",
      "[ 0.  8.  0. ... 16.  3. 16.]\n",
      "tensor([[[1.0000, 0.0000, 0.2601, 0.3827, 0.2739, 0.4475, 0.2024, 0.0595],\n",
      "         [1.0000, 0.0000, 0.8318, 0.7930, 0.8072, 0.7633, 0.1190, 0.0714],\n",
      "         [1.0000, 0.0000, 0.5699, 0.3159, 0.5682, 0.2703, 0.1190, 0.0238],\n",
      "         [1.0000, 0.0000, 0.4087, 0.3674, 0.3992, 0.3513, 0.0952, 0.0476],\n",
      "         [1.0000, 0.0000, 0.7522, 0.2121, 0.7852, 0.2150, 0.3214, 0.0119],\n",
      "         [1.0000, 0.0000, 0.2644, 0.8245, 0.3171, 0.8225, 0.7976, 0.1905],\n",
      "         [1.0000, 0.0000, 0.3136, 0.7319, 0.3071, 0.7499, 0.0357, 0.0238],\n",
      "         [1.0000, 0.0000, 0.9345, 0.7868, 0.9554, 0.8166, 0.7619, 0.4048],\n",
      "         [1.0000, 0.0000, 0.9939, 0.6270, 0.0122, 0.6137, 0.0952, 0.0476],\n",
      "         [0.0000, 1.0000, 0.9266, 0.8281, 0.9345, 0.7868, 0.0000, 0.7619],\n",
      "         [0.0000, 1.0000, 0.2601, 0.3827, 0.2762, 0.3430, 0.2024, 0.2738],\n",
      "         [0.0000, 1.0000, 0.0173, 0.1451, 0.0329, 0.1107, 0.0952, 0.1190],\n",
      "         [0.0000, 1.0000, 0.2072, 0.2169, 0.2227, 0.2300, 0.0119, 0.1667],\n",
      "         [0.0000, 1.0000, 0.3229, 0.8510, 0.2644, 0.8245, 0.4048, 0.7976],\n",
      "         [0.0000, 1.0000, 0.3748, 0.3871, 0.4087, 0.3674, 0.0357, 0.0952],\n",
      "         [0.0000, 1.0000, 0.5870, 0.3866, 0.5641, 0.4247, 0.0952, 0.1786],\n",
      "         [0.0000, 1.0000, 0.9970, 0.6275, 0.0017, 0.6391, 0.0476, 0.0595],\n",
      "         [0.0000, 1.0000, 0.5448, 0.7040, 0.5499, 0.7283, 0.1786, 0.2143],\n",
      "         [0.0000, 1.0000, 0.1664, 0.5403, 0.1548, 0.4697, 0.0357, 0.2024],\n",
      "         [0.0000, 1.0000, 0.3003, 0.2941, 0.2762, 0.3430, 0.0000, 0.2738],\n",
      "         [0.0000, 1.0000, 0.1552, 0.3657, 0.1682, 0.3637, 0.0952, 0.5119],\n",
      "         [0.0000, 1.0000, 0.2779, 0.8382, 0.3171, 0.8225, 0.1667, 0.1905],\n",
      "         [0.0000, 1.0000, 0.2972, 0.5801, 0.3045, 0.5693, 0.0238, 0.0357],\n",
      "         [0.0000, 1.0000, 0.2307, 0.9817, 0.1613, 0.9480, 0.0238, 0.4167],\n",
      "         [0.0000, 1.0000, 0.8283, 0.3520, 0.8235, 0.3188, 0.0952, 0.1071],\n",
      "         [0.0000, 1.0000, 0.4685, 0.6306, 0.4575, 0.6220, 0.0119, 0.1786],\n",
      "         [0.0000, 0.0000, 0.9266, 0.8281, 0.5061, 0.7679, 0.0000, 0.0952],\n",
      "         [0.0000, 0.0000, 0.9266, 0.8281, 0.0765, 0.7672, 0.0000, 0.0833],\n",
      "         [0.0000, 0.0000, 0.9266, 0.8281, 0.2601, 0.3827, 0.0000, 0.2024],\n",
      "         [0.0000, 0.0000, 0.9266, 0.8281, 0.0578, 0.5173, 0.0000, 0.0952],\n",
      "         [0.0000, 0.0000, 0.9266, 0.8281, 0.8318, 0.7930, 0.0000, 0.1190],\n",
      "         [0.0000, 0.0000, 0.9266, 0.8281, 0.2303, 0.6605, 0.0000, 0.0833],\n",
      "         [0.0000, 0.0000, 0.9266, 0.8281, 0.2634, 0.5700, 0.0000, 0.0833],\n",
      "         [0.0000, 0.0000, 0.9266, 0.8281, 0.8366, 0.6198, 0.0000, 0.3571],\n",
      "         [0.0000, 0.0000, 0.9266, 0.8281, 0.4139, 0.9889, 0.0000, 0.1429],\n",
      "         [0.0000, 0.0000, 0.9266, 0.8281, 0.6302, 0.5021, 0.0000, 0.0000],\n",
      "         [0.0000, 0.0000, 0.9266, 0.8281, 0.0061, 0.1651, 0.0000, 0.6310],\n",
      "         [0.0000, 0.0000, 0.9266, 0.8281, 0.0173, 0.1451, 0.0000, 0.0952],\n",
      "         [0.0000, 0.0000, 0.9266, 0.8281, 0.2025, 0.8152, 0.0000, 0.0595],\n",
      "         [0.0000, 0.0000, 0.9266, 0.8281, 0.6874, 0.5682, 0.0000, 0.2857],\n",
      "         [0.0000, 0.0000, 0.9266, 0.8281, 0.2072, 0.2169, 0.0000, 0.0119],\n",
      "         [0.0000, 0.0000, 0.9266, 0.8281, 0.1985, 0.1039, 0.0000, 0.1548],\n",
      "         [0.0000, 0.0000, 0.9266, 0.8281, 0.3011, 0.2104, 0.0000, 0.0476],\n",
      "         [0.0000, 0.0000, 0.9266, 0.8281, 0.5909, 0.3731, 0.0000, 0.0238],\n",
      "         [0.0000, 0.0000, 0.9266, 0.8281, 0.2027, 0.6785, 0.0000, 0.3333],\n",
      "         [0.0000, 0.0000, 0.9266, 0.8281, 0.8205, 0.6756, 0.0000, 0.2738],\n",
      "         [0.0000, 0.0000, 0.9266, 0.8281, 0.5388, 0.2455, 0.0000, 0.3095],\n",
      "         [0.0000, 0.0000, 0.9266, 0.8281, 0.6940, 0.7082, 0.0000, 0.0833],\n",
      "         [0.0000, 0.0000, 0.9266, 0.8281, 0.3229, 0.8510, 0.0000, 0.4048],\n",
      "         [0.0000, 0.0000, 0.9266, 0.8281, 0.6683, 0.8611, 0.0000, 0.2143]]])\n"
     ]
    }
   ],
   "source": [
    "max_rows = 50\n",
    "kin_file = pd.read_csv(\"spatial_sim_data/input_matrices/spatial_sim_parents_500_0.csv\", header = 0)\n",
    "print(kin_file)\n",
    "all_ages = np.array(kin_file[[' age0', ' age1']]).flatten()\n",
    "print(all_ages)\n",
    "max_age = np.max(all_ages)\n",
    "kin_file[' age0'] = kin_file[' age0']/max_age\n",
    "kin_file[' age1'] = kin_file[' age1']/max_age\n",
    "kin_file = kin_file.sort_values(by = ['# parent0of1', ' parent1of0'], axis = 0, ascending = False)\n",
    "kin_short = kin_file.iloc[0:max_rows, :]\n",
    "kin_short = kin_short.to_numpy().reshape(1, len(kin_short), len(kin_short.columns))\n",
    "input_tensor = torch.from_numpy(kin_short).float()\n",
    "print(input_tensor)"
   ]
  },
  {
   "cell_type": "code",
   "execution_count": 5,
   "id": "660e4722-2ed6-4b26-bf2a-79d1d4189a35",
   "metadata": {},
   "outputs": [],
   "source": [
    "class KinDataset(Dataset):\n",
    "    def __init__(self, base_folder, max_age, max_rows):\n",
    "        self.labels = pd.read_csv(base_folder + \"/labels.csv\", names = [\"path\", \"N\"])\n",
    "        self.base_folder = base_folder\n",
    "    def __len__(self):\n",
    "        return len(self.labels)\n",
    "\n",
    "    def __getitem__(self, idx):\n",
    "        kin_file = pd.read_csv(self.base_folder + \"/\" + self.labels.iloc[idx, 0], header = 0)\n",
    "        kin_file[' age0'] = kin_file[' age0']/max_age\n",
    "        kin_file[' age1'] = kin_file[' age1']/max_age\n",
    "        kin_file = kin_file.sort_values(by = ['# parent0of1', ' parent1of0'], axis = 0, ascending = False)\n",
    "        kin_short = kin_file.iloc[0:max_rows, :]\n",
    "        kin_short = kin_short.to_numpy().reshape(1, len(kin_short), len(kin_short.columns))\n",
    "        input_tensor = torch.from_numpy(kin_short).float()\n",
    "        label = torch.tensor([self.labels.iloc[idx, 1]]).float()\n",
    "        return input_tensor, label\n",
    "    \n",
    "kin_dataset = KinDataset(\"spatial_sim_data\", 100, 50)"
   ]
  },
  {
   "cell_type": "code",
   "execution_count": 6,
   "id": "44442a2a-df75-4af3-84b2-ba0f869fbd4d",
   "metadata": {},
   "outputs": [
    {
     "data": {
      "text/plain": [
       "(tensor([[[1.0000, 0.0000, 0.2601, 0.3827, 0.2739, 0.4475, 0.2024, 0.0595],\n",
       "          [1.0000, 0.0000, 0.8318, 0.7930, 0.8072, 0.7633, 0.1190, 0.0714],\n",
       "          [1.0000, 0.0000, 0.5699, 0.3159, 0.5682, 0.2703, 0.1190, 0.0238],\n",
       "          [1.0000, 0.0000, 0.4087, 0.3674, 0.3992, 0.3513, 0.0952, 0.0476],\n",
       "          [1.0000, 0.0000, 0.7522, 0.2121, 0.7852, 0.2150, 0.3214, 0.0119],\n",
       "          [1.0000, 0.0000, 0.2644, 0.8245, 0.3171, 0.8225, 0.7976, 0.1905],\n",
       "          [1.0000, 0.0000, 0.3136, 0.7319, 0.3071, 0.7499, 0.0357, 0.0238],\n",
       "          [1.0000, 0.0000, 0.9345, 0.7868, 0.9554, 0.8166, 0.7619, 0.4048],\n",
       "          [1.0000, 0.0000, 0.9939, 0.6270, 0.0122, 0.6137, 0.0952, 0.0476],\n",
       "          [0.0000, 1.0000, 0.9266, 0.8281, 0.9345, 0.7868, 0.0000, 0.7619],\n",
       "          [0.0000, 1.0000, 0.2601, 0.3827, 0.2762, 0.3430, 0.2024, 0.2738],\n",
       "          [0.0000, 1.0000, 0.0173, 0.1451, 0.0329, 0.1107, 0.0952, 0.1190],\n",
       "          [0.0000, 1.0000, 0.2072, 0.2169, 0.2227, 0.2300, 0.0119, 0.1667],\n",
       "          [0.0000, 1.0000, 0.3229, 0.8510, 0.2644, 0.8245, 0.4048, 0.7976],\n",
       "          [0.0000, 1.0000, 0.3748, 0.3871, 0.4087, 0.3674, 0.0357, 0.0952],\n",
       "          [0.0000, 1.0000, 0.5870, 0.3866, 0.5641, 0.4247, 0.0952, 0.1786],\n",
       "          [0.0000, 1.0000, 0.9970, 0.6275, 0.0017, 0.6391, 0.0476, 0.0595],\n",
       "          [0.0000, 1.0000, 0.5448, 0.7040, 0.5499, 0.7283, 0.1786, 0.2143],\n",
       "          [0.0000, 1.0000, 0.1664, 0.5403, 0.1548, 0.4697, 0.0357, 0.2024],\n",
       "          [0.0000, 1.0000, 0.3003, 0.2941, 0.2762, 0.3430, 0.0000, 0.2738],\n",
       "          [0.0000, 1.0000, 0.1552, 0.3657, 0.1682, 0.3637, 0.0952, 0.5119],\n",
       "          [0.0000, 1.0000, 0.2779, 0.8382, 0.3171, 0.8225, 0.1667, 0.1905],\n",
       "          [0.0000, 1.0000, 0.2972, 0.5801, 0.3045, 0.5693, 0.0238, 0.0357],\n",
       "          [0.0000, 1.0000, 0.2307, 0.9817, 0.1613, 0.9480, 0.0238, 0.4167],\n",
       "          [0.0000, 1.0000, 0.8283, 0.3520, 0.8235, 0.3188, 0.0952, 0.1071],\n",
       "          [0.0000, 1.0000, 0.4685, 0.6306, 0.4575, 0.6220, 0.0119, 0.1786],\n",
       "          [0.0000, 0.0000, 0.9266, 0.8281, 0.5061, 0.7679, 0.0000, 0.0952],\n",
       "          [0.0000, 0.0000, 0.9266, 0.8281, 0.0765, 0.7672, 0.0000, 0.0833],\n",
       "          [0.0000, 0.0000, 0.9266, 0.8281, 0.2601, 0.3827, 0.0000, 0.2024],\n",
       "          [0.0000, 0.0000, 0.9266, 0.8281, 0.0578, 0.5173, 0.0000, 0.0952],\n",
       "          [0.0000, 0.0000, 0.9266, 0.8281, 0.8318, 0.7930, 0.0000, 0.1190],\n",
       "          [0.0000, 0.0000, 0.9266, 0.8281, 0.2303, 0.6605, 0.0000, 0.0833],\n",
       "          [0.0000, 0.0000, 0.9266, 0.8281, 0.2634, 0.5700, 0.0000, 0.0833],\n",
       "          [0.0000, 0.0000, 0.9266, 0.8281, 0.8366, 0.6198, 0.0000, 0.3571],\n",
       "          [0.0000, 0.0000, 0.9266, 0.8281, 0.4139, 0.9889, 0.0000, 0.1429],\n",
       "          [0.0000, 0.0000, 0.9266, 0.8281, 0.6302, 0.5021, 0.0000, 0.0000],\n",
       "          [0.0000, 0.0000, 0.9266, 0.8281, 0.0061, 0.1651, 0.0000, 0.6310],\n",
       "          [0.0000, 0.0000, 0.9266, 0.8281, 0.0173, 0.1451, 0.0000, 0.0952],\n",
       "          [0.0000, 0.0000, 0.9266, 0.8281, 0.2025, 0.8152, 0.0000, 0.0595],\n",
       "          [0.0000, 0.0000, 0.9266, 0.8281, 0.6874, 0.5682, 0.0000, 0.2857],\n",
       "          [0.0000, 0.0000, 0.9266, 0.8281, 0.2072, 0.2169, 0.0000, 0.0119],\n",
       "          [0.0000, 0.0000, 0.9266, 0.8281, 0.1985, 0.1039, 0.0000, 0.1548],\n",
       "          [0.0000, 0.0000, 0.9266, 0.8281, 0.3011, 0.2104, 0.0000, 0.0476],\n",
       "          [0.0000, 0.0000, 0.9266, 0.8281, 0.5909, 0.3731, 0.0000, 0.0238],\n",
       "          [0.0000, 0.0000, 0.9266, 0.8281, 0.2027, 0.6785, 0.0000, 0.3333],\n",
       "          [0.0000, 0.0000, 0.9266, 0.8281, 0.8205, 0.6756, 0.0000, 0.2738],\n",
       "          [0.0000, 0.0000, 0.9266, 0.8281, 0.5388, 0.2455, 0.0000, 0.3095],\n",
       "          [0.0000, 0.0000, 0.9266, 0.8281, 0.6940, 0.7082, 0.0000, 0.0833],\n",
       "          [0.0000, 0.0000, 0.9266, 0.8281, 0.3229, 0.8510, 0.0000, 0.4048],\n",
       "          [0.0000, 0.0000, 0.9266, 0.8281, 0.6683, 0.8611, 0.0000, 0.2143]]]),\n",
       " tensor([531.]))"
      ]
     },
     "execution_count": 6,
     "metadata": {},
     "output_type": "execute_result"
    }
   ],
   "source": [
    "kin_dataset[0]"
   ]
  },
  {
   "cell_type": "code",
   "execution_count": 7,
   "id": "bf36aae4-0a5d-43ea-abbe-ca4517446b50",
   "metadata": {},
   "outputs": [],
   "source": [
    "n_total = len(kin_dataset)\n",
    "n_train = round(n_total*0.5)\n",
    "n_valid = round((n_total-n_train)*0.5)\n",
    "n_test = n_total-n_train-n_valid"
   ]
  },
  {
   "cell_type": "code",
   "execution_count": 8,
   "id": "f9528313-e7a7-4eea-a936-cd2e56e938e6",
   "metadata": {},
   "outputs": [
    {
     "name": "stdout",
     "output_type": "stream",
     "text": [
      "2500\n",
      "1250\n",
      "1250\n"
     ]
    }
   ],
   "source": [
    "train_kin, valid_kin, test_kin = random_split(kin_dataset, [n_train, n_valid, n_test], generator=torch.Generator().manual_seed(42))\n",
    "\n",
    "batch_size = 64\n",
    "train_kin_dl = DataLoader(train_kin, batch_size, shuffle = True)\n",
    "valid_kin_dl = DataLoader(valid_kin, batch_size, shuffle = True)\n",
    "test_kin_dl = DataLoader(test_kin, batch_size, shuffle = True)\n",
    "print(len(train_kin))\n",
    "print(len(valid_kin))\n",
    "print(len(test_kin))"
   ]
  },
  {
   "cell_type": "code",
   "execution_count": 9,
   "id": "5847a19a-aa1c-46b5-ae48-46c07d5ac9cd",
   "metadata": {},
   "outputs": [
    {
     "name": "stdout",
     "output_type": "stream",
     "text": [
      "Using cuda device\n"
     ]
    }
   ],
   "source": [
    "device = \"cuda\" if torch.cuda.is_available() else \"cpu\"\n",
    "print(f\"Using {device} device\")"
   ]
  },
  {
   "cell_type": "code",
   "execution_count": 10,
   "id": "995fbc70-a110-4d8e-bee2-b7025bad13cb",
   "metadata": {},
   "outputs": [
    {
     "data": {
      "text/plain": [
       "torch.Size([1, 50, 8])"
      ]
     },
     "execution_count": 10,
     "metadata": {},
     "output_type": "execute_result"
    }
   ],
   "source": [
    "kin_dataset[0][0].size()"
   ]
  },
  {
   "cell_type": "code",
   "execution_count": 11,
   "id": "34abd667-cc6a-4115-b544-1202ebf60598",
   "metadata": {},
   "outputs": [],
   "source": [
    "model = nn.Sequential()\n",
    "model.add_module('conv1', nn.Conv2d(in_channels=1, out_channels=32, kernel_size=5, padding=2))\n",
    "model.add_module('relu1', nn.ReLU())        \n",
    "model.add_module('pool1', nn.MaxPool2d(kernel_size=2))   \n",
    "model.add_module('conv2', nn.Conv2d(in_channels=32, out_channels=64, kernel_size=5, padding=2))\n",
    "model.add_module('relu2', nn.ReLU())        \n",
    "model.add_module('pool2', nn.MaxPool2d(kernel_size=2))      "
   ]
  },
  {
   "cell_type": "code",
   "execution_count": 12,
   "id": "8851d037-4e3b-4739-a2ad-fe4eda7ac4c7",
   "metadata": {},
   "outputs": [
    {
     "data": {
      "text/plain": [
       "torch.Size([4, 64, 12, 2])"
      ]
     },
     "execution_count": 12,
     "metadata": {},
     "output_type": "execute_result"
    }
   ],
   "source": [
    "x = torch.ones((4, 1, 50, 8))\n",
    "model(x).shape"
   ]
  },
  {
   "cell_type": "code",
   "execution_count": 13,
   "id": "8a408a06-fdb6-447f-bfc7-be0a81f93541",
   "metadata": {},
   "outputs": [],
   "source": [
    "model.add_module('flatten', nn.Flatten()) "
   ]
  },
  {
   "cell_type": "code",
   "execution_count": 14,
   "id": "d201dbbd-87e2-4b8e-9546-658db63a9999",
   "metadata": {},
   "outputs": [
    {
     "data": {
      "text/plain": [
       "torch.Size([4, 1536])"
      ]
     },
     "execution_count": 14,
     "metadata": {},
     "output_type": "execute_result"
    }
   ],
   "source": [
    "x = torch.ones((4, 1, 50, 8))\n",
    "model(x).shape"
   ]
  },
  {
   "cell_type": "code",
   "execution_count": 15,
   "id": "b4463eb5-25ac-409d-af9b-3647465b009d",
   "metadata": {},
   "outputs": [],
   "source": [
    "model.add_module('fc1', nn.Linear(1536, 1024)) \n",
    "model.add_module('relu3', nn.ReLU()) \n",
    "model.add_module('dropout', nn.Dropout(p=0.5)) \n",
    "model.add_module('fc2', nn.Linear(1024, 1)) "
   ]
  },
  {
   "cell_type": "code",
   "execution_count": 16,
   "id": "f88edd05-183e-4e66-b6f0-ee5b155d40af",
   "metadata": {},
   "outputs": [
    {
     "data": {
      "text/plain": [
       "torch.Size([4, 1])"
      ]
     },
     "execution_count": 16,
     "metadata": {},
     "output_type": "execute_result"
    }
   ],
   "source": [
    "x = torch.ones((4, 1, 50, 8))\n",
    "model(x).shape"
   ]
  },
  {
   "cell_type": "code",
   "execution_count": 17,
   "id": "35c5645f-dbea-40fe-b50c-5448cf55903e",
   "metadata": {},
   "outputs": [],
   "source": [
    "model = model.to(device) "
   ]
  },
  {
   "cell_type": "code",
   "execution_count": 18,
   "id": "bb447c73-e94e-4f2f-9feb-13b7616c1668",
   "metadata": {},
   "outputs": [
    {
     "name": "stdout",
     "output_type": "stream",
     "text": [
      "Epoch 1 loss: 400.4914 val_loss: 184.5199\n",
      "Epoch 2 loss: 172.5211 val_loss: 161.6523\n",
      "Epoch 3 loss: 162.4065 val_loss: 159.0667\n",
      "Epoch 4 loss: 158.3322 val_loss: 151.6748\n",
      "Epoch 5 loss: 152.2720 val_loss: 147.4202\n",
      "Epoch 6 loss: 147.0927 val_loss: 149.5255\n",
      "Epoch 7 loss: 136.0782 val_loss: 126.3351\n",
      "Epoch 8 loss: 126.2771 val_loss: 114.3363\n",
      "Epoch 9 loss: 117.9319 val_loss: 110.3223\n",
      "Epoch 10 loss: 118.8977 val_loss: 123.9244\n",
      "Epoch 11 loss: 118.4074 val_loss: 109.5255\n",
      "Epoch 12 loss: 116.1421 val_loss: 113.5777\n",
      "Epoch 13 loss: 120.9525 val_loss: 126.1154\n",
      "Epoch 14 loss: 122.5499 val_loss: 113.7774\n",
      "Epoch 15 loss: 122.1369 val_loss: 117.3265\n",
      "Epoch 16 loss: 119.7652 val_loss: 112.1521\n",
      "Epoch 17 loss: 117.3464 val_loss: 113.6274\n",
      "Epoch 18 loss: 116.8840 val_loss: 124.8424\n",
      "Epoch 19 loss: 117.2523 val_loss: 109.2837\n",
      "Epoch 20 loss: 116.7967 val_loss: 120.6453\n"
     ]
    }
   ],
   "source": [
    "loss_fn = nn.HuberLoss(reduction='mean')\n",
    "optimizer = torch.optim.Adam(model.parameters(), lr=0.001)\n",
    "\n",
    "def train(model, num_epochs, train_dl, valid_dl):\n",
    "    loss_hist_train = [0] * num_epochs\n",
    "    loss_hist_valid = [0] * num_epochs\n",
    "    for epoch in range(num_epochs):\n",
    "        model.train()\n",
    "        for x_batch, y_batch in train_dl:\n",
    "            x_batch = x_batch.to(device) \n",
    "            y_batch = y_batch.to(device) \n",
    "            pred = model(x_batch)\n",
    "            loss = loss_fn(pred, y_batch)\n",
    "            loss.backward()\n",
    "            optimizer.step()\n",
    "            optimizer.zero_grad()\n",
    "            loss_hist_train[epoch] += loss.item()*y_batch.size(0)\n",
    "\n",
    "        loss_hist_train[epoch] /= len(train_dl.dataset)\n",
    "        \n",
    "        model.eval()\n",
    "        with torch.no_grad():\n",
    "            for x_batch, y_batch in valid_dl:\n",
    "                x_batch = x_batch.to(device) \n",
    "                y_batch = y_batch.to(device) \n",
    "                pred = model(x_batch)\n",
    "                loss = loss_fn(pred, y_batch)\n",
    "                loss_hist_valid[epoch] += loss.item()*y_batch.size(0) \n",
    "\n",
    "        loss_hist_valid[epoch] /= len(valid_dl.dataset)\n",
    "        \n",
    "        print(f'Epoch {epoch+1} loss: {loss_hist_train[epoch]:.4f} val_loss: {loss_hist_valid[epoch]:.4f}')\n",
    "    return loss_hist_train, loss_hist_valid\n",
    "\n",
    "torch.manual_seed(1)\n",
    "num_epochs = 20\n",
    "hist = train(model, num_epochs, train_kin_dl, valid_kin_dl)"
   ]
  },
  {
   "cell_type": "code",
   "execution_count": 19,
   "id": "e92f32f8-a19a-4fcc-8eb3-c3d02b3ba87d",
   "metadata": {},
   "outputs": [
    {
     "data": {
      "image/png": "[encoded data removed]",
      "text/plain": [
       "<Figure size 1200x400 with 1 Axes>"
      ]
     },
     "metadata": {},
     "output_type": "display_data"
    }
   ],
   "source": [
    "x_arr = np.arange(len(hist[0])) + 1\n",
    "\n",
    "fig = plt.figure(figsize=(12, 4))\n",
    "ax = fig.add_subplot(1, 2, 1)\n",
    "ax.plot(x_arr, hist[0], '-o', label='Train loss')\n",
    "ax.plot(x_arr, hist[1], '--<', label='Validation loss')\n",
    "ax.set_xlabel('Epoch', size=15)\n",
    "ax.set_ylabel('Loss', size=15)\n",
    "ax.legend(fontsize=15)\n",
    "\n",
    "plt.show()"
   ]
  },
  {
   "cell_type": "code",
   "execution_count": 20,
   "id": "41324097-a7b9-41d5-b151-fe5195fef7c9",
   "metadata": {},
   "outputs": [],
   "source": [
    "torch.cuda.synchronize()\n",
    "model_cpu = model.cpu()\n",
    "\n",
    "test_truth = np.empty(len(test_kin))\n",
    "test_pred = np.empty(len(test_kin))\n",
    "\n",
    "with torch.no_grad():\n",
    "    for i, (test_input, test_output) in enumerate(test_kin):\n",
    "        test_pred[i] = model(test_input.unsqueeze(0))[0][0]\n",
    "        test_truth[i] = test_output[0]\n",
    "        #test_pred[i] = test_output.numpy()\n",
    "        #test_truth[i] = test_output[0].numpy()\n",
    "        #test_pred[i] = model(test_input)[0, 0].numpy()"
   ]
  },
  {
   "cell_type": "code",
   "execution_count": 21,
   "id": "d499c95d-97f3-4992-89b1-f1ba01c6f8f6",
   "metadata": {},
   "outputs": [
    {
     "data": {
      "text/plain": [
       "[<matplotlib.lines.Line2D at 0x7fa3dc6bdab0>]"
      ]
     },
     "execution_count": 21,
     "metadata": {},
     "output_type": "execute_result"
    },
    {
     "data": {
      "image/png": "[encoded data removed]",
      "text/plain": [
       "<Figure size 640x480 with 1 Axes>"
      ]
     },
     "metadata": {},
     "output_type": "display_data"
    }
   ],
   "source": [
    "plt.scatter(test_truth, test_pred)\n",
    "plt.plot([500, 1100], [500, 1100])"
   ]
  },
  {
   "cell_type": "code",
   "execution_count": 23,
   "id": "71a6952d-0bb1-487a-8272-f1c750484ed6",
   "metadata": {},
   "outputs": [],
   "source": [
    "np.savetxt(\"test_truth.csv\",test_truth, delimiter = ',')\n",
    "np.savetxt(\"test_pred.csv\",test_pred, delimiter = ',')"
   ]
  }
 ],
 "metadata": {
  "kernelspec": {
   "display_name": "Python 3 (ipykernel)",
   "language": "python",
   "name": "python3"
  },
  "language_info": {
   "codemirror_mode": {
    "name": "ipython",
    "version": 3
   },
   "file_extension": ".py",
   "mimetype": "text/x-python",
   "name": "python",
   "nbconvert_exporter": "python",
   "pygments_lexer": "ipython3",
   "version": "3.10.6"
  }
 },
 "nbformat": 4,
 "nbformat_minor": 5
}
