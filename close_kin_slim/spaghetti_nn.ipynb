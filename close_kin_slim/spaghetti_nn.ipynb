{
 "cells": [
  {
   "cell_type": "code",
   "execution_count": 40,
   "metadata": {},
   "outputs": [],
   "source": [
    "import msprime, pyslim\n",
    "import tskit\n",
    "import json\n",
    "import numpy as np\n",
    "from matplotlib import pyplot as plt\n",
    "from scipy import stats\n",
    "import itertools\n",
    "import math\n",
    "\n",
    "import torch\n",
    "from torch.utils.data import Dataset\n",
    "import matplotlib.pyplot as plt\n",
    "import os\n",
    "import gpustat\n",
    "import pandas as pd\n",
    "from torch.utils.data import DataLoader, random_split, TensorDataset\n",
    "from torch import nn\n",
    "from torchvision.io import read_image\n",
    "\n",
    "import sklearn\n",
    "import sklearn.model_selection\n",
    "\n",
    "rng = np.random.default_rng()"
   ]
  },
  {
   "cell_type": "code",
   "execution_count": 50,
   "metadata": {},
   "outputs": [],
   "source": [
    "stats = gpustat.GPUStatCollection.new_query()\n",
    "ids = map(lambda gpu: int(gpu.entry['index']), stats)\n",
    "ratios = map(lambda gpu: float(gpu.entry['memory.used'])/float(gpu.entry['memory.total']), stats)\n",
    "bestGPU = min(zip(ids, ratios), key=lambda x: x[1])[0]\n",
    "os.environ['CUDA_VISIBLE_DEVICES'] = str(bestGPU)"
   ]
  },
  {
   "cell_type": "code",
   "execution_count": 42,
   "metadata": {},
   "outputs": [
    {
     "name": "stdout",
     "output_type": "stream",
     "text": [
      "                                        path      N    n  nPO\n",
      "0      images/spatial_sim_parents_1000_0_500   1020  500   90\n",
      "1      images/spatial_sim_parents_1000_1_500   1007  500  127\n",
      "2      images/spatial_sim_parents_1000_2_500   1009  500  138\n",
      "3      images/spatial_sim_parents_1000_3_500   1006  500  121\n",
      "4      images/spatial_sim_parents_1000_4_500   1007  500  124\n",
      "...                                      ...    ...  ...  ...\n",
      "2425  images/spatial_sim_parents_9900_22_500  10028  500   67\n",
      "2426  images/spatial_sim_parents_9900_23_500  10041  500   66\n",
      "2427  images/spatial_sim_parents_9900_24_500  10005  500   69\n",
      "2428  images/spatial_sim_parents_9900_25_500  10067  500   54\n",
      "2429  images/spatial_sim_parents_9900_26_500  10041  500   52\n",
      "\n",
      "[2430 rows x 4 columns]\n"
     ]
    }
   ],
   "source": [
    "base_folder = \"spatial_sim_data\"\n",
    "labels = pd.read_csv(base_folder + \"/labels.csv\", names = [\"path\", \"N\", \"n\", \"nPO\"])\n",
    "print(labels)"
   ]
  },
  {
   "cell_type": "code",
   "execution_count": 43,
   "metadata": {},
   "outputs": [
    {
     "name": "stdout",
     "output_type": "stream",
     "text": [
      "spatial_sim_data/images/spatial_sim_parents_1000_0_500_spaghetti.png\n",
      "spatial_sim_data/images/spatial_sim_parents_1000_0_500_samples.png\n"
     ]
    }
   ],
   "source": [
    "idx = 0\n",
    "base_path = base_folder + \"/\" + labels['path'].iloc[0]\n",
    "spaghetti_path = base_path + \"_spaghetti.png\"\n",
    "samples_path = base_path + \"_samples.png\"\n",
    "print(spaghetti_path)\n",
    "print(samples_path)\n",
    "spaghetti = read_image(spaghetti_path)\n",
    "samples = read_image(samples_path)"
   ]
  },
  {
   "cell_type": "code",
   "execution_count": 44,
   "metadata": {},
   "outputs": [
    {
     "name": "stdout",
     "output_type": "stream",
     "text": [
      "torch.Size([1, 500, 500])\n",
      "torch.Size([1, 500, 500])\n",
      "tensor(500.)\n",
      "torch.Size([2, 500, 500])\n"
     ]
    }
   ],
   "source": [
    "print(spaghetti.size())\n",
    "print(samples.size())\n",
    "# Number of samples, should be 500\n",
    "print(samples.sum()/255)\n",
    "images = torch.cat((spaghetti, samples), 0)\n",
    "print(images.size())"
   ]
  },
  {
   "cell_type": "code",
   "execution_count": 45,
   "metadata": {},
   "outputs": [],
   "source": [
    "class KinDataset(Dataset):\n",
    "    def __init__(self, base_folder):\n",
    "        self.labels = pd.read_csv(base_folder + \"/labels.csv\", names = [\"path\", \"N\", \"n\", \"nPO\"])\n",
    "        self.base_folder = base_folder\n",
    "    def __len__(self):\n",
    "        return len(self.labels)\n",
    "\n",
    "    def __getitem__(self, idx):\n",
    "        base_path = self.base_folder + \"/\" + self.labels['path'].iloc[idx]\n",
    "        spaghetti_path = base_path + \"_spaghetti.png\"\n",
    "        samples_path = base_path + \"_samples.png\"\n",
    "        spaghetti = read_image(spaghetti_path)\n",
    "        samples = read_image(samples_path)\n",
    "        input_tensor = torch.cat((spaghetti, samples), 0)\n",
    "        label = torch.tensor([self.labels['N'].iloc[idx]]).float()\n",
    "        return input_tensor, label\n",
    "    \n",
    "kin_dataset = KinDataset(\"spatial_sim_data\")"
   ]
  },
  {
   "cell_type": "code",
   "execution_count": 46,
   "metadata": {},
   "outputs": [
    {
     "name": "stdout",
     "output_type": "stream",
     "text": [
      "torch.Size([2, 500, 500])\n",
      "tensor([1009.])\n",
      "tensor([1340.])\n"
     ]
    }
   ],
   "source": [
    "print(kin_dataset[2][0].size())\n",
    "print(kin_dataset[2][1])\n",
    "print(kin_dataset[100][1])"
   ]
  },
  {
   "cell_type": "code",
   "execution_count": 47,
   "metadata": {},
   "outputs": [],
   "source": [
    "n_total = len(kin_dataset)\n",
    "n_train = round(n_total*0.5)\n",
    "n_valid = round((n_total-n_train)*0.5)\n",
    "n_test = n_total-n_train-n_valid"
   ]
  },
  {
   "cell_type": "code",
   "execution_count": 48,
   "metadata": {},
   "outputs": [
    {
     "name": "stdout",
     "output_type": "stream",
     "text": [
      "1215\n",
      "608\n",
      "607\n"
     ]
    }
   ],
   "source": [
    "train_kin, valid_kin, test_kin = random_split(kin_dataset, [n_train, n_valid, n_test], generator=torch.Generator().manual_seed(42))\n",
    "\n",
    "batch_size = 64\n",
    "train_kin_dl = DataLoader(train_kin, batch_size, shuffle = True)\n",
    "valid_kin_dl = DataLoader(valid_kin, batch_size, shuffle = True)\n",
    "test_kin_dl = DataLoader(test_kin, batch_size, shuffle = True)\n",
    "print(len(train_kin))\n",
    "print(len(valid_kin))\n",
    "print(len(test_kin))"
   ]
  }
 ],
 "metadata": {
  "kernelspec": {
   "display_name": "ckmr_snakemake",
   "language": "python",
   "name": "python3"
  },
  "language_info": {
   "codemirror_mode": {
    "name": "ipython",
    "version": 3
   },
   "file_extension": ".py",
   "mimetype": "text/x-python",
   "name": "python",
   "nbconvert_exporter": "python",
   "pygments_lexer": "ipython3",
   "version": "3.10.6"
  },
  "orig_nbformat": 4
 },
 "nbformat": 4,
 "nbformat_minor": 2
}
