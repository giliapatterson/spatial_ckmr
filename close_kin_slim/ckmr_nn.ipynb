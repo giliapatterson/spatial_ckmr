{
 "cells": [
  {
   "cell_type": "code",
   "execution_count": 94,
   "id": "4f2a8d48-1eb7-4b62-ba8a-6a56c752c4ae",
   "metadata": {},
   "outputs": [],
   "source": [
    "import msprime, pyslim\n",
    "import tskit\n",
    "import json\n",
    "import numpy as np\n",
    "from matplotlib import pyplot as plt\n",
    "from scipy import stats\n",
    "import itertools\n",
    "import math\n",
    "\n",
    "import torch\n",
    "from torch.utils.data import Dataset\n",
    "import matplotlib.pyplot as plt\n",
    "import os\n",
    "import pandas as pd\n",
    "from torch.utils.data import DataLoader, random_split, TensorDataset\n",
    "from torch import nn\n",
    "\n",
    "import sklearn\n",
    "import sklearn.model_selection\n",
    "\n",
    "rng = np.random.default_rng()"
   ]
  },
  {
   "cell_type": "code",
   "execution_count": 95,
   "id": "660e4722-2ed6-4b26-bf2a-79d1d4189a35",
   "metadata": {},
   "outputs": [],
   "source": [
    "class KinDataset(Dataset):\n",
    "    def __init__(self, base_folder):\n",
    "        self.labels = pd.read_csv(base_folder + \"/labels.csv\", names = [\"path\", \"N\"])\n",
    "        self.base_folder = base_folder\n",
    "    def __len__(self):\n",
    "        return len(self.labels)\n",
    "\n",
    "    def __getitem__(self, idx):\n",
    "        input_matrix = pd.read_csv(self.base_folder + \"/\" + self.labels.iloc[idx, 0], header = 0)\n",
    "        input_tensor = torch.from_numpy(input_matrix.to_numpy().flatten()).float()\n",
    "        label = torch.tensor(self.labels.iloc[idx, 1]).float()\n",
    "        return input_tensor, label\n",
    "    \n",
    "kin_dataset = KinDataset(\"flat_maps_data\")"
   ]
  },
  {
   "cell_type": "code",
   "execution_count": 96,
   "id": "60fa0db3-11bd-4402-9266-5e37dcbc8b99",
   "metadata": {},
   "outputs": [
    {
     "name": "stdout",
     "output_type": "stream",
     "text": [
      "(tensor([0.0000, 0.0000, 5.0000,  ..., 2.5470, 2.4326, 5.1478]), tensor(292.))\n"
     ]
    }
   ],
   "source": [
    "sibs_i = np.arange(0, len(kin_dataset[0][0].numpy()), 3)\n",
    "hs_i = np.arange(1, len(kin_dataset[0][0].numpy()), 3)\n",
    "print(kin_dataset[0])"
   ]
  },
  {
   "cell_type": "code",
   "execution_count": 97,
   "id": "5847a19a-aa1c-46b5-ae48-46c07d5ac9cd",
   "metadata": {},
   "outputs": [
    {
     "name": "stdout",
     "output_type": "stream",
     "text": [
      "Using cuda device\n"
     ]
    }
   ],
   "source": [
    "device = \"cuda\" if torch.cuda.is_available() else \"cpu\"\n",
    "print(f\"Using {device} device\")"
   ]
  },
  {
   "cell_type": "code",
   "execution_count": 99,
   "id": "0cc689e7-15be-4580-b6c5-9d6cda13af93",
   "metadata": {},
   "outputs": [],
   "source": [
    "class Model(nn.Module):\n",
    "    def __init__(self, input_size, hidden_size, output_size):\n",
    "        super().__init__()\n",
    "        self.layer1 = nn.Linear(input_size, hidden_size)  \n",
    "        self.layer2 = nn.Linear(hidden_size, output_size)  \n",
    "\n",
    "    def forward(self, x):\n",
    "        x = self.layer1(x)\n",
    "        x = nn.ReLU()(x)\n",
    "        x = self.layer2(x)\n",
    "        return x"
   ]
  },
  {
   "cell_type": "code",
   "execution_count": 100,
   "id": "6bddcc40-e204-40c0-a662-5217538e58a2",
   "metadata": {},
   "outputs": [
    {
     "data": {
      "text/plain": [
       "3480"
      ]
     },
     "execution_count": 100,
     "metadata": {},
     "output_type": "execute_result"
    }
   ],
   "source": [
    "len(kin_dataset[0][0])"
   ]
  },
  {
   "cell_type": "code",
   "execution_count": 101,
   "id": "e42d65ce-9284-49ae-a8de-422933f4d0b9",
   "metadata": {},
   "outputs": [
    {
     "name": "stdout",
     "output_type": "stream",
     "text": [
      "1600\n",
      "400\n"
     ]
    }
   ],
   "source": [
    "n_total = len(kin_dataset)\n",
    "n_train = round(n_total*0.8)\n",
    "print(n_train)\n",
    "n_test = n_total-n_train\n",
    "print(n_test)"
   ]
  },
  {
   "cell_type": "code",
   "execution_count": 102,
   "id": "f9528313-e7a7-4eea-a936-cd2e56e938e6",
   "metadata": {},
   "outputs": [
    {
     "name": "stdout",
     "output_type": "stream",
     "text": [
      "1600\n",
      "400\n"
     ]
    }
   ],
   "source": [
    "train_kin, test_kin = random_split(kin_dataset, [n_train, n_test], generator=torch.Generator().manual_seed(42))\n",
    "#train_kin, test_kin = random_split(kin_dataset, [590, 10], generator=torch.Generator().manual_seed(42))\n",
    "\n",
    "batch_size = 64\n",
    "train_kin_dl = DataLoader(train_kin, batch_size, shuffle = True)\n",
    "test_kin_dl = DataLoader(test_kin, batch_size, shuffle = True)\n",
    "print(len(train_kin))\n",
    "print(len(test_kin))"
   ]
  },
  {
   "cell_type": "code",
   "execution_count": 103,
   "id": "0c355e9a-d388-4af9-8bf4-a685f5c0dcff",
   "metadata": {},
   "outputs": [
    {
     "data": {
      "text/plain": [
       "3480"
      ]
     },
     "execution_count": 103,
     "metadata": {},
     "output_type": "execute_result"
    }
   ],
   "source": [
    "len(kin_dataset[0][0])"
   ]
  },
  {
   "cell_type": "code",
   "execution_count": 104,
   "id": "2632dfb7-2698-4b44-bff3-eb7352df20b5",
   "metadata": {},
   "outputs": [],
   "source": [
    "input_size = len(kin_dataset[0][0])\n",
    "output_size = 1\n",
    "hidden_size = round(input_size/2)\n",
    "\n",
    "model = Model(input_size, hidden_size, output_size)\n",
    "\n",
    "learning_rate = 0.001\n",
    "\n",
    "loss_fn = nn.HuberLoss(reduction='mean')\n",
    "\n",
    "learning_rate = 0.001\n",
    "num_epochs = 200\n",
    "log_epochs = 1\n",
    "\n",
    "optimizer = torch.optim.Adam(model.parameters(), lr=learning_rate)"
   ]
  },
  {
   "cell_type": "code",
   "execution_count": 51,
   "id": "d01228be-7772-4291-9edd-33dd114a4686",
   "metadata": {},
   "outputs": [],
   "source": [
    "#for x_batch, y_batch in test_kin_dl:\n",
    "    #print(x_batch.size())\n",
    "    #print(y_batch.size())\n",
    "    #pred = model(x_batch)[:,0]\n",
    "    #print(pred)\n",
    "    #loss = loss_fn(pred, y_batch)\n",
    "    #print(loss)\n",
    "    "
   ]
  },
  {
   "cell_type": "code",
   "execution_count": 105,
   "id": "e431c756-3e80-49ea-bbcd-c9142bba05e7",
   "metadata": {},
   "outputs": [
    {
     "name": "stdout",
     "output_type": "stream",
     "text": [
      "Epoch 0  Loss 154.9869\n",
      "Epoch 1  Loss 140.4544\n",
      "Epoch 2  Loss 146.1306\n",
      "Epoch 3  Loss 120.5878\n",
      "Epoch 4  Loss 142.2231\n",
      "Epoch 5  Loss 131.9130\n",
      "Epoch 6  Loss 130.4260\n",
      "Epoch 7  Loss 130.4949\n",
      "Epoch 8  Loss 142.9713\n",
      "Epoch 9  Loss 138.5595\n",
      "Epoch 10  Loss 133.0887\n",
      "Epoch 11  Loss 129.5064\n",
      "Epoch 12  Loss 128.8320\n",
      "Epoch 13  Loss 131.1015\n",
      "Epoch 14  Loss 148.2810\n",
      "Epoch 15  Loss 118.1572\n",
      "Epoch 16  Loss 154.0103\n",
      "Epoch 17  Loss 125.5410\n",
      "Epoch 18  Loss 117.9167\n",
      "Epoch 19  Loss 119.6866\n",
      "Epoch 20  Loss 108.4408\n",
      "Epoch 21  Loss 141.9755\n",
      "Epoch 22  Loss 131.7346\n",
      "Epoch 23  Loss 144.6318\n",
      "Epoch 24  Loss 132.9203\n",
      "Epoch 25  Loss 145.9563\n",
      "Epoch 26  Loss 134.1872\n",
      "Epoch 27  Loss 119.6552\n",
      "Epoch 28  Loss 141.9584\n",
      "Epoch 29  Loss 133.1529\n",
      "Epoch 30  Loss 133.1203\n",
      "Epoch 31  Loss 117.7678\n",
      "Epoch 32  Loss 131.0081\n",
      "Epoch 33  Loss 146.2574\n",
      "Epoch 34  Loss 126.4366\n",
      "Epoch 35  Loss 122.2701\n",
      "Epoch 36  Loss 130.3993\n",
      "Epoch 37  Loss 123.6563\n",
      "Epoch 38  Loss 114.2097\n",
      "Epoch 39  Loss 114.6310\n",
      "Epoch 40  Loss 112.9993\n",
      "Epoch 41  Loss 126.3272\n",
      "Epoch 42  Loss 135.6503\n",
      "Epoch 43  Loss 111.5135\n",
      "Epoch 44  Loss 104.6617\n",
      "Epoch 45  Loss 106.5906\n",
      "Epoch 46  Loss 114.2587\n",
      "Epoch 47  Loss 111.2676\n",
      "Epoch 48  Loss 111.1113\n",
      "Epoch 49  Loss 108.7658\n",
      "Epoch 50  Loss 115.8853\n",
      "Epoch 51  Loss 105.3545\n",
      "Epoch 52  Loss 105.4045\n",
      "Epoch 53  Loss 127.3026\n",
      "Epoch 54  Loss 102.4611\n",
      "Epoch 55  Loss 107.5988\n",
      "Epoch 56  Loss 117.7666\n",
      "Epoch 57  Loss 89.1867\n",
      "Epoch 58  Loss 96.4907\n",
      "Epoch 59  Loss 96.6399\n",
      "Epoch 60  Loss 108.7549\n",
      "Epoch 61  Loss 85.6704\n",
      "Epoch 62  Loss 95.4983\n",
      "Epoch 63  Loss 77.8493\n",
      "Epoch 64  Loss 80.5140\n",
      "Epoch 65  Loss 85.7081\n",
      "Epoch 66  Loss 91.5532\n",
      "Epoch 67  Loss 85.8322\n",
      "Epoch 68  Loss 78.9289\n",
      "Epoch 69  Loss 85.8739\n",
      "Epoch 70  Loss 86.4174\n",
      "Epoch 71  Loss 77.7621\n",
      "Epoch 72  Loss 89.4621\n",
      "Epoch 73  Loss 60.2299\n",
      "Epoch 74  Loss 65.9176\n",
      "Epoch 75  Loss 61.4707\n",
      "Epoch 76  Loss 74.4913\n",
      "Epoch 77  Loss 76.2967\n",
      "Epoch 78  Loss 64.3576\n",
      "Epoch 79  Loss 61.7592\n",
      "Epoch 80  Loss 83.6319\n",
      "Epoch 81  Loss 77.7048\n",
      "Epoch 82  Loss 67.4520\n",
      "Epoch 83  Loss 71.0445\n",
      "Epoch 84  Loss 56.5212\n",
      "Epoch 85  Loss 65.9055\n",
      "Epoch 86  Loss 43.2771\n",
      "Epoch 87  Loss 58.4612\n",
      "Epoch 88  Loss 52.8212\n",
      "Epoch 89  Loss 57.4532\n",
      "Epoch 90  Loss 62.0605\n",
      "Epoch 91  Loss 64.4653\n",
      "Epoch 92  Loss 53.2134\n",
      "Epoch 93  Loss 72.0932\n",
      "Epoch 94  Loss 50.7160\n",
      "Epoch 95  Loss 48.9338\n",
      "Epoch 96  Loss 50.4966\n",
      "Epoch 97  Loss 51.1628\n",
      "Epoch 98  Loss 58.5766\n",
      "Epoch 99  Loss 48.4995\n",
      "Epoch 100  Loss 52.7808\n",
      "Epoch 101  Loss 43.7294\n",
      "Epoch 102  Loss 54.0604\n",
      "Epoch 103  Loss 39.6849\n",
      "Epoch 104  Loss 49.6653\n",
      "Epoch 105  Loss 50.9888\n",
      "Epoch 106  Loss 39.4841\n",
      "Epoch 107  Loss 31.0025\n",
      "Epoch 108  Loss 50.9068\n",
      "Epoch 109  Loss 42.3601\n",
      "Epoch 110  Loss 28.5784\n",
      "Epoch 111  Loss 43.3400\n",
      "Epoch 112  Loss 37.3508\n",
      "Epoch 113  Loss 42.6875\n",
      "Epoch 114  Loss 44.7887\n",
      "Epoch 115  Loss 26.1690\n",
      "Epoch 116  Loss 35.0525\n",
      "Epoch 117  Loss 34.7667\n",
      "Epoch 118  Loss 25.9553\n",
      "Epoch 119  Loss 38.9250\n",
      "Epoch 120  Loss 52.3210\n",
      "Epoch 121  Loss 40.2850\n",
      "Epoch 122  Loss 39.2666\n",
      "Epoch 123  Loss 41.5023\n",
      "Epoch 124  Loss 35.1074\n",
      "Epoch 125  Loss 37.9763\n",
      "Epoch 126  Loss 29.9058\n",
      "Epoch 127  Loss 28.2616\n",
      "Epoch 128  Loss 36.2287\n",
      "Epoch 129  Loss 24.3903\n",
      "Epoch 130  Loss 25.3612\n",
      "Epoch 131  Loss 33.1046\n",
      "Epoch 132  Loss 25.3919\n",
      "Epoch 133  Loss 32.2364\n",
      "Epoch 134  Loss 25.7259\n",
      "Epoch 135  Loss 29.7527\n",
      "Epoch 136  Loss 29.4750\n",
      "Epoch 137  Loss 30.2925\n",
      "Epoch 138  Loss 24.8637\n",
      "Epoch 139  Loss 32.3621\n",
      "Epoch 140  Loss 25.3897\n",
      "Epoch 141  Loss 32.7144\n",
      "Epoch 142  Loss 28.1140\n",
      "Epoch 143  Loss 29.1757\n",
      "Epoch 144  Loss 13.4376\n",
      "Epoch 145  Loss 30.8342\n",
      "Epoch 146  Loss 21.7962\n",
      "Epoch 147  Loss 25.9766\n",
      "Epoch 148  Loss 25.2443\n",
      "Epoch 149  Loss 18.6187\n",
      "Epoch 151  Loss 31.0054\n",
      "Epoch 152  Loss 27.5373\n",
      "Epoch 153  Loss 23.1289\n",
      "Epoch 154  Loss 25.7205\n",
      "Epoch 155  Loss 22.5860\n",
      "Epoch 156  Loss 24.9288\n",
      "Epoch 157  Loss 23.5000\n",
      "Epoch 158  Loss 19.7019\n",
      "Epoch 159  Loss 19.9719\n",
      "Epoch 160  Loss 14.7610\n",
      "Epoch 161  Loss 16.2413\n",
      "Epoch 162  Loss 20.7991\n",
      "Epoch 163  Loss 19.6575\n",
      "Epoch 164  Loss 19.7087\n",
      "Epoch 165  Loss 20.4217\n",
      "Epoch 166  Loss 14.9903\n",
      "Epoch 167  Loss 20.5002\n",
      "Epoch 168  Loss 16.2594\n",
      "Epoch 169  Loss 19.7940\n",
      "Epoch 170  Loss 23.6795\n",
      "Epoch 171  Loss 19.2667\n",
      "Epoch 172  Loss 14.5268\n",
      "Epoch 173  Loss 25.2000\n",
      "Epoch 174  Loss 15.4517\n",
      "Epoch 175  Loss 17.2631\n",
      "Epoch 176  Loss 25.4202\n",
      "Epoch 177  Loss 15.7791\n",
      "Epoch 178  Loss 16.6326\n",
      "Epoch 179  Loss 21.6415\n",
      "Epoch 180  Loss 15.8280\n",
      "Epoch 181  Loss 16.4887\n",
      "Epoch 182  Loss 18.0823\n",
      "Epoch 183  Loss 13.5155\n",
      "Epoch 184  Loss 15.7165\n",
      "Epoch 185  Loss 20.3532\n",
      "Epoch 186  Loss 13.8869\n",
      "Epoch 187  Loss 15.6124\n",
      "Epoch 188  Loss 15.5050\n",
      "Epoch 189  Loss 17.7993\n",
      "Epoch 190  Loss 28.6049\n",
      "Epoch 191  Loss 19.2151\n",
      "Epoch 192  Loss 12.5438\n",
      "Epoch 193  Loss 16.2016\n",
      "Epoch 194  Loss 10.3841\n",
      "Epoch 195  Loss 14.9766\n",
      "Epoch 196  Loss 19.5062\n",
      "Epoch 197  Loss 13.9147\n",
      "Epoch 198  Loss 12.0820\n",
      "Epoch 199  Loss 12.8767\n"
     ]
    }
   ],
   "source": [
    "for epoch in range(num_epochs):\n",
    "    for x_batch, y_batch in train_kin_dl:\n",
    "        # 1. Generate predictions\n",
    "        pred = model(x_batch)[:,0]\n",
    "\n",
    "        # 2. Calculate loss\n",
    "        loss = loss_fn(pred, y_batch)\n",
    "\n",
    "        # 3. Compute gradients\n",
    "        loss.backward()\n",
    "\n",
    "        # 4. Update parameters using gradients\n",
    "        optimizer.step()\n",
    "\n",
    "        # 5. Reset the gradients to zero\n",
    "        optimizer.zero_grad()\n",
    "        \n",
    "    if epoch % log_epochs==0:\n",
    "        print(f'Epoch {epoch}  Loss {loss.item():.4f}')"
   ]
  },
  {
   "cell_type": "code",
   "execution_count": 106,
   "id": "8e52b54d-6801-46ac-8c16-2402fe301284",
   "metadata": {},
   "outputs": [],
   "source": [
    "test_truth = np.empty(len(test_kin))\n",
    "test_pred = np.empty(len(test_kin))\n",
    "\n",
    "with torch.no_grad():\n",
    "    for i, (test_input, test_output) in enumerate(test_kin):\n",
    "        test_truth[i] = model(test_input)[0].numpy()\n",
    "        test_pred[i] = test_output.numpy()\n",
    "        #test_truth[i] = test_output[0].numpy()\n",
    "        #test_pred[i] = model(test_input)[0, 0].numpy()"
   ]
  },
  {
   "cell_type": "code",
   "execution_count": 108,
   "id": "6a956736-6fcf-4002-ba51-40e18cc5f4d3",
   "metadata": {},
   "outputs": [
    {
     "data": {
      "text/plain": [
       "[<matplotlib.lines.Line2D at 0x7fe471a67c40>]"
      ]
     },
     "execution_count": 108,
     "metadata": {},
     "output_type": "execute_result"
    },
    {
     "data": {
      "image/png": "[encoded data removed]",
      "text/plain": [
       "<Figure size 640x480 with 1 Axes>"
      ]
     },
     "metadata": {},
     "output_type": "display_data"
    }
   ],
   "source": [
    "plt.scatter(test_truth, test_pred)\n",
    "plt.plot([200, 1000], [200, 1000])"
   ]
  }
 ],
 "metadata": {
  "kernelspec": {
   "display_name": "Python 3 (ipykernel)",
   "language": "python",
   "name": "python3"
  },
  "language_info": {
   "codemirror_mode": {
    "name": "ipython",
    "version": 3
   },
   "file_extension": ".py",
   "mimetype": "text/x-python",
   "name": "python",
   "nbconvert_exporter": "python",
   "pygments_lexer": "ipython3",
   "version": "3.10.6"
  }
 },
 "nbformat": 4,
 "nbformat_minor": 5
}
