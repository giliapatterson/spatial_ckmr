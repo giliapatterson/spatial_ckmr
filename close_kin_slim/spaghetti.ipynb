{
 "cells": [
  {
   "cell_type": "code",
   "execution_count": 12,
   "metadata": {},
   "outputs": [],
   "source": [
    "# importing image object from PIL\n",
    "import math\n",
    "from PIL import Image, ImageDraw\n",
    "import pandas as pd\n",
    "import numpy as np\n"
   ]
  },
  {
   "cell_type": "code",
   "execution_count": 13,
   "metadata": {},
   "outputs": [
    {
     "data": {
      "image/png": "[encoded data removed]",
      "text/plain": [
       "<PIL.Image.Image image mode=RGB size=200x200>"
      ]
     },
     "metadata": {},
     "output_type": "display_data"
    }
   ],
   "source": [
    "w, h = 200, 200\n",
    "shape = [(40, 40), (w - 10, h - 10)]\n",
    "\n",
    "# creating new Image object\n",
    "img = Image.new(\"RGB\", (w, h))\n",
    "\n",
    "# create line image\n",
    "img1 = ImageDraw.Draw(img)\n",
    "img1.line(shape, fill =\"white\", width = 0)\n",
    "display(img)"
   ]
  },
  {
   "cell_type": "code",
   "execution_count": 14,
   "metadata": {},
   "outputs": [],
   "source": [
    "x0 = 540\n",
    "y0 = 980\n",
    "x1 = 240\n",
    "y1 = 380"
   ]
  },
  {
   "cell_type": "code",
   "execution_count": 15,
   "metadata": {},
   "outputs": [
    {
     "data": {
      "image/png": "[encoded data removed]",
      "text/plain": [
       "<PIL.Image.Image image mode=RGB size=1000x1000>"
      ]
     },
     "metadata": {},
     "output_type": "display_data"
    }
   ],
   "source": [
    "w, h = 1000, 1000\n",
    "# creating new Image object\n",
    "img = Image.new(\"RGB\", (w, h))\n",
    "\n",
    "# create line image\n",
    "img1 = ImageDraw.Draw(img)\n",
    "img1.line([(x0, y0), (x1, y1)], fill =\"white\", width = 0)\n",
    "img1.line([(x1, y0), (x0, y0)], fill =\"white\", width = 0)\n",
    "display(img)"
   ]
  },
  {
   "cell_type": "code",
   "execution_count": 16,
   "metadata": {},
   "outputs": [
    {
     "name": "stdout",
     "output_type": "stream",
     "text": [
      "                                path    N\n",
      "0  spatial_kin/spatial_sim_5.0_0.csv  292\n",
      "1  spatial_kin/spatial_sim_5.0_1.csv  212\n",
      "2  spatial_kin/spatial_sim_5.0_2.csv  234\n",
      "3  spatial_kin/spatial_sim_5.0_3.csv  235\n",
      "4  spatial_kin/spatial_sim_5.0_4.csv  277\n",
      "5  spatial_kin/spatial_sim_5.0_5.csv  224\n",
      "6  spatial_kin/spatial_sim_5.0_6.csv  227\n",
      "7  spatial_kin/spatial_sim_5.0_7.csv  243\n",
      "8  spatial_kin/spatial_sim_5.0_8.csv  241\n",
      "9  spatial_kin/spatial_sim_5.0_9.csv  269\n"
     ]
    }
   ],
   "source": [
    "base_folder = \"flat_maps_data\"\n",
    "labels = pd.read_csv(base_folder + \"/labels.csv\", names = [\"path\", \"N\"])\n",
    "print(labels.iloc[0:10,:])"
   ]
  },
  {
   "cell_type": "code",
   "execution_count": 22,
   "metadata": {},
   "outputs": [
    {
     "name": "stdout",
     "output_type": "stream",
     "text": [
      "spatial_kin/spatial_sim_6.25_0.csv\n",
      "9.048007225752864\n",
      "9.048007225752864\n",
      "9.490721856242212\n",
      "9.490721856242212\n"
     ]
    }
   ],
   "source": [
    "path = labels[\"path\"].iloc[500]\n",
    "print(path)\n",
    "kin = pd.read_csv(base_folder + \"/\" + path, header = 0)\n",
    "print(np.max(parents[\" x0\"]))\n",
    "print(np.max(parents[\" x1\"]))\n",
    "print(np.max(parents[\" y0\"]))\n",
    "print(np.max(parents[\" y1\"]))"
   ]
  },
  {
   "cell_type": "code",
   "execution_count": 24,
   "metadata": {},
   "outputs": [
    {
     "name": "stdout",
     "output_type": "stream",
     "text": [
      "     # half-sibs   sibs   age0   age1        x0        y0        x1        y1\n",
      "372          1.0    0.0    2.0   15.0  3.258800  3.282990  4.044571  2.276801\n",
      "392          1.0    0.0    2.0    1.0  6.517779  5.149963  6.445997  5.172987\n"
     ]
    }
   ],
   "source": [
    "sib_rows = kin.loc[(kin[\"# half-sibs\"]==1) | (kin[\" sibs\"]==1)]\n",
    "print(sib_rows)"
   ]
  },
  {
   "cell_type": "code",
   "execution_count": 27,
   "metadata": {},
   "outputs": [
    {
     "name": "stdout",
     "output_type": "stream",
     "text": [
      "2\n"
     ]
    }
   ],
   "source": [
    "print(len(sib_rows))"
   ]
  },
  {
   "cell_type": "code",
   "execution_count": 33,
   "metadata": {},
   "outputs": [
    {
     "data": {
      "image/png": "[encoded data removed]",
      "text/plain": [
       "<PIL.Image.Image image mode=RGB size=100x100>"
      ]
     },
     "metadata": {},
     "output_type": "display_data"
    }
   ],
   "source": [
    "w, h = 100, 100\n",
    "# creating new Image object\n",
    "img = Image.new(\"RGB\", (w, h))\n",
    "\n",
    "# create line image\n",
    "img1 = ImageDraw.Draw(img)\n",
    "for i in range(len(sib_rows)):\n",
    "    row = sib_rows.iloc[i]\n",
    "    x0 = row[\" x0\"]*10\n",
    "    x1 = row[\" x1\"]*10\n",
    "    y0 = row[\" y0\"]*10\n",
    "    y1 = row[\" y1\"]*10\n",
    "    img1.line([(x0, y0), (x1, y1)], fill =\"white\", width = 0)\n",
    "display(img)"
   ]
  },
  {
   "cell_type": "code",
   "execution_count": 11,
   "metadata": {},
   "outputs": [
    {
     "data": {
      "text/plain": [
       "array([  0, 255], dtype=uint8)"
      ]
     },
     "execution_count": 11,
     "metadata": {},
     "output_type": "execute_result"
    }
   ],
   "source": [
    "np.unique(img)"
   ]
  },
  {
   "cell_type": "code",
   "execution_count": 37,
   "metadata": {},
   "outputs": [],
   "source": [
    "def spaghetti_plot(kin_rows):\n",
    "    w, h = 100, 100\n",
    "    # creating new Image object\n",
    "    img = Image.new(\"RGB\", (w, h))\n",
    "\n",
    "    # create line image\n",
    "    img1 = ImageDraw.Draw(img)\n",
    "    for i in range(len(sib_rows)):\n",
    "        row = kin_rows.iloc[i]\n",
    "        x0 = row[\" x0\"]*10\n",
    "        x1 = row[\" x1\"]*10\n",
    "        y0 = row[\" y0\"]*10\n",
    "        y1 = row[\" y1\"]*10\n",
    "        img1.line([(x0, y0), (x1, y1)], fill =\"white\", width = 0)\n",
    "    return(img)"
   ]
  },
  {
   "cell_type": "code",
   "execution_count": 38,
   "metadata": {},
   "outputs": [
    {
     "data": {
      "image/png": "[encoded data removed]",
      "text/plain": [
       "<PIL.Image.Image image mode=RGB size=100x100>"
      ]
     },
     "metadata": {},
     "output_type": "display_data"
    }
   ],
   "source": [
    "new_img = spaghetti_plot(sib_rows)\n",
    "display(new_img)"
   ]
  },
  {
   "cell_type": "code",
   "execution_count": null,
   "metadata": {},
   "outputs": [],
   "source": []
  }
 ],
 "metadata": {
  "kernelspec": {
   "display_name": "ckmr_snakemake",
   "language": "python",
   "name": "python3"
  },
  "language_info": {
   "codemirror_mode": {
    "name": "ipython",
    "version": 3
   },
   "file_extension": ".py",
   "mimetype": "text/x-python",
   "name": "python",
   "nbconvert_exporter": "python",
   "pygments_lexer": "ipython3",
   "version": "3.10.6"
  },
  "orig_nbformat": 4
 },
 "nbformat": 4,
 "nbformat_minor": 2
}
