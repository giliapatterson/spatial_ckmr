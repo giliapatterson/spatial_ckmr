{
 "cells": [
  {
   "cell_type": "code",
   "execution_count": 2,
   "metadata": {},
   "outputs": [],
   "source": [
    "import numpy as np\n",
    "from matplotlib import pyplot as plt\n",
    "from scipy import stats\n",
    "import pandas as pd"
   ]
  },
  {
   "cell_type": "code",
   "execution_count": 3,
   "metadata": {},
   "outputs": [],
   "source": [
    "# Functions for sampling and finding kin\n",
    "import sampling_and_kin_functions as skf"
   ]
  },
  {
   "cell_type": "code",
   "execution_count": 4,
   "metadata": {},
   "outputs": [],
   "source": [
    "# Example data\n",
    "parents = pd.read_csv(\"bearded_seal_parents.csv\")"
   ]
  },
  {
   "cell_type": "code",
   "execution_count": 5,
   "metadata": {},
   "outputs": [
    {
     "name": "stdout",
     "output_type": "stream",
     "text": [
      "       individual  parent1  parent2  age sex  sampling_time        x         y\n",
      "0           12104     7912    11179   25   F             40  3.80570  0.323896\n",
      "1           12191     8176     9963   25   F             40  2.27805  2.451270\n",
      "2           12763     6487    12311   24   F             40  1.08258  6.313970\n",
      "3           12892     9385     1705   24   F             40  5.54065  5.391030\n",
      "4           14253     9355    12394   22   F             40  7.91607  7.354790\n",
      "...           ...      ...      ...  ...  ..            ...      ...       ...\n",
      "13453       40034    33079    37112    1   M             60  7.47074  7.812200\n",
      "13454       40050    32399    38461    1   M             60  2.13424  9.004650\n",
      "13455       40057    38006    38521    1   M             60  4.28792  4.508120\n",
      "13456       40063    35863    33161    1   M             60  1.85775  7.802910\n",
      "13457       40066    33679    34459    1   M             60  9.65401  7.412540\n",
      "\n",
      "[13458 rows x 8 columns]\n"
     ]
    }
   ],
   "source": [
    "print(parents)"
   ]
  },
  {
   "cell_type": "code",
   "execution_count": 120,
   "metadata": {},
   "outputs": [],
   "source": [
    "# Add birth year to the data frame\n",
    "# Because individuals are 1 in the year they are born, add 1\n",
    "parents[\"birth_year\"] = parents[\"sampling_time\"] - parents[\"age\"] + 1"
   ]
  },
  {
   "cell_type": "code",
   "execution_count": 121,
   "metadata": {},
   "outputs": [
    {
     "data": {
      "text/html": [
       "<div>\n",
       "<style scoped>\n",
       "    .dataframe tbody tr th:only-of-type {\n",
       "        vertical-align: middle;\n",
       "    }\n",
       "\n",
       "    .dataframe tbody tr th {\n",
       "        vertical-align: top;\n",
       "    }\n",
       "\n",
       "    .dataframe thead th {\n",
       "        text-align: right;\n",
       "    }\n",
       "</style>\n",
       "<table border=\"1\" class=\"dataframe\">\n",
       "  <thead>\n",
       "    <tr style=\"text-align: right;\">\n",
       "      <th></th>\n",
       "      <th>individual</th>\n",
       "      <th>parent1</th>\n",
       "      <th>parent2</th>\n",
       "      <th>age</th>\n",
       "      <th>sex</th>\n",
       "      <th>sampling_time</th>\n",
       "      <th>x</th>\n",
       "      <th>y</th>\n",
       "      <th>birth_year</th>\n",
       "    </tr>\n",
       "  </thead>\n",
       "  <tbody>\n",
       "    <tr>\n",
       "      <th>0</th>\n",
       "      <td>12104</td>\n",
       "      <td>7912</td>\n",
       "      <td>11179</td>\n",
       "      <td>25</td>\n",
       "      <td>F</td>\n",
       "      <td>40</td>\n",
       "      <td>3.80570</td>\n",
       "      <td>0.323896</td>\n",
       "      <td>16</td>\n",
       "    </tr>\n",
       "    <tr>\n",
       "      <th>1</th>\n",
       "      <td>12191</td>\n",
       "      <td>8176</td>\n",
       "      <td>9963</td>\n",
       "      <td>25</td>\n",
       "      <td>F</td>\n",
       "      <td>40</td>\n",
       "      <td>2.27805</td>\n",
       "      <td>2.451270</td>\n",
       "      <td>16</td>\n",
       "    </tr>\n",
       "    <tr>\n",
       "      <th>2</th>\n",
       "      <td>12763</td>\n",
       "      <td>6487</td>\n",
       "      <td>12311</td>\n",
       "      <td>24</td>\n",
       "      <td>F</td>\n",
       "      <td>40</td>\n",
       "      <td>1.08258</td>\n",
       "      <td>6.313970</td>\n",
       "      <td>17</td>\n",
       "    </tr>\n",
       "    <tr>\n",
       "      <th>3</th>\n",
       "      <td>12892</td>\n",
       "      <td>9385</td>\n",
       "      <td>1705</td>\n",
       "      <td>24</td>\n",
       "      <td>F</td>\n",
       "      <td>40</td>\n",
       "      <td>5.54065</td>\n",
       "      <td>5.391030</td>\n",
       "      <td>17</td>\n",
       "    </tr>\n",
       "    <tr>\n",
       "      <th>4</th>\n",
       "      <td>14253</td>\n",
       "      <td>9355</td>\n",
       "      <td>12394</td>\n",
       "      <td>22</td>\n",
       "      <td>F</td>\n",
       "      <td>40</td>\n",
       "      <td>7.91607</td>\n",
       "      <td>7.354790</td>\n",
       "      <td>19</td>\n",
       "    </tr>\n",
       "  </tbody>\n",
       "</table>\n",
       "</div>"
      ],
      "text/plain": [
       "   individual  parent1  parent2  age sex  sampling_time        x         y  \\\n",
       "0       12104     7912    11179   25   F             40  3.80570  0.323896   \n",
       "1       12191     8176     9963   25   F             40  2.27805  2.451270   \n",
       "2       12763     6487    12311   24   F             40  1.08258  6.313970   \n",
       "3       12892     9385     1705   24   F             40  5.54065  5.391030   \n",
       "4       14253     9355    12394   22   F             40  7.91607  7.354790   \n",
       "\n",
       "   birth_year  \n",
       "0          16  \n",
       "1          16  \n",
       "2          17  \n",
       "3          17  \n",
       "4          19  "
      ]
     },
     "execution_count": 121,
     "metadata": {},
     "output_type": "execute_result"
    }
   ],
   "source": [
    "parents.head()"
   ]
  },
  {
   "cell_type": "code",
   "execution_count": 122,
   "metadata": {},
   "outputs": [],
   "source": [
    "# Define sampling intensity grid with one side [bias] times as likely to be sampled as the other\n",
    "sampling_intensity =  np.repeat([np.linspace(1, 10, 10)], 10, axis = 0)\n",
    "\n",
    "# Sample according to the grid and return realized sampling size and sampled individuals\n",
    "ss, sample_rows = skf.sample_grid(parents, sampling_intensity, 2000, 10, 10)\n",
    "sample_parents = parents.iloc[sample_rows]\n",
    "\n",
    "# Find individuals in the sample that have a child in the sample\n",
    "ind_in_p1 = np.isin(sample_parents.loc[:,'individual'].values, sample_parents.loc[:,'parent1'])\n",
    "ind_in_p2 = np.isin(sample_parents.loc[:,'individual'].values, sample_parents.loc[:,'parent2'])\n",
    "\n",
    "# Mothers and Fathers\n",
    "mothers = sample_parents[ind_in_p1]\n",
    "fathers = sample_parents[ind_in_p2]\n",
    "mother_list = mothers.loc[:,'individual'].values\n",
    "father_list = fathers.loc[:,'individual'].values\n",
    "\n",
    "# Find the parents of children in the sample and how many children in the sample they have (the parents don't need to be in the sample)\n",
    "# Mothers are parent1 and fathers are parent2\n",
    "all_mothers, all_mother_counts = np.unique(sample_parents.loc[:,'parent1'].values, return_counts = True)\n",
    "all_fathers, all_father_counts = np.unique(sample_parents.loc[:,'parent2'].values, return_counts = True)\n",
    "\n",
    "# Find parents with multiple children in the sample (parents of siblings)\n",
    "maternal_sib_parents = all_mothers[all_mother_counts > 1]\n",
    "paternal_sib_parents = all_fathers[all_father_counts > 1]\n",
    "\n",
    "# Record POPs and half-sibling pairs\n",
    "# POPs are [parent, offspring], sibs are [sib1, sib2] where sib1 is the sibling with a lower id number (which might mean younger but I'd need to check)\n",
    "maternal_pops = skf.find_POPs_or_sibs(mother_list, sample_parents, \"PO\")\n",
    "paternal_pops = skf.find_POPs_or_sibs(father_list, sample_parents, \"PO\")\n",
    "maternal_sibs = skf.find_POPs_or_sibs(maternal_sib_parents, sample_parents, \"HS\")\n",
    "paternal_sibs = skf.find_POPs_or_sibs(paternal_sib_parents, sample_parents, \"HS\")\n",
    "\n",
    "# Full sibling pairs appear in both maternal and paternal arrays\n",
    "if np.any([x in paternal_sibs for x in maternal_sibs]):\n",
    "    full_sibs = maternal_sibs[np.where([x in paternal_sibs for x in maternal_sibs])[0][0]]\n",
    "else:\n",
    "    full_sibs = []"
   ]
  },
  {
   "cell_type": "code",
   "execution_count": 123,
   "metadata": {},
   "outputs": [
    {
     "name": "stdout",
     "output_type": "stream",
     "text": [
      "{(34, 48, 48, 'F'): 1, (34, 48, 47, 'F'): 1, (27, 52, 50, 'F'): 1, (27, 52, 43, 'F'): 1, (25, 55, 45, 'F'): 1, (25, 55, 41, 'F'): 1, (43, 54, 49, 'F'): 1, (36, 57, 42, 'F'): 1, (32, 41, 41, 'F'): 1, (24, 43, 40, 'F'): 1, (24, 43, 33, 'F'): 1, (24, 43, 35, 'F'): 1, (39, 49, 46, 'F'): 2, (39, 48, 45, 'F'): 1, (33, 41, 41, 'F'): 1, (33, 41, 39, 'F'): 1, (44, 54, 54, 'F'): 1, (39, 57, 51, 'F'): 1, (27, 44, 33, 'F'): 1, (27, 44, 34, 'F'): 1, (36, 43, 43, 'F'): 1, (36, 43, 40, 'F'): 1, (47, 51, 51, 'F'): 1, (41, 56, 47, 'F'): 1, (41, 56, 54, 'F'): 1, (41, 56, 52, 'F'): 1, (41, 56, 51, 'F'): 1, (34, 47, 47, 'F'): 1, (34, 47, 46, 'F'): 1, (34, 47, 40, 'F'): 1, (34, 47, 45, 'F'): 1, (44, 52, 52, 'F'): 1, (44, 52, 51, 'F'): 1, (31, 41, 40, 'F'): 1, (40, 50, 49, 'F'): 1, (37, 42, 42, 'F'): 1, (38, 43, 43, 'F'): 2, (33, 51, 50, 'F'): 1, (33, 51, 45, 'F'): 1, (33, 51, 43, 'F'): 1, (39, 42, 42, 'F'): 1, (32, 47, 43, 'F'): 1, (32, 47, 41, 'F'): 1, (33, 43, 41, 'F'): 1, (33, 43, 43, 'F'): 2, (57, 58, 58, 'F'): 1, (40, 46, 45, 'F'): 1, (40, 46, 44, 'F'): 1, (34, 44, 44, 'F'): 1, (34, 44, 43, 'F'): 1, (32, 45, 44, 'F'): 1, (32, 45, 42, 'F'): 1, (32, 45, 36, 'F'): 1, (39, 54, 47, 'F'): 1, (39, 54, 49, 'F'): 1, (33, 47, 45, 'F'): 1, (33, 47, 44, 'F'): 1, (34, 45, 45, 'F'): 1, (34, 45, 38, 'F'): 1, (56, 60, 58, 'F'): 1, (40, 50, 46, 'F'): 1, (40, 50, 48, 'F'): 1, (35, 58, 58, 'F'): 1, (35, 58, 51, 'F'): 1, (35, 58, 43, 'F'): 1, (31, 40, 39, 'F'): 1, (31, 40, 38, 'F'): 1, (39, 49, 45, 'F'): 1, (39, 49, 43, 'F'): 1, (38, 56, 54, 'F'): 1, (38, 56, 53, 'F'): 1, (39, 50, 44, 'F'): 1, (39, 50, 45, 'F'): 1, (39, 50, 48, 'F'): 1, (28, 41, 40, 'F'): 1, (28, 41, 36, 'F'): 1, (41, 47, 45, 'F'): 1, (44, 57, 52, 'F'): 1, (41, 56, 55, 'F'): 1, (42, 58, 56, 'F'): 1, (51, 57, 56, 'F'): 1, (21, 43, 42, 'F'): 1, (21, 43, 40, 'F'): 1, (44, 51, 49, 'F'): 1, (44, 51, 51, 'F'): 1, (30, 42, 35, 'F'): 1, (30, 42, 40, 'F'): 1, (32, 51, 44, 'F'): 1, (32, 51, 42, 'F'): 1, (36, 50, 40, 'F'): 1, (36, 50, 49, 'F'): 1, (36, 50, 41, 'F'): 1, (36, 50, 47, 'F'): 1, (27, 45, 41, 'F'): 1, (27, 45, 44, 'F'): 1, (27, 45, 45, 'F'): 1, (38, 52, 51, 'F'): 1, (49, 55, 54, 'F'): 1, (49, 55, 55, 'F'): 2, (34, 46, 43, 'F'): 1, (34, 46, 42, 'F'): 1, (44, 60, 57, 'F'): 1, (44, 60, 51, 'F'): 1, (42, 59, 47, 'F'): 1, (42, 59, 46, 'F'): 1, (42, 59, 49, 'F'): 1, (42, 59, 52, 'F'): 1, (42, 59, 56, 'F'): 1, (42, 59, 51, 'F'): 1, (42, 59, 48, 'F'): 1, (30, 40, 40, 'F'): 1, (34, 43, 40, 'F'): 1, (41, 50, 49, 'F'): 1, (34, 40, 39, 'F'): 2, (39, 49, 47, 'F'): 1, (35, 53, 44, 'F'): 1, (29, 43, 33, 'F'): 1, (29, 43, 40, 'F'): 1, (40, 45, 45, 'F'): 1, (36, 44, 44, 'F'): 1, (41, 60, 49, 'F'): 1, (46, 51, 49, 'F'): 1, (38, 47, 41, 'F'): 1, (38, 47, 44, 'F'): 1, (54, 59, 57, 'F'): 1, (38, 47, 46, 'F'): 1, (44, 51, 48, 'F'): 1, (37, 54, 40, 'F'): 1, (37, 54, 51, 'F'): 1, (37, 54, 52, 'F'): 1, (41, 45, 45, 'F'): 1, (34, 40, 40, 'F'): 1, (37, 43, 42, 'F'): 1, (48, 52, 51, 'F'): 1, (50, 60, 59, 'F'): 1, (47, 52, 52, 'F'): 1, (29, 49, 49, 'F'): 1, (29, 49, 39, 'F'): 1, (48, 59, 59, 'F'): 1, (32, 42, 42, 'F'): 1, (28, 42, 40, 'F'): 1, (28, 42, 33, 'F'): 1, (41, 52, 45, 'F'): 1, (39, 50, 50, 'F'): 1, (46, 56, 52, 'F'): 1, (46, 56, 56, 'F'): 1, (46, 56, 55, 'F'): 1, (39, 42, 40, 'F'): 1, (48, 59, 56, 'F'): 1, (48, 59, 51, 'F'): 1, (42, 53, 52, 'F'): 1, (42, 53, 51, 'F'): 1, (33, 49, 49, 'F'): 1, (50, 55, 53, 'F'): 1, (44, 54, 49, 'F'): 1, (44, 54, 52, 'F'): 1, (40, 52, 50, 'F'): 2, (40, 52, 48, 'F'): 2, (38, 53, 51, 'F'): 1, (38, 53, 43, 'F'): 1, (50, 53, 53, 'F'): 1, (35, 48, 41, 'F'): 1, (35, 48, 38, 'F'): 1, (35, 48, 47, 'F'): 1, (35, 48, 46, 'F'): 1, (43, 55, 51, 'F'): 1, (43, 55, 50, 'F'): 1, (43, 55, 52, 'F'): 1, (43, 56, 53, 'F'): 1, (43, 56, 50, 'F'): 1, (43, 56, 54, 'F'): 1, (41, 49, 48, 'F'): 1, (35, 57, 46, 'F'): 1, (35, 57, 40, 'F'): 1, (35, 57, 41, 'F'): 1, (38, 51, 51, 'F'): 1, (38, 43, 40, 'F'): 1, (33, 44, 40, 'F'): 1, (24, 41, 40, 'F'): 2, (24, 41, 36, 'F'): 1, (40, 51, 51, 'F'): 1, (41, 53, 47, 'F'): 1, (41, 53, 46, 'F'): 2, (41, 53, 53, 'F'): 2, (43, 58, 50, 'F'): 1, (43, 58, 52, 'F'): 1, (34, 42, 41, 'F'): 1, (44, 55, 53, 'F'): 1, (40, 47, 45, 'F'): 1, (26, 44, 44, 'F'): 1, (26, 44, 41, 'F'): 1, (41, 53, 52, 'F'): 1, (41, 53, 51, 'F'): 1, (41, 53, 49, 'F'): 1, (46, 60, 60, 'F'): 1, (46, 60, 59, 'F'): 1, (33, 41, 40, 'F'): 1, (27, 41, 38, 'F'): 1, (30, 46, 44, 'F'): 1, (30, 46, 45, 'F'): 1, (30, 50, 45, 'F'): 1, (46, 60, 55, 'F'): 1, (46, 60, 53, 'F'): 1, (46, 58, 53, 'F'): 2, (46, 58, 52, 'F'): 1, (19, 42, 38, 'F'): 1, (35, 46, 42, 'F'): 1, (33, 40, 40, 'F'): 1, (48, 57, 55, 'F'): 1, (48, 57, 57, 'F'): 1, (48, 57, 56, 'F'): 1, (36, 41, 41, 'F'): 2, (33, 43, 39, 'F'): 1, (41, 46, 45, 'F'): 1, (37, 46, 43, 'F'): 2, (44, 60, 50, 'F'): 1, (37, 46, 46, 'F'): 1, (30, 59, 46, 'F'): 1, (30, 59, 41, 'F'): 1, (30, 59, 39, 'F'): 1, (30, 59, 36, 'F'): 1, (35, 44, 40, 'F'): 1, (35, 52, 45, 'F'): 1, (35, 52, 49, 'F'): 1, (38, 47, 47, 'F'): 1, (38, 47, 42, 'F'): 1, (37, 49, 44, 'F'): 1, (41, 50, 48, 'F'): 1, (24, 41, 38, 'F'): 1, (24, 41, 39, 'F'): 1, (41, 52, 48, 'F'): 1, (41, 52, 51, 'F'): 1, (41, 52, 52, 'F'): 1, (46, 52, 51, 'F'): 1, (37, 40, 40, 'F'): 1, (32, 44, 43, 'F'): 1, (32, 44, 44, 'F'): 1, (34, 56, 56, 'F'): 1, (34, 56, 45, 'F'): 1, (34, 56, 46, 'F'): 1, (41, 48, 46, 'F'): 1, (51, 56, 56, 'F'): 1, (44, 50, 49, 'F'): 1, (41, 54, 46, 'F'): 1, (35, 45, 43, 'F'): 1, (35, 45, 41, 'F'): 1, (35, 45, 44, 'F'): 1, (42, 48, 48, 'F'): 1, (28, 47, 40, 'F'): 1, (28, 47, 39, 'F'): 1, (35, 55, 52, 'F'): 1, (35, 55, 50, 'F'): 1, (50, 56, 56, 'F'): 1, (33, 44, 43, 'F'): 2, (34, 55, 50, 'F'): 1, (34, 55, 51, 'F'): 1, (34, 55, 47, 'F'): 1, (31, 45, 37, 'F'): 1, (31, 45, 44, 'F'): 1, (31, 42, 40, 'F'): 1, (31, 42, 41, 'F'): 1, (33, 44, 41, 'F'): 1, (33, 44, 44, 'F'): 1, (46, 58, 56, 'F'): 1, (31, 53, 53, 'F'): 1, (31, 53, 52, 'F'): 1, (47, 55, 52, 'F'): 1, (47, 55, 55, 'F'): 1, (35, 41, 41, 'F'): 1, (30, 51, 37, 'F'): 1, (30, 51, 47, 'F'): 1, (30, 51, 43, 'F'): 1, (33, 46, 39, 'F'): 1, (33, 46, 42, 'F'): 1, (33, 46, 44, 'F'): 1, (39, 50, 47, 'F'): 1, (35, 42, 41, 'F'): 1, (34, 52, 44, 'F'): 1, (38, 52, 49, 'F'): 1, (38, 52, 52, 'F'): 1, (38, 52, 46, 'F'): 1, (22, 43, 39, 'F'): 1, (28, 41, 41, 'F'): 1, (36, 51, 47, 'F'): 1, (38, 50, 45, 'F'): 1, (41, 48, 45, 'F'): 1, (33, 52, 42, 'F'): 1, (33, 52, 50, 'F'): 1, (44, 56, 51, 'F'): 1, (38, 58, 42, 'F'): 1, (38, 58, 49, 'F'): 1, (38, 58, 43, 'F'): 1, (41, 55, 48, 'F'): 1, (41, 55, 53, 'F'): 1, (42, 57, 50, 'F'): 1, (44, 55, 50, 'F'): 1, (44, 55, 51, 'F'): 1, (43, 57, 53, 'F'): 1, (43, 57, 52, 'F'): 1, (43, 57, 54, 'F'): 1, (43, 57, 49, 'F'): 1, (45, 60, 57, 'F'): 1, (32, 48, 40, 'F'): 1, (32, 48, 42, 'F'): 1, (32, 48, 45, 'F'): 1, (32, 48, 48, 'F'): 1, (32, 48, 47, 'F'): 1, (46, 57, 55, 'F'): 1, (39, 53, 47, 'F'): 2, (39, 53, 52, 'F'): 2, (39, 53, 50, 'F'): 2, (39, 53, 53, 'F'): 1, (29, 43, 41, 'F'): 1, (31, 47, 43, 'F'): 1, (31, 47, 45, 'F'): 1, (31, 47, 42, 'F'): 1, (50, 56, 52, 'M'): 2, (25, 41, 39, 'M'): 1, (50, 56, 56, 'M'): 1, (25, 42, 32, 'M'): 1, (28, 42, 40, 'M'): 1, (41, 56, 51, 'M'): 1, (41, 56, 53, 'M'): 2, (41, 56, 48, 'M'): 1, (41, 56, 46, 'M'): 1, (50, 53, 53, 'M'): 1, (50, 53, 52, 'M'): 2, (52, 54, 53, 'M'): 2, (41, 54, 45, 'M'): 1, (44, 50, 48, 'M'): 1, (33, 40, 38, 'M'): 1, (49, 59, 53, 'M'): 1, (49, 59, 55, 'M'): 1, (33, 40, 34, 'M'): 1, (32, 46, 41, 'M'): 1, (32, 46, 40, 'M'): 1, (32, 46, 44, 'M'): 1, (36, 43, 43, 'M'): 2, (47, 53, 49, 'M'): 1, (48, 55, 52, 'M'): 1, (35, 45, 40, 'M'): 2, (35, 45, 43, 'M'): 1, (44, 48, 45, 'M'): 1, (31, 44, 40, 'M'): 1, (36, 47, 40, 'M'): 1, (34, 54, 47, 'M'): 1, (23, 44, 44, 'M'): 1, (23, 44, 41, 'M'): 1, (31, 48, 34, 'M'): 1, (39, 45, 45, 'M'): 1, (39, 49, 48, 'M'): 1, (39, 49, 42, 'M'): 1, (39, 49, 43, 'M'): 1, (39, 49, 45, 'M'): 1, (43, 59, 57, 'M'): 1, (50, 56, 55, 'M'): 1, (28, 51, 49, 'M'): 1, (42, 50, 50, 'M'): 1, (42, 50, 45, 'M'): 1, (43, 53, 49, 'M'): 1, (16, 44, 34, 'M'): 1, (16, 44, 40, 'M'): 1, (51, 59, 59, 'M'): 1, (51, 58, 54, 'M'): 1, (51, 58, 57, 'M'): 1, (50, 57, 52, 'M'): 1, (50, 57, 55, 'M'): 1, (33, 48, 43, 'M'): 1, (33, 48, 42, 'M'): 1, (49, 59, 57, 'M'): 1, (44, 54, 54, 'M'): 1, (44, 54, 48, 'M'): 1, (34, 42, 38, 'M'): 2, (34, 42, 41, 'M'): 1, (32, 46, 45, 'M'): 1, (47, 53, 51, 'M'): 1, (35, 45, 37, 'M'): 1, (35, 45, 36, 'M'): 1, (47, 49, 49, 'M'): 1, (44, 52, 50, 'M'): 1, (44, 52, 45, 'M'): 1, (38, 43, 43, 'M'): 1, (36, 40, 37, 'M'): 1, (37, 55, 53, 'M'): 1, (40, 46, 42, 'M'): 1, (37, 58, 44, 'M'): 1, (37, 58, 47, 'M'): 1, (42, 47, 45, 'M'): 1, (43, 52, 52, 'M'): 1, (43, 52, 46, 'M'): 1, (46, 56, 54, 'M'): 1, (36, 46, 40, 'M'): 1, (36, 46, 43, 'M'): 1, (39, 50, 48, 'M'): 1, (42, 51, 47, 'M'): 1, (42, 51, 44, 'M'): 1, (42, 52, 47, 'M'): 2, (42, 52, 51, 'M'): 1, (41, 45, 43, 'M'): 1, (46, 51, 51, 'M'): 1, (37, 55, 47, 'M'): 1, (37, 55, 46, 'M'): 1, (37, 55, 43, 'M'): 1, (37, 55, 54, 'M'): 1, (37, 55, 48, 'M'): 1, (43, 51, 51, 'M'): 2, (40, 45, 45, 'M'): 1, (40, 45, 41, 'M'): 1, (28, 40, 38, 'M'): 1, (28, 40, 37, 'M'): 1, (47, 51, 48, 'M'): 1, (50, 57, 51, 'M'): 1, (23, 47, 44, 'M'): 1, (48, 56, 50, 'M'): 1, (29, 47, 42, 'M'): 1, (29, 47, 46, 'M'): 1, (29, 47, 43, 'M'): 1, (52, 58, 55, 'M'): 1, (43, 55, 44, 'M'): 1, (43, 55, 46, 'M'): 1, (43, 55, 45, 'M'): 1, (37, 47, 42, 'M'): 1, (37, 47, 43, 'M'): 1, (20, 45, 40, 'M'): 1, (28, 41, 34, 'M'): 1, (37, 53, 51, 'M'): 1, (39, 47, 43, 'M'): 2, (44, 55, 52, 'M'): 1, (44, 55, 54, 'M'): 1, (44, 55, 46, 'M'): 1, (39, 58, 44, 'M'): 1, (39, 58, 40, 'M'): 1, (38, 52, 51, 'M'): 1, (45, 53, 51, 'M'): 1, (45, 53, 50, 'M'): 2, (40, 55, 44, 'M'): 2, (51, 53, 52, 'M'): 1, (36, 48, 48, 'M'): 1, (45, 52, 46, 'M'): 1, (41, 45, 44, 'M'): 1, (42, 54, 46, 'M'): 1, (42, 54, 44, 'M'): 3, (42, 54, 48, 'M'): 2, (30, 41, 41, 'M'): 1, (55, 59, 59, 'M'): 1, (49, 50, 50, 'M'): 2, (37, 43, 40, 'M'): 1, (37, 43, 39, 'M'): 1, (30, 42, 34, 'M'): 1, (30, 42, 41, 'M'): 1, (30, 42, 40, 'M'): 1, (33, 46, 39, 'M'): 1, (52, 56, 53, 'M'): 1, (32, 48, 33, 'M'): 1, (32, 48, 46, 'M'): 1, (33, 43, 42, 'M'): 2, (48, 57, 52, 'M'): 1, (38, 59, 51, 'M'): 2, (38, 59, 44, 'M'): 1, (38, 59, 49, 'M'): 1, (55, 56, 56, 'M'): 1, (43, 51, 50, 'M'): 1, (47, 56, 51, 'M'): 1, (52, 54, 54, 'M'): 1, (24, 41, 31, 'M'): 1, (23, 47, 37, 'M'): 1, (34, 45, 42, 'M'): 1, (33, 41, 41, 'M'): 1, (33, 41, 38, 'M'): 1, (51, 57, 57, 'M'): 1, (45, 49, 46, 'M'): 1, (35, 40, 37, 'M'): 2, (43, 57, 47, 'M'): 1, (43, 48, 48, 'M'): 2, (43, 48, 44, 'M'): 1, (50, 60, 51, 'M'): 1, (37, 45, 43, 'M'): 1, (49, 56, 55, 'M'): 2, (49, 56, 51, 'M'): 1, (30, 40, 40, 'M'): 2, (30, 40, 39, 'M'): 1, (46, 53, 51, 'M'): 1, (46, 53, 53, 'M'): 1, (50, 53, 51, 'M'): 1, (48, 51, 51, 'M'): 1, (31, 44, 41, 'M'): 1, (31, 44, 34, 'M'): 1, (47, 55, 53, 'M'): 1, (40, 52, 50, 'M'): 1, (37, 49, 41, 'M'): 1, (43, 52, 47, 'M'): 1, (37, 40, 38, 'M'): 2, (44, 59, 57, 'M'): 1, (43, 56, 45, 'M'): 1, (29, 43, 36, 'M'): 1, (49, 60, 56, 'M'): 1, (49, 60, 57, 'M'): 1, (36, 41, 37, 'M'): 2, (50, 58, 51, 'M'): 1, (30, 48, 40, 'M'): 1, (30, 48, 45, 'M'): 1, (32, 52, 48, 'M'): 1, (46, 60, 57, 'M'): 1, (46, 60, 49, 'M'): 1, (46, 60, 55, 'M'): 1, (40, 42, 42, 'M'): 1, (43, 48, 45, 'M'): 1, (25, 41, 38, 'M'): 1, (40, 55, 50, 'M'): 1, (40, 55, 49, 'M'): 1, (40, 55, 51, 'M'): 1, (42, 48, 43, 'M'): 1, (52, 55, 55, 'M'): 1, (52, 56, 55, 'M'): 1, (42, 47, 47, 'M'): 1, (44, 50, 50, 'M'): 1, (22, 41, 41, 'M'): 1, (41, 46, 44, 'M'): 1, (40, 50, 49, 'M'): 1, (42, 55, 53, 'M'): 1, (42, 47, 46, 'M'): 1, (42, 47, 43, 'M'): 1, (46, 58, 47, 'M'): 1, (34, 45, 45, 'M'): 2, (39, 46, 43, 'M'): 1, (42, 45, 44, 'M'): 1, (29, 41, 36, 'M'): 1, (41, 49, 47, 'M'): 1, (50, 56, 53, 'M'): 2, (52, 53, 53, 'M'): 1, (32, 46, 43, 'M'): 1, (32, 46, 33, 'M'): 1, (30, 43, 43, 'M'): 1, (40, 54, 42, 'M'): 1, (40, 54, 48, 'M'): 1, (40, 54, 47, 'M'): 1, (40, 54, 51, 'M'): 1, (40, 54, 49, 'M'): 1, (40, 54, 50, 'M'): 1, (26, 40, 40, 'M'): 1, (26, 40, 38, 'M'): 1, (47, 51, 50, 'M'): 1, (47, 51, 49, 'M'): 1, (41, 52, 43, 'M'): 1, (50, 52, 51, 'M'): 1, (31, 42, 39, 'M'): 1, (31, 42, 38, 'M'): 1, (36, 53, 47, 'M'): 1, (40, 52, 42, 'M'): 1, (40, 52, 43, 'M'): 1, (45, 52, 49, 'M'): 1, (46, 49, 47, 'M'): 1, (46, 49, 48, 'M'): 1, (38, 57, 53, 'M'): 1, (38, 57, 51, 'M'): 2, (40, 43, 41, 'M'): 1, (39, 41, 41, 'M'): 1, (39, 60, 48, 'M'): 1, (39, 60, 58, 'M'): 1, (51, 55, 52, 'M'): 1, (46, 56, 56, 'M'): 1, (47, 59, 50, 'M'): 1, (47, 59, 49, 'M'): 1, (40, 51, 49, 'M'): 1, (50, 59, 56, 'M'): 1, (50, 59, 51, 'M'): 1, (31, 49, 40, 'M'): 1, (31, 49, 42, 'M'): 1, (31, 49, 41, 'M'): 1, (46, 57, 50, 'M'): 1, (50, 59, 54, 'M'): 1, (36, 54, 45, 'M'): 1, (36, 54, 41, 'M'): 1, (36, 54, 47, 'M'): 1, (36, 54, 49, 'M'): 1, (30, 46, 45, 'M'): 1, (30, 46, 40, 'M'): 1, (39, 51, 43, 'M'): 1, (39, 51, 51, 'M'): 1, (53, 57, 55, 'M'): 1, (33, 43, 38, 'M'): 1, (54, 58, 55, 'M'): 1, (36, 45, 40, 'M'): 1}\n",
      "{(33, 34, 'F'): 2, (28, 31, 'F'): 1, (35, 38, 'F'): 4, (35, 39, 'F'): 1, (38, 39, 'F'): 4, (22, 38, 'F'): 1, (34, 35, 'F'): 2, (33, 35, 'F'): 3, (30, 40, 'F'): 1, (30, 31, 'F'): 1, (31, 40, 'F'): 1, (24, 26, 'F'): 1, (37, 39, 'F'): 4, (34, 36, 'F'): 1, (40, 42, 'F'): 8, (30, 32, 'F'): 1, (35, 40, 'F'): 4, (33, 40, 'F'): 4, (42, 46, 'F'): 8, (37, 40, 'F'): 4, (32, 35, 'F'): 1, (32, 38, 'F'): 2, (34, 41, 'F'): 2, (38, 40, 'F'): 4, (36, 38, 'F'): 1, (36, 40, 'F'): 3, (40, 41, 'F'): 15, (32, 34, 'F'): 2, (31, 42, 'F'): 1, (32, 39, 'F'): 1, (38, 41, 'F'): 6, (34, 38, 'F'): 1, (41, 45, 'F'): 5, (37, 41, 'F'): 2, (36, 43, 'F'): 1, (36, 42, 'F'): 2, (41, 42, 'F'): 17, (36, 41, 'F'): 2, (41, 44, 'F'): 10, (32, 33, 'F'): 1, (38, 44, 'F'): 1, (37, 44, 'F'): 3, (35, 44, 'F'): 2, (44, 50, 'F'): 5, (37, 38, 'F'): 3, (38, 50, 'F'): 1, (35, 37, 'F'): 2, (37, 50, 'F'): 1, (35, 50, 'F'): 2, (35, 47, 'F'): 1, (42, 47, 'F'): 6, (41, 47, 'F'): 7, (35, 42, 'F'): 1, (35, 41, 'F'): 1, (36, 37, 'F'): 1, (44, 45, 'F'): 13, (39, 43, 'F'): 5, (45, 46, 'F'): 13, (43, 50, 'F'): 7, (46, 49, 'F'): 12, (42, 49, 'F'): 4, (34, 40, 'F'): 1, (40, 47, 'F'): 5, (38, 47, 'F'): 3, (36, 44, 'F'): 2, (39, 40, 'F'): 5, (32, 40, 'F'): 1, (40, 43, 'F'): 9, (32, 43, 'F'): 1, (43, 46, 'F'): 8, (42, 45, 'F'): 8, (42, 44, 'F'): 10, (42, 43, 'F'): 8, (40, 44, 'F'): 4, (43, 44, 'F'): 15, (39, 45, 'F'): 3, (39, 51, 'F'): 1, (39, 52, 'F'): 1, (45, 51, 'F'): 5, (45, 52, 'F'): 2, (51, 52, 'F'): 23, (36, 39, 'F'): 3, (37, 43, 'F'): 5, (30, 37, 'F'): 1, (39, 49, 'F'): 1, (41, 51, 'F'): 1, (40, 51, 'F'): 2, (38, 42, 'F'): 4, (41, 46, 'F'): 7, (39, 46, 'F'): 3, (36, 46, 'F'): 1, (39, 41, 'F'): 6, (38, 45, 'F'): 3, (40, 45, 'F'): 5, (37, 47, 'F'): 2, (43, 47, 'F'): 9, (46, 54, 'F'): 3, (35, 51, 'F'): 1, (43, 45, 'F'): 6, (52, 53, 'F'): 14, (48, 54, 'F'): 5, (45, 54, 'F'): 2, (45, 48, 'F'): 11, (39, 42, 'F'): 4, (40, 48, 'F'): 2, (42, 48, 'F'): 7, (45, 47, 'F'): 8, (47, 48, 'F'): 13, (41, 43, 'F'): 10, (35, 43, 'F'): 2, (43, 52, 'F'): 4, (50, 52, 'F'): 20, (37, 46, 'F'): 2, (39, 47, 'F'): 1, (51, 53, 'F'): 13, (49, 53, 'F'): 8, (45, 53, 'F'): 2, (48, 53, 'F'): 6, (46, 53, 'F'): 4, (47, 53, 'F'): 5, (37, 53, 'F'): 1, (49, 52, 'F'): 10, (48, 52, 'F'): 3, (46, 52, 'F'): 5, (47, 52, 'F'): 8, (37, 52, 'F'): 1, (49, 51, 'F'): 10, (48, 51, 'F'): 8, (46, 51, 'F'): 11, (47, 51, 'F'): 8, (37, 51, 'F'): 1, (45, 49, 'F'): 8, (48, 49, 'F'): 15, (47, 49, 'F'): 13, (37, 49, 'F'): 1, (37, 45, 'F'): 1, (46, 48, 'F'): 11, (37, 48, 'F'): 1, (46, 47, 'F'): 15, (49, 50, 'F'): 9, (47, 50, 'F'): 13, (50, 53, 'F'): 14, (42, 50, 'F'): 3, (47, 54, 'F'): 4, (53, 54, 'F'): 13, (50, 54, 'F'): 9, (40, 54, 'F'): 1, (40, 53, 'F'): 2, (40, 50, 'F'): 2, (39, 44, 'F'): 1, (45, 50, 'F'): 3, (45, 56, 'F'): 1, (46, 56, 'F'): 3, (38, 43, 'F'): 2, (44, 47, 'F'): 6, (44, 46, 'F'): 6, (44, 55, 'F'): 1, (47, 55, 'F'): 3, (46, 55, 'F'): 2, (50, 51, 'F'): 16, (40, 46, 'F'): 3, (41, 48, 'F'): 2, (41, 49, 'F'): 2, (39, 48, 'F'): 1, (38, 46, 'F'): 1, (51, 58, 'F'): 3, (43, 58, 'F'): 1, (43, 51, 'F'): 6, (44, 49, 'F'): 4, (44, 48, 'F'): 7, (44, 51, 'F'): 3, (44, 53, 'F'): 1, (46, 50, 'F'): 5, (40, 49, 'F'): 2, (43, 48, 'F'): 4, (43, 49, 'F'): 3, (40, 52, 'F'): 1, (44, 52, 'F'): 1, (49, 54, 'F'): 6, (48, 50, 'F'): 8, (43, 55, 'F'): 1, (52, 55, 'F'): 7, (51, 55, 'F'): 7, (49, 55, 'F'): 3, (43, 54, 'F'): 2, (52, 54, 'F'): 7, (54, 57, 'F'): 4, (52, 59, 'F'): 3, (54, 59, 'F'): 2, (53, 59, 'F'): 3, (58, 59, 'F'): 3, (50, 59, 'F'): 1, (52, 58, 'F'): 2, (54, 58, 'F'): 3, (53, 58, 'F'): 1, (50, 58, 'F'): 2, (51, 54, 'F'): 8, (53, 60, 'F'): 4, (59, 60, 'F'): 3, (47, 56, 'F'): 5, (47, 59, 'F'): 1, (47, 60, 'F'): 1, (55, 56, 'F'): 9, (55, 59, 'F'): 3, (55, 60, 'F'): 2, (56, 59, 'F'): 3, (56, 60, 'F'): 6, (56, 58, 'F'): 3, (51, 56, 'F'): 6, (50, 56, 'F'): 2, (46, 57, 'F'): 1, (48, 57, 'F'): 1, (51, 57, 'F'): 5, (49, 56, 'F'): 3, (52, 56, 'F'): 3, (48, 56, 'F'): 1, (53, 57, 'F'): 1, (50, 55, 'F'): 3, (54, 55, 'F'): 6, (53, 55, 'F'): 5, (48, 60, 'F'): 1, (50, 57, 'F'): 1, (49, 59, 'F'): 1, (55, 58, 'F'): 4, (56, 57, 'F'): 4, (55, 57, 'F'): 6, (57, 58, 'F'): 4, (53, 56, 'F'): 3, (54, 56, 'F'): 2, (52, 57, 'F'): 1, (57, 59, 'F'): 3, (58, 60, 'F'): 2, (30, 32, 'M'): 1, (28, 34, 'M'): 1, (34, 40, 'M'): 2, (37, 39, 'M'): 2, (35, 37, 'M'): 3, (35, 39, 'M'): 3, (29, 33, 'M'): 1, (21, 22, 'M'): 1, (23, 34, 'M'): 1, (31, 34, 'M'): 1, (36, 40, 'M'): 1, (41, 44, 'M'): 7, (33, 40, 'M'): 2, (40, 40, 'M'): 6, (37, 42, 'M'): 2, (30, 30, 'M'): 1, (49, 49, 'M'): 5, (36, 39, 'M'): 1, (40, 41, 'M'): 14, (33, 34, 'M'): 1, (38, 40, 'M'): 2, (30, 40, 'M'): 1, (29, 35, 'M'): 2, (29, 39, 'M'): 1, (36, 45, 'M'): 1, (31, 39, 'M'): 1, (41, 47, 'M'): 5, (37, 38, 'M'): 1, (31, 33, 'M'): 1, (33, 35, 'M'): 1, (34, 43, 'M'): 1, (48, 50, 'M'): 7, (39, 45, 'M'): 7, (35, 38, 'M'): 1, (35, 42, 'M'): 1, (38, 42, 'M'): 4, (33, 41, 'M'): 1, (32, 43, 'M'): 1, (41, 41, 'M'): 5, (42, 46, 'M'): 5, (42, 43, 'M'): 12, (43, 46, 'M'): 3, (33, 48, 'M'): 1, (40, 46, 'M'): 6, (31, 37, 'M'): 1, (39, 40, 'M'): 5, (40, 45, 'M'): 5, (34, 39, 'M'): 1, (34, 42, 'M'): 1, (38, 38, 'M'): 3, (34, 41, 'M'): 4, (33, 38, 'M'): 2, (32, 35, 'M'): 1, (33, 42, 'M'): 1, (40, 44, 'M'): 4, (50, 51, 'M'): 9, (39, 46, 'M'): 3, (45, 46, 'M'): 6, (35, 35, 'M'): 1, (40, 42, 'M'): 7, (41, 42, 'M'): 13, (43, 44, 'M'): 6, (43, 45, 'M'): 4, (44, 45, 'M'): 10, (49, 52, 'M'): 4, (46, 49, 'M'): 6, (46, 52, 'M'): 6, (38, 39, 'M'): 2, (34, 48, 'M'): 1, (37, 43, 'M'): 1, (33, 46, 'M'): 1, (33, 43, 'M'): 1, (35, 46, 'M'): 1, (41, 45, 'M'): 7, (34, 45, 'M'): 1, (44, 44, 'M'): 9, (44, 49, 'M'): 4, (44, 46, 'M'): 11, (45, 49, 'M'): 6, (37, 45, 'M'): 1, (45, 52, 'M'): 3, (37, 49, 'M'): 1, (37, 52, 'M'): 1, (42, 42, 'M'): 6, (36, 38, 'M'): 1, (37, 40, 'M'): 1, (38, 41, 'M'): 3, (48, 49, 'M'): 6, (34, 37, 'M'): 1, (34, 36, 'M'): 1, (41, 48, 'M'): 2, (35, 40, 'M'): 1, (42, 47, 'M'): 6, (42, 45, 'M'): 7, (44, 48, 'M'): 7, (44, 50, 'M'): 4, (45, 45, 'M'): 5, (37, 37, 'M'): 2, (41, 46, 'M'): 3, (39, 41, 'M'): 3, (46, 47, 'M'): 4, (39, 47, 'M'): 2, (35, 49, 'M'): 1, (41, 50, 'M'): 1, (43, 50, 'M'): 3, (41, 43, 'M'): 5, (43, 43, 'M'): 11, (40, 49, 'M'): 1, (36, 46, 'M'): 1, (37, 41, 'M'): 1, (47, 49, 'M'): 5, (47, 48, 'M'): 7, (40, 43, 'M'): 5, (36, 37, 'M'): 1, (41, 49, 'M'): 5, (45, 47, 'M'): 5, (49, 51, 'M'): 11, (39, 52, 'M'): 1, (47, 52, 'M'): 4, (46, 46, 'M'): 5, (43, 53, 'M'): 1, (39, 39, 'M'): 3, (43, 47, 'M'): 2, (47, 54, 'M'): 2, (46, 54, 'M'): 2, (46, 48, 'M'): 9, (43, 54, 'M'): 3, (43, 48, 'M'): 4, (48, 54, 'M'): 4, (39, 48, 'M'): 2, (40, 48, 'M'): 3, (38, 49, 'M'): 1, (38, 46, 'M'): 1, (48, 51, 'M'): 8, (44, 47, 'M'): 4, (41, 51, 'M'): 1, (46, 55, 'M'): 4, (46, 56, 'M'): 3, (55, 56, 'M'): 4, (39, 43, 'M'): 4, (39, 50, 'M'): 1, (39, 42, 'M'): 5, (48, 53, 'M'): 7, (48, 55, 'M'): 3, (48, 48, 'M'): 4, (47, 53, 'M'): 3, (46, 53, 'M'): 4, (53, 55, 'M'): 5, (47, 55, 'M'): 1, (44, 51, 'M'): 5, (51, 51, 'M'): 7, (49, 50, 'M'): 7, (47, 50, 'M'): 5, (51, 53, 'M'): 8, (42, 48, 'M'): 3, (42, 44, 'M'): 4, (42, 56, 'M'): 1, (42, 59, 'M'): 1, (45, 56, 'M'): 1, (56, 59, 'M'): 1, (45, 59, 'M'): 1, (46, 59, 'M'): 1, (47, 47, 'M'): 2, (40, 47, 'M'): 2, (42, 49, 'M'): 5, (42, 52, 'M'): 1, (41, 53, 'M'): 2, (49, 53, 'M'): 4, (45, 48, 'M'): 2, (43, 51, 'M'): 2, (41, 55, 'M'): 1, (48, 58, 'M'): 1, (50, 53, 'M'): 3, (53, 54, 'M'): 2, (50, 54, 'M'): 3, (42, 51, 'M'): 4, (53, 57, 'M'): 2, (47, 51, 'M'): 6, (43, 49, 'M'): 4, (49, 54, 'M'): 3, (42, 50, 'M'): 4, (47, 58, 'M'): 1, (47, 57, 'M'): 1, (57, 58, 'M'): 4, (46, 51, 'M'): 2, (53, 53, 'M'): 2, (50, 52, 'M'): 5, (46, 50, 'M'): 3, (45, 50, 'M'): 3, (45, 51, 'M'): 4, (55, 55, 'M'): 1, (43, 55, 'M'): 2, (51, 52, 'M'): 6, (52, 53, 'M'): 4, (43, 52, 'M'): 1, (44, 53, 'M'): 1, (57, 59, 'M'): 5, (50, 55, 'M'): 3, (50, 58, 'M'): 2, (55, 58, 'M'): 1, (53, 58, 'M'): 1, (44, 52, 'M'): 1, (49, 57, 'M'): 2, (50, 59, 'M'): 2, (55, 59, 'M'): 4, (51, 54, 'M'): 2, (49, 58, 'M'): 1, (48, 52, 'M'): 1, (52, 54, 'M'): 4, (46, 60, 'M'): 2, (54, 56, 'M'): 3, (54, 54, 'M'): 4, (48, 56, 'M'): 1, (50, 50, 'M'): 4, (53, 59, 'M'): 1, (48, 59, 'M'): 1, (48, 57, 'M'): 1, (51, 59, 'M'): 1, (55, 57, 'M'): 3, (49, 55, 'M'): 4, (56, 58, 'M'): 5, (56, 56, 'M'): 2, (52, 52, 'M'): 2, (54, 57, 'M'): 2, (52, 57, 'M'): 3, (51, 58, 'M'): 2, (52, 60, 'M'): 1, (50, 60, 'M'): 2, (51, 56, 'M'): 2, (52, 56, 'M'): 1, (53, 56, 'M'): 2, (49, 56, 'M'): 2, (56, 57, 'M'): 4, (51, 55, 'M'): 2, (52, 55, 'M'): 3, (51, 57, 'M'): 1, (54, 59, 'M'): 3, (54, 55, 'M'): 4, (59, 60, 'M'): 3, (55, 60, 'M'): 1, (59, 59, 'M'): 3, (58, 58, 'M'): 3, (56, 60, 'M'): 1, (58, 59, 'M'): 1, (58, 60, 'M'): 1}\n"
     ]
    }
   ],
   "source": [
    "# Initialize empty dictionaries to keep track of counts\n",
    "parent_counts = {}\n",
    "sibling_counts = {}\n",
    "\n",
    "# For each parent birth year b1, parent capture year y1, offspring birth year b2, and parent sex g\n",
    "# Count the number of parent offspring pairspairs = np.concatenate([maternal_pops, paternal_pops])\n",
    "pairs = np.concatenate([maternal_pops, paternal_pops])\n",
    "sample_array = sample_parents\n",
    "# pairs: An array of tuples of individual ids\n",
    "# sample_array: Array containing information about each individual\n",
    "for pair in pairs:\n",
    "    index1 = np.where(sample_array.loc[:,'individual'] == pair[0])\n",
    "    index2 = np.where(sample_array.loc[:,'individual'] == pair[1])\n",
    "    row1 = sample_array.iloc[index1]\n",
    "    row2 = sample_array.iloc[index2]\n",
    "    b1 = row1['birth_year'].values[0]\n",
    "    b2 = row2['birth_year'].values[0]\n",
    "    y1 = row1['sampling_time'].values[0]\n",
    "    g =  row1['sex'].values[0]\n",
    "    parent_counts[(b1, y1, b2, g)] = parent_counts.get((b1, y1, b2, g), 0) + 1\n",
    "\n",
    "# For each older sibling birth year b1, younger sibling birth year b2, and parent sex g,\n",
    "# count the number of sibling pairs\n",
    "pairs = maternal_sibs\n",
    "# pairs: An array of tuples of individual ids\n",
    "for pair in pairs:\n",
    "    index1 = np.where(sample_array.loc[:,'individual'] == pair[0])\n",
    "    index2 = np.where(sample_array.loc[:,'individual'] == pair[1])\n",
    "    row1 = sample_array.iloc[index1]\n",
    "    row2 = sample_array.iloc[index2]\n",
    "    sib1_b = row1['birth_year'].values[0]\n",
    "    sib2_b = row2['birth_year'].values[0]\n",
    "    b1, b2 = sorted([sib1_b, sib2_b])\n",
    "    g = 'F'\n",
    "    sibling_counts[(b1, b2, g)] = sibling_counts.get((b1, b2, g), 0) + 1\n",
    "pairs = paternal_sibs\n",
    "# pairs: An array of tuples of individual ids\n",
    "for pair in pairs:\n",
    "    index1 = np.where(sample_array.loc[:,'individual'] == pair[0])\n",
    "    index2 = np.where(sample_array.loc[:,'individual'] == pair[1])\n",
    "    row1 = sample_array.iloc[index1]\n",
    "    row2 = sample_array.iloc[index2]\n",
    "    sib1_b = row1['birth_year'].values[0]\n",
    "    sib2_b = row2['birth_year'].values[0]\n",
    "    b1, b2 = sorted([sib1_b, sib2_b])\n",
    "    g = 'M'\n",
    "    sibling_counts[(b1, b2, g)] = sibling_counts.get((b1, b2, g), 0) + 1\n",
    "\n",
    "print(parent_counts)\n",
    "print(sibling_counts)\n"
   ]
  },
  {
   "cell_type": "code",
   "execution_count": 149,
   "metadata": {},
   "outputs": [],
   "source": [
    "# Survival, fecundity, and population size\n",
    "\n",
    "def S(a, eta1_tilda, eta2_tilda, eta3_tilda, c):\n",
    "    \"\"\"\n",
    "    Survival function\n",
    "    \"\"\"\n",
    "    S = np.exp(-c*((eta1_tilda*a)**eta2_tilda + (eta1_tilda*a)**(1/eta2_tilda) + eta3_tilda - (eta1_tilda*(a-1))**eta2_tilda - (eta1_tilda*(a-1))**(1/eta2_tilda)))\n",
    "    #S = np.exp(-c*((eta1_tilda*a)**eta2_tilda + (eta1_tilda*a)**(1/eta2_tilda) + eta3_tilda*a))\n",
    "    return(S)\n",
    "def f(a, nug1_tilda, nug2_tilda):\n",
    "    \"\"\"\n",
    "    Fecundity function\n",
    "    \"\"\"\n",
    "    return((1 + np.exp(-nug1_tilda*(a - nug2_tilda)))**(-1))\n",
    "def N(max_a, max_t, R0, eta1_tilda, eta2_tilda, eta3_tilda, nu11_tilda, nu12_tilda, c):\n",
    "    \"\"\"\n",
    "    Number of males and females of ages 1, ..., max_a at years 1, ..., max_t\n",
    "    \"\"\"\n",
    "    N_males = np.zeros((max_a + 1, max_t + 1))\n",
    "    N_females = np.zeros((max_a + 1, max_t + 1))\n",
    "    ages = np.arange(max_a + 1)\n",
    "    years = np.arange(max_t + 1)\n",
    "    # Set all time 0 population sizes to NA because time starts at 1\n",
    "    N_males[:, 0] = None\n",
    "    N_females[:, 0] = None\n",
    "    # Set all age 0 population sizes to NA because age starts at 1\n",
    "    N_males[0,:] = None\n",
    "    N_females[0,:] = None\n",
    "    # Initialize the population at time 1\n",
    "    N_males[1, 1] = np.exp(R0)\n",
    "    N_females[1, 1] = np.exp(R0)\n",
    "    # For ages 2 to max_a, initialize as a stable age distribution\n",
    "    for a in ages[2:]:\n",
    "        S_amin1 = S(a - 1, eta1_tilda, eta2_tilda, eta3_tilda, c)\n",
    "        N_males[a, 1] = N_males[a - 1, 1] * S_amin1\n",
    "        N_females[a, 1] = N_females[a - 1, 1] * S_amin1\n",
    "        #print(\"age: \", a, \"time: 1\", \"Ns: \", N_males[a, 1], \"   \", N_females[a, 1])\n",
    "    for t in years[2:]:\n",
    "        # Survival model\n",
    "        for a in ages[2:]:\n",
    "            S_amin1 = S(a - 1, eta1_tilda, eta2_tilda, eta3_tilda, c)\n",
    "            N_males[a, t] = N_males[a - 1, t - 1] * S_amin1\n",
    "            N_females[a, t] = N_females[a - 1, t - 1] * S_amin1\n",
    "            #print(\"age: \", a, \"time: \", t, \"Ns: \", N_males[a, 1], \"   \", N_females[a, 1])\n",
    "        #print(\"age: \", 1, \"time: \", t, \"Ns: \", N_males[a, 1], \"   \", N_females[a, 1])\n",
    "        # Fecundity model\n",
    "        n_new_offspring = np.sum([f(a, nu11_tilda, nu12_tilda) * N_females[a, t] for a in ages[2:,]])\n",
    "        #print(n_new_offspring)\n",
    "        N_males[1, t] = 0.5 * n_new_offspring\n",
    "        N_females[1, t] = 0.5 * n_new_offspring\n",
    "    return N_females, N_males"
   ]
  },
  {
   "cell_type": "code",
   "execution_count": 150,
   "metadata": {},
   "outputs": [],
   "source": [
    "max_a = 37\n",
    "max_t = 60\n",
    "R0 = 15\n",
    "eta1_tilda = np.exp(-2.904)\n",
    "eta2_tilda = 1 + np.exp(0.586)\n",
    "eta3_tilda = np.exp(-2.579)\n",
    "c = 1.111\n",
    "nu11_tilda = 1.264\n",
    "nu12_tilda = 5.424\n",
    "nu21_tilda = 1.868\n",
    "nu22_tilda = 6.5\n",
    "\n",
    "N_females, N_males = N(max_a, max_t, R0, eta1_tilda, eta2_tilda, eta3_tilda, nu11_tilda, nu12_tilda, c)\n"
   ]
  },
  {
   "cell_type": "code",
   "execution_count": 151,
   "metadata": {},
   "outputs": [
    {
     "data": {
      "text/plain": [
       "[<matplotlib.lines.Line2D at 0x17449e150>]"
      ]
     },
     "execution_count": 151,
     "metadata": {},
     "output_type": "execute_result"
    },
    {
     "data": {
      "image/png": "[encoded data removed]",
      "text/plain": [
       "<Figure size 640x480 with 1 Axes>"
      ]
     },
     "metadata": {},
     "output_type": "display_data"
    }
   ],
   "source": [
    "N_total = np.sum(N_females[1:,1:], 0) + np.sum(N_males[1:,1:], 0)\n",
    "plt.plot(N_total)"
   ]
  },
  {
   "cell_type": "markdown",
   "metadata": {},
   "source": [
    "### Parent-offspring probabilities\n",
    "\n",
    "The number of offspring born to parents of sex g in year $b_2$ is:\n",
    "\n",
    "$$\n",
    "\\sum_{a=2}^{37} N_{a, b_2, g}f(a,g)\n",
    "$$\n",
    "\n",
    "An individual that was born in year $b_1 < b_2$ was $b_2 - b1 + 1$ years old in year $b_2$ and on average had $f(b_2 - b_1 + 1,g)$ offspring in year $b_2$.\n",
    "\n",
    "An individual born in year $b_1$ and sampled in year $y_1$ can be the parent of an individual born in year  $b_2$ if:\n",
    "\n",
    "- Parent was sampled in the year of the offspring’s birth or after: $y_1 \\geq b2$\n",
    "- Parent was sampled within its lifetime: $b_1 < y_1 \\leq b_1 + 37$\n",
    "- Offspring was born before the parent died: $b_2 \\leq b_1 + 37$\n",
    "\n",
    "So, the parent-offspring pair probability for parent birth year, parent capture year, offspring birth year, and parent sex $b_1, y_1, b_2, g$ is:\n",
    "\n",
    "$$\n",
    "\\frac{f(b_2 - b_1 + 1, g)}{\\sum_{a=2}^{37} N_{a, b_2, g}f(a,g)}, y_1 \\geq b_2, b_1 < y_1 \\leq b_1 + 37, b_2 \\leq b_1 + 37\n",
    "$$"
   ]
  },
  {
   "cell_type": "code",
   "execution_count": 160,
   "metadata": {},
   "outputs": [
    {
     "name": "stdout",
     "output_type": "stream",
     "text": [
      "1.5438035085985209e-07\n"
     ]
    }
   ],
   "source": [
    "# Calculating probability of parent-offspring pair\n",
    "b1 = 20 # Parent birth year\n",
    "y1 = 50 # Parent capture year\n",
    "b2 = 40 # Offspring birth year\n",
    "g = 1 # Parent sex\n",
    "max_a = 37\n",
    "def POP_probability(b1, y1, b2, g, max_a = 37):\n",
    "    ages = np.arange(1,max_a + 1)\n",
    "    if y1 >= b2 and b1 < y1 <= b1 + max_a and b1 <= b2 <= b1 + max_a:\n",
    "        if g == 1:\n",
    "            nug1_tilda = nu11_tilda\n",
    "            nug2_tilda = nu12_tilda\n",
    "            N_g = N_females\n",
    "        if g ==2:\n",
    "            nug1_tilda = nu21_tilda\n",
    "            nug2_tilda = nu22_tilda\n",
    "            N_g = N_males\n",
    "        # Total reproductive output in the offpsring birth year of all individuals of gender g alive at that time\n",
    "        erro = np.sum([f(a, nug1_tilda, nug2_tilda) * N_g[a, b2] for a in ages[2:]])\n",
    "        # Fecundity of parent in offspring birth year\n",
    "        f_parent = f(b2 - b1 + 1, nug1_tilda, nug2_tilda)\n",
    "        p_pop = f_parent/erro\n",
    "    else:\n",
    "        p_pop = 0\n",
    "    return(p_pop)\n",
    "print(POP_probability(b1, y1, b2, g))"
   ]
  },
  {
   "cell_type": "markdown",
   "metadata": {},
   "source": [
    "### Half sibling probabilities\n",
    "\n",
    "Older sibling birth year $b_1$, younger sibling birth year $b_2$, parent sex $g$\n",
    "\n",
    "In year $b_1$, there are $N_a, b_1, g$ potential parents of age $a$ and sex $g$.\n",
    "\n",
    "The probability that one of these potential parents is the parent of the older sibling is:\n",
    "\n",
    "$$\n",
    "\\frac{f(a, g)}{\\sum_{a'=2}^{37} N_{a', b_1, g}f(a',g)}\n",
    "$$\n",
    "\n",
    "Between the reproduction step of year $b_1$ and the reproduction step of year $b_2$, an individual goes through the survival step in years $y\\in [b_1, ..., b_2 - 1]$. If the individual is of age $a$ in year $b_1$, then it is age $a^* = a + y - b_1 \\in [a,...,a + b_2 - 1 - b_1]$. So the probability that the potential parent survives until the reproduction step of the year the younger sibling is born is:\n",
    "\n",
    "$$\n",
    "\\prod_{y = b_1}^{b_2-1}S_{a + y - b_1}\n",
    "$$\n",
    "\n",
    "In the year of the younger siblings birth, the potential parent is age $a + b_2 - b_1$.\n",
    "\n",
    "The probability the potential parent is the sibling of the younger sibling is:\n",
    "\n",
    "$$\n",
    "\\frac{f(a + b_2 - b_1, g)}{\\sum_{a'=2}^{37} N_{a', b_2, g}f(a',g)}\n",
    "$$\n",
    "\n",
    "So the half-sibling probability is:\n",
    "\n",
    "$$\n",
    "\\sum_{a = 1}^{37} \\frac{f(a, g)}{\\sum_{a'=2}^{37} N_{a', b_1, g}f(a',g)}\\prod_{y = b_1}^{b_2-1}S_{a + y - b_1}\\frac{f(a + b_2 - b_1, g)}{\\sum_{a'=2}^{37} N_{a', b_2, g}f(a',g)}\n",
    "$$"
   ]
  },
  {
   "cell_type": "code",
   "execution_count": 161,
   "metadata": {},
   "outputs": [
    {
     "name": "stdout",
     "output_type": "stream",
     "text": [
      "3.406789234741717e-12\n"
     ]
    }
   ],
   "source": [
    "# Calculating probability of half-sibling pair\n",
    "b1 = 10 # Older sibling birth year\n",
    "b2 = 40 # Younger sibling birth year\n",
    "g = 1 # Parent sex\n",
    "max_a = 37\n",
    "def HS_probability(b1, b2, g, max_a = 37):\n",
    "    ages = np.arange(1,max_a + 1)\n",
    "    if g == 1:\n",
    "        nug1_tilda = nu11_tilda\n",
    "        nug2_tilda = nu12_tilda\n",
    "        N_g = N_females\n",
    "    if g ==2:\n",
    "        nug1_tilda = nu21_tilda\n",
    "        nug2_tilda = nu22_tilda\n",
    "        N_g = N_males\n",
    "    p_hs = 0\n",
    "    # Sum over all possible ages\n",
    "    for a in ages:\n",
    "        # Total number of individuals of sex g and age a in the older sibling birth year\n",
    "        N_ab1g = N_g[a, b1]\n",
    "        # Total expected reproductive output of all individuals of sex g in the older sibling birth year\n",
    "        erro_b1 = np.sum([f(a_prime, nug1_tilda, nug2_tilda) * N_g[a_prime, b1] for a_prime in ages[2:]])\n",
    "        # Probability that an individual of age a in the older sibling birth year is the parent of the older sibling\n",
    "        p_parent_older_sib = f(a, nug1_tilda, nug2_tilda)/erro_b1\n",
    "        # Probability that an individual of age a in the older sibling birth year survived until the younger sibling birth year\n",
    "        p_survived = np.prod([S(a + y - b1, eta1_tilda, eta2_tilda, eta3_tilda, c) for y in np.arange(b1, b2)])\n",
    "        # Total expected reproductive output of all individuals of sex g in the younger sibling birth year\n",
    "        erro_b2 = np.sum([f(a_prime, nug1_tilda, nug2_tilda) * N_g[a_prime, b2] for a_prime in ages[2:]])\n",
    "        # Probability that an individual of age a in the older sibling birth year is the parent of the younber sibling\n",
    "        p_parent_younger_sib = f(a + b2 - b1, nug1_tilda, nug2_tilda)/erro_b2\n",
    "        p_hs += N_ab1g * p_parent_older_sib * p_survived * p_parent_younger_sib\n",
    "    return(p_hs)\n",
    "print(HS_probability(b1, b2, g, max_a))\n"
   ]
  },
  {
   "cell_type": "code",
   "execution_count": null,
   "metadata": {},
   "outputs": [],
   "source": [
    "# Define the log likelihood function\n",
    "# Parameters to estimate: R0, eta1_tilda, eta2_tilda, eta3_tilda, nu11_tilda, nu12_tilda, nu21_tilda, nu22_tilda\n",
    "# Observations: parent_counts, sibling_counts\n",
    "max_a = 37\n",
    "max_t = 60\n",
    "R0 = 15\n",
    "eta1_tilda = np.exp(-2.904)\n",
    "eta2_tilda = 1 + np.exp(0.586)\n",
    "eta3_tilda = np.exp(-2.579)\n",
    "c = 1.111\n",
    "nu11_tilda = 1.264\n",
    "nu12_tilda = 5.424\n",
    "nu21_tilda = 1.868\n",
    "nu22_tilda = 6.5\n",
    "N_females, N_males = N(max_a, max_t, R0, eta1_tilda, eta2_tilda, eta3_tilda, nu11_tilda, nu12_tilda, c)\n",
    "\n"
   ]
  },
  {
   "cell_type": "code",
   "execution_count": null,
   "metadata": {},
   "outputs": [],
   "source": [
    "def ll(params, parent_counts, sibling_counts):\n",
    "    \"\"\"\n",
    "    Log likelihood function of params given parent and sibling pair counts\n",
    "    \"\"\"\n",
    "    # Unpack the parameters\n",
    "    R0, eta1_tilda, eta2_tilda, eta3_tilda, nu11_tilda, nu12_tilda, nu21_tilda, nu22_tilda = params\n",
    "    "
   ]
  },
  {
   "cell_type": "code",
   "execution_count": 137,
   "metadata": {},
   "outputs": [
    {
     "data": {
      "text/plain": [
       "array([10, 11])"
      ]
     },
     "execution_count": 137,
     "metadata": {},
     "output_type": "execute_result"
    }
   ],
   "source": [
    "np.arange(b1, b2)"
   ]
  },
  {
   "cell_type": "code",
   "execution_count": 27,
   "metadata": {},
   "outputs": [
    {
     "name": "stdout",
     "output_type": "stream",
     "text": [
      "0.17359934371473326\n",
      "0.04461961540616243\n"
     ]
    }
   ],
   "source": [
    "eta1 = np.exp(-2.904)\n",
    "eta2 = 1 + np.exp(0.586)\n",
    "eta3 = np.exp(-2.579)\n",
    "nu1 = 1.264\n",
    "nu2 = 5.424\n",
    "print(S(10, eta1, eta2, eta3))\n",
    "print(f(3, nu1, nu2))"
   ]
  }
 ],
 "metadata": {
  "kernelspec": {
   "display_name": "ckmr_snakemake",
   "language": "python",
   "name": "python3"
  },
  "language_info": {
   "codemirror_mode": {
    "name": "ipython",
    "version": 3
   },
   "file_extension": ".py",
   "mimetype": "text/x-python",
   "name": "python",
   "nbconvert_exporter": "python",
   "pygments_lexer": "ipython3",
   "version": "3.11.6"
  }
 },
 "nbformat": 4,
 "nbformat_minor": 2
}
