{
 "cells": [
  {
   "cell_type": "code",
   "execution_count": 2,
   "metadata": {},
   "outputs": [],
   "source": [
    "import msprime, pyslim\n",
    "import tskit\n",
    "import json\n",
    "import numpy as np\n",
    "from matplotlib import pyplot as plt\n",
    "from scipy import stats\n",
    "import itertools\n",
    "import math\n",
    "import pandas as pd\n",
    "from PIL import Image, ImageDraw\n",
    "import seaborn as sns\n",
    "rng = np.random.default_rng()\n"
   ]
  },
  {
   "cell_type": "code",
   "execution_count": 3,
   "metadata": {},
   "outputs": [
    {
     "name": "stdout",
     "output_type": "stream",
     "text": [
      "// Initial random seed:\n",
      "119\n",
      "\n",
      "// RunInitializeCallbacks():\n",
      "initializeSLiMModelType(modelType = 'nonWF');\n",
      "initializeSLiMOptions(keepPedigrees = T, dimensionality = 'xy');\n",
      "initializeSex(\"A\");\n",
      "22026\n",
      "initializeInteractionType(1, \"xy\", reciprocal=T, maxDistance=0.56419, sexSegregation=\"FM\");\n",
      "initializeMutationType(1, 0.5, \"f\", 0);\n",
      "initializeGenomicElementType(1, m1, 1);\n",
      "initializeGenomicElement(g1, 0, 99999);\n",
      "initializeMutationRate(0);\n",
      "initializeRecombinationRate(1e-08);\n",
      "\n",
      "// Starting run at tick <start>:\n",
      "1 \n",
      "\n"
     ]
    }
   ],
   "source": [
    "%%bash\n",
    "slim -s 119 -d R0=10 bearded_seals.slim"
   ]
  },
  {
   "cell_type": "code",
   "execution_count": 4,
   "metadata": {},
   "outputs": [],
   "source": [
    "parents = pd.read_csv(\"bearded_seal_parents.csv\")"
   ]
  },
  {
   "cell_type": "markdown",
   "metadata": {},
   "source": [
    "### Define a sampling intensity grid and sample from dead animals for each year according to the grid"
   ]
  },
  {
   "cell_type": "code",
   "execution_count": 5,
   "metadata": {},
   "outputs": [],
   "source": [
    "# Divide into years\n",
    "sample_year = 41\n",
    "sample_parents = parents.loc[parents.sampling_time == sample_year]"
   ]
  },
  {
   "cell_type": "code",
   "execution_count": 6,
   "metadata": {},
   "outputs": [],
   "source": [
    "def sample_cell(sample_parents, xmin, xmax, ymin, ymax, nmax):\n",
    "    # Sample from individuals within one grid cell\n",
    "    in_i = np.where(np.logical_and(np.logical_and(sample_parents.loc[:,'x'] <= xmax, sample_parents.loc[:,'x'] >= xmin),\n",
    "                np.logical_and(sample_parents.loc[:,'y'] >= ymin, sample_parents.loc[:,'y'] <= ymax)))[0]\n",
    "    # Sample size is nmax or the number of individuals in the area\n",
    "    ss = min(len(in_i), nmax)\n",
    "    sample_rows = rng.choice(in_i, ss, replace = False)\n",
    "    return(ss, sample_rows)"
   ]
  },
  {
   "cell_type": "code",
   "execution_count": 8,
   "metadata": {},
   "outputs": [],
   "source": [
    "def sample_grid(individuals, sampling_intensity, n, width = 10, height = 10):\n",
    "    # Sample from each grid cell\n",
    "    # Sample size \n",
    "    ss = np.array(np.ceil(n*sampling_intensity/np.sum(sampling_intensity)), dtype = int)\n",
    "    # Keep track of actual sample sizes (since if there are fewer than ss individuals in a grid cell, all are sampled)\n",
    "    realized_ss = np.zeros(ss.shape, dtype = int)\n",
    "    \n",
    "    # Width and height of grid cells\n",
    "    x_cells = ss.shape[0]\n",
    "    y_cells = ss.shape[1]\n",
    "    dx = width/x_cells\n",
    "    dy = height/y_cells\n",
    "    \n",
    "    # Keep track of sampled rows\n",
    "    #sample_rows = np.empty(round(np.sum(ss)), dtype = int)\n",
    "    sample_rows = np.empty(0, dtype = int)\n",
    "    # Sample from each grid cell\n",
    "    for ix, iy in np.ndindex(ss.shape):\n",
    "        xmin = dx*ix\n",
    "        xmax = dx*ix + dx\n",
    "        ymin = dy*iy\n",
    "        ymax = dy*iy + dy\n",
    "        nmax = ss[ix, iy]\n",
    "        realized_ss[ix, iy], grid_rows = sample_cell(individuals, xmin, xmax, ymin, ymax, nmax)\n",
    "        sample_rows = np.concatenate([sample_rows, grid_rows])\n",
    "    return(realized_ss, sample_rows)"
   ]
  },
  {
   "cell_type": "code",
   "execution_count": 10,
   "metadata": {},
   "outputs": [
    {
     "name": "stdout",
     "output_type": "stream",
     "text": [
      "[[1.         1.11111111 1.22222222 1.33333333 1.44444444 1.55555556\n",
      "  1.66666667 1.77777778 1.88888889 2.        ]\n",
      " [1.         1.11111111 1.22222222 1.33333333 1.44444444 1.55555556\n",
      "  1.66666667 1.77777778 1.88888889 2.        ]\n",
      " [1.         1.11111111 1.22222222 1.33333333 1.44444444 1.55555556\n",
      "  1.66666667 1.77777778 1.88888889 2.        ]\n",
      " [1.         1.11111111 1.22222222 1.33333333 1.44444444 1.55555556\n",
      "  1.66666667 1.77777778 1.88888889 2.        ]\n",
      " [1.         1.11111111 1.22222222 1.33333333 1.44444444 1.55555556\n",
      "  1.66666667 1.77777778 1.88888889 2.        ]\n",
      " [1.         1.11111111 1.22222222 1.33333333 1.44444444 1.55555556\n",
      "  1.66666667 1.77777778 1.88888889 2.        ]\n",
      " [1.         1.11111111 1.22222222 1.33333333 1.44444444 1.55555556\n",
      "  1.66666667 1.77777778 1.88888889 2.        ]\n",
      " [1.         1.11111111 1.22222222 1.33333333 1.44444444 1.55555556\n",
      "  1.66666667 1.77777778 1.88888889 2.        ]\n",
      " [1.         1.11111111 1.22222222 1.33333333 1.44444444 1.55555556\n",
      "  1.66666667 1.77777778 1.88888889 2.        ]\n",
      " [1.         1.11111111 1.22222222 1.33333333 1.44444444 1.55555556\n",
      "  1.66666667 1.77777778 1.88888889 2.        ]]\n",
      "[[ 7  8  9  9 10 11 12 12 13 14]\n",
      " [ 7  8  9  9 10 11 12 12 13 14]\n",
      " [ 7  8  9  9 10 11 12 12 13 14]\n",
      " [ 7  8  9  9 10 11 12 12 13 14]\n",
      " [ 7  8  9  9 10 11 12 12 13 14]\n",
      " [ 7  8  9  9 10 11 12 12 13 14]\n",
      " [ 7  8  9  9 10 11 12 12 13 14]\n",
      " [ 7  8  9  9 10 11 12 12 13 14]\n",
      " [ 7  8  9  9 10 11 12 12 13 14]\n",
      " [ 7  8  9  9 10 11 12 12 13 14]]\n"
     ]
    }
   ],
   "source": [
    "sampling_intensity =  np.ones((10,10))*np.linspace(1, 2, 10)\n",
    "print(sampling_intensity)\n",
    "ss, sample_rows = sample_grid(parents, sampling_intensity, 1000, 10, 10)\n",
    "print(ss)\n",
    "sample = parents.iloc[sample_rows]"
   ]
  },
  {
   "cell_type": "code",
   "execution_count": 11,
   "metadata": {},
   "outputs": [],
   "source": [
    "def make_spaghetti(sample_parents, max_width, max_height):\n",
    "    # creating new Image object for spaghetti and sampling\n",
    "    w, h = 500, 500\n",
    "    spaghetti = Image.new(\"1\", (w, h))\n",
    "    sampling = Image.new(\"1\", (w, h))\n",
    "    img1 = ImageDraw.Draw(spaghetti)\n",
    "    img2 = ImageDraw.Draw(sampling)\n",
    "\n",
    "    # Find individuals with a parent that is in the sample\n",
    "    p_in_i = np.isin(sample_parents.loc[:,'parent1'], sample_parents.loc[:,'individual'])\n",
    "    npairs = sum(p_in_i)\n",
    "\n",
    "    # Get location of parent-offspring pairs and plot\n",
    "    children = sample_parents.loc[p_in_i, :]\n",
    "    for child_i, child_row in children.iterrows():\n",
    "        parent_i = np.where(sample_parents.loc[:,'individual'] == child_row['parent1'])[0][0]\n",
    "        parent_row = sample_parents.iloc[parent_i,:]\n",
    "        # print(parent_row['individual'], child_row['individual'])\n",
    "        x_child, y_child = child_row[['x','y']]\n",
    "        x_parent, y_parent = parent_row[['x','y']]\n",
    "        img1.line([(x_child*w/max_width, y_child*h/max_height), (x_parent*w/max_width, y_parent*h/max_height)], fill =\"white\", width = 0)\n",
    "\n",
    "    # Plot sampling\n",
    "    for ind_i, ind_row in sample_parents.iterrows():\n",
    "        x, y = ind_row[['x','y']]\n",
    "        img2.point((x*w/max_width, y*h/max_height), fill = \"white\")\n",
    "    return(spaghetti, sampling)"
   ]
  },
  {
   "cell_type": "code",
   "execution_count": 13,
   "metadata": {},
   "outputs": [
    {
     "data": {
      "image/png": "[encoded data removed]",
      "text/plain": [
       "<PIL.Image.Image image mode=1 size=500x500>"
      ]
     },
     "metadata": {},
     "output_type": "display_data"
    },
    {
     "data": {
      "image/png": "[encoded data removed]",
      "text/plain": [
       "<PIL.Image.Image image mode=1 size=500x500>"
      ]
     },
     "metadata": {},
     "output_type": "display_data"
    },
    {
     "data": {
      "text/plain": [
       "<AxesSubplot: >"
      ]
     },
     "execution_count": 13,
     "metadata": {},
     "output_type": "execute_result"
    },
    {
     "data": {
      "image/png": "[encoded data removed]",
      "text/plain": [
       "<Figure size 640x480 with 2 Axes>"
      ]
     },
     "metadata": {},
     "output_type": "display_data"
    }
   ],
   "source": [
    "spaghetti, sampling = make_spaghetti(sample, 10, 10)\n",
    "display(spaghetti)\n",
    "display(sampling)\n",
    "sns.heatmap(sampling_intensity)"
   ]
  },
  {
   "cell_type": "code",
   "execution_count": 163,
   "metadata": {},
   "outputs": [
    {
     "data": {
      "text/html": [
       "<div>\n",
       "<style scoped>\n",
       "    .dataframe tbody tr th:only-of-type {\n",
       "        vertical-align: middle;\n",
       "    }\n",
       "\n",
       "    .dataframe tbody tr th {\n",
       "        vertical-align: top;\n",
       "    }\n",
       "\n",
       "    .dataframe thead th {\n",
       "        text-align: right;\n",
       "    }\n",
       "</style>\n",
       "<table border=\"1\" class=\"dataframe\">\n",
       "  <thead>\n",
       "    <tr style=\"text-align: right;\">\n",
       "      <th></th>\n",
       "      <th>individual</th>\n",
       "      <th>parent1</th>\n",
       "      <th>parent2</th>\n",
       "      <th>age</th>\n",
       "      <th>sampling_time</th>\n",
       "      <th>x</th>\n",
       "      <th>y</th>\n",
       "    </tr>\n",
       "  </thead>\n",
       "  <tbody>\n",
       "    <tr>\n",
       "      <th>0</th>\n",
       "      <td>33116</td>\n",
       "      <td>16391</td>\n",
       "      <td>32692</td>\n",
       "      <td>18</td>\n",
       "      <td>40</td>\n",
       "      <td>2.257360</td>\n",
       "      <td>7.95779</td>\n",
       "    </tr>\n",
       "    <tr>\n",
       "      <th>1</th>\n",
       "      <td>34603</td>\n",
       "      <td>23871</td>\n",
       "      <td>31567</td>\n",
       "      <td>17</td>\n",
       "      <td>40</td>\n",
       "      <td>9.828050</td>\n",
       "      <td>2.17575</td>\n",
       "    </tr>\n",
       "    <tr>\n",
       "      <th>2</th>\n",
       "      <td>34768</td>\n",
       "      <td>27961</td>\n",
       "      <td>31348</td>\n",
       "      <td>17</td>\n",
       "      <td>40</td>\n",
       "      <td>2.658220</td>\n",
       "      <td>5.08471</td>\n",
       "    </tr>\n",
       "    <tr>\n",
       "      <th>3</th>\n",
       "      <td>35114</td>\n",
       "      <td>25164</td>\n",
       "      <td>30558</td>\n",
       "      <td>16</td>\n",
       "      <td>40</td>\n",
       "      <td>0.223629</td>\n",
       "      <td>3.71026</td>\n",
       "    </tr>\n",
       "    <tr>\n",
       "      <th>4</th>\n",
       "      <td>35559</td>\n",
       "      <td>26638</td>\n",
       "      <td>22147</td>\n",
       "      <td>16</td>\n",
       "      <td>40</td>\n",
       "      <td>9.402830</td>\n",
       "      <td>7.15000</td>\n",
       "    </tr>\n",
       "    <tr>\n",
       "      <th>...</th>\n",
       "      <td>...</td>\n",
       "      <td>...</td>\n",
       "      <td>...</td>\n",
       "      <td>...</td>\n",
       "      <td>...</td>\n",
       "      <td>...</td>\n",
       "      <td>...</td>\n",
       "    </tr>\n",
       "    <tr>\n",
       "      <th>23682</th>\n",
       "      <td>75461</td>\n",
       "      <td>68296</td>\n",
       "      <td>70176</td>\n",
       "      <td>1</td>\n",
       "      <td>60</td>\n",
       "      <td>1.135510</td>\n",
       "      <td>8.32781</td>\n",
       "    </tr>\n",
       "    <tr>\n",
       "      <th>23683</th>\n",
       "      <td>75474</td>\n",
       "      <td>70366</td>\n",
       "      <td>60024</td>\n",
       "      <td>1</td>\n",
       "      <td>60</td>\n",
       "      <td>0.568598</td>\n",
       "      <td>1.34636</td>\n",
       "    </tr>\n",
       "    <tr>\n",
       "      <th>23684</th>\n",
       "      <td>75476</td>\n",
       "      <td>63869</td>\n",
       "      <td>71071</td>\n",
       "      <td>1</td>\n",
       "      <td>60</td>\n",
       "      <td>0.523860</td>\n",
       "      <td>3.67937</td>\n",
       "    </tr>\n",
       "    <tr>\n",
       "      <th>23685</th>\n",
       "      <td>75492</td>\n",
       "      <td>63462</td>\n",
       "      <td>66153</td>\n",
       "      <td>1</td>\n",
       "      <td>60</td>\n",
       "      <td>6.700600</td>\n",
       "      <td>7.72811</td>\n",
       "    </tr>\n",
       "    <tr>\n",
       "      <th>23686</th>\n",
       "      <td>75547</td>\n",
       "      <td>65046</td>\n",
       "      <td>68462</td>\n",
       "      <td>1</td>\n",
       "      <td>60</td>\n",
       "      <td>2.474940</td>\n",
       "      <td>1.29701</td>\n",
       "    </tr>\n",
       "  </tbody>\n",
       "</table>\n",
       "<p>23687 rows × 7 columns</p>\n",
       "</div>"
      ],
      "text/plain": [
       "       individual  parent1  parent2  age  sampling_time         x        y\n",
       "0           33116    16391    32692   18             40  2.257360  7.95779\n",
       "1           34603    23871    31567   17             40  9.828050  2.17575\n",
       "2           34768    27961    31348   17             40  2.658220  5.08471\n",
       "3           35114    25164    30558   16             40  0.223629  3.71026\n",
       "4           35559    26638    22147   16             40  9.402830  7.15000\n",
       "...           ...      ...      ...  ...            ...       ...      ...\n",
       "23682       75461    68296    70176    1             60  1.135510  8.32781\n",
       "23683       75474    70366    60024    1             60  0.568598  1.34636\n",
       "23684       75476    63869    71071    1             60  0.523860  3.67937\n",
       "23685       75492    63462    66153    1             60  6.700600  7.72811\n",
       "23686       75547    65046    68462    1             60  2.474940  1.29701\n",
       "\n",
       "[23687 rows x 7 columns]"
      ]
     },
     "execution_count": 163,
     "metadata": {},
     "output_type": "execute_result"
    }
   ],
   "source": [
    "parents"
   ]
  },
  {
   "cell_type": "code",
   "execution_count": 165,
   "metadata": {},
   "outputs": [
    {
     "data": {
      "text/plain": [
       "array([[0., 0., 0., 0., 0., 0., 0., 0., 0., 0.],\n",
       "       [0., 0., 0., 0., 0., 0., 0., 0., 0., 0.],\n",
       "       [0., 0., 0., 0., 0., 0., 0., 0., 0., 0.],\n",
       "       [0., 0., 0., 0., 0., 0., 0., 0., 0., 0.],\n",
       "       [0., 0., 0., 0., 0., 0., 0., 0., 0., 0.],\n",
       "       [0., 0., 0., 0., 0., 0., 0., 0., 0., 0.],\n",
       "       [0., 0., 0., 0., 0., 0., 0., 0., 0., 0.],\n",
       "       [0., 0., 0., 0., 0., 0., 0., 0., 0., 0.],\n",
       "       [0., 0., 0., 0., 0., 0., 0., 0., 0., 0.],\n",
       "       [0., 0., 0., 0., 0., 0., 0., 0., 0., 0.]])"
      ]
     },
     "execution_count": 165,
     "metadata": {},
     "output_type": "execute_result"
    }
   ],
   "source": [
    "np.zeros(ss.shape)"
   ]
  }
 ],
 "metadata": {
  "kernelspec": {
   "display_name": "ckmr",
   "language": "python",
   "name": "python3"
  },
  "language_info": {
   "codemirror_mode": {
    "name": "ipython",
    "version": 3
   },
   "file_extension": ".py",
   "mimetype": "text/x-python",
   "name": "python",
   "nbconvert_exporter": "python",
   "pygments_lexer": "ipython3",
   "version": "3.10.6"
  }
 },
 "nbformat": 4,
 "nbformat_minor": 2
}
