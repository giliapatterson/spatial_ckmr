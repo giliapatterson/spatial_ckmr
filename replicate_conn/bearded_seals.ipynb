{
 "cells": [
  {
   "cell_type": "code",
   "execution_count": 2,
   "metadata": {},
   "outputs": [],
   "source": [
    "import tskit\n",
    "import json\n",
    "import numpy as np\n",
    "from matplotlib import pyplot as plt\n",
    "from scipy import stats\n",
    "import itertools\n",
    "import math\n",
    "import pandas as pd\n",
    "from PIL import Image, ImageDraw\n",
    "rng = np.random.default_rng()\n"
   ]
  },
  {
   "cell_type": "code",
   "execution_count": 3,
   "metadata": {},
   "outputs": [
    {
     "name": "stdout",
     "output_type": "stream",
     "text": [
      "// Initial random seed:\n",
      "119\n",
      "\n",
      "// RunInitializeCallbacks():\n",
      "initializeSLiMModelType(modelType = 'nonWF');\n",
      "initializeSLiMOptions(keepPedigrees = T, dimensionality = 'xy');\n",
      "initializeSex(\"A\");\n",
      "22026\n",
      "initializeInteractionType(1, \"xy\", reciprocal=T, maxDistance=0.56419, sexSegregation=\"FM\");\n",
      "initializeMutationType(1, 0.5, \"f\", 0);\n",
      "initializeGenomicElementType(1, m1, 1);\n",
      "initializeGenomicElement(g1, 0, 99999);\n",
      "initializeMutationRate(0);\n",
      "initializeRecombinationRate(1e-08);\n",
      "\n",
      "// Starting run at tick <start>:\n",
      "1 \n",
      "\n"
     ]
    }
   ],
   "source": [
    "%%bash\n",
    "slim -s 119 -d R0=10 -d 'OUTPUT=\"bearded_seal_parents.csv\"' -d 'POPSIZE_FILE=\"bearded_seal_popsize.csv\"' bearded_seals/bearded_seals.slim"
   ]
  },
  {
   "cell_type": "code",
   "execution_count": 4,
   "metadata": {},
   "outputs": [],
   "source": [
    "parents = pd.read_csv(\"bearded_seal_parents.csv\")"
   ]
  },
  {
   "cell_type": "markdown",
   "metadata": {},
   "source": [
    "### Define a sampling intensity grid and sample from dead animals for each year according to the grid"
   ]
  },
  {
   "cell_type": "code",
   "execution_count": 5,
   "metadata": {},
   "outputs": [],
   "source": [
    "# Divide into years\n",
    "sample_year = 41\n",
    "sample_parents = parents.loc[parents.sampling_time == sample_year]"
   ]
  },
  {
   "cell_type": "code",
   "execution_count": 6,
   "metadata": {},
   "outputs": [],
   "source": [
    "def sample_cell(sample_parents, xmin, xmax, ymin, ymax, nmax):\n",
    "    # Sample from individuals within one grid cell\n",
    "    in_i = np.where(np.logical_and(np.logical_and(sample_parents.loc[:,'x'] <= xmax, sample_parents.loc[:,'x'] >= xmin),\n",
    "                np.logical_and(sample_parents.loc[:,'y'] >= ymin, sample_parents.loc[:,'y'] <= ymax)))[0]\n",
    "    # Sample size is nmax or the number of individuals in the area\n",
    "    ss = min(len(in_i), nmax)\n",
    "    sample_rows = rng.choice(in_i, ss, replace = False)\n",
    "    return(ss, sample_rows)"
   ]
  },
  {
   "cell_type": "code",
   "execution_count": 7,
   "metadata": {},
   "outputs": [],
   "source": [
    "def sample_grid(individuals, sampling_intensity, n, width = 10, height = 10):\n",
    "    # Sample from each grid cell\n",
    "    # Sample size \n",
    "    ss = np.array(np.ceil(n*sampling_intensity/np.sum(sampling_intensity)), dtype = int)\n",
    "    # Keep track of actual sample sizes (since if there are fewer than ss individuals in a grid cell, all are sampled)\n",
    "    realized_ss = np.zeros(ss.shape, dtype = int)\n",
    "    \n",
    "    # Width and height of grid cells\n",
    "    x_cells = ss.shape[0]\n",
    "    y_cells = ss.shape[1]\n",
    "    dx = width/x_cells\n",
    "    dy = height/y_cells\n",
    "    \n",
    "    # Keep track of sampled rows\n",
    "    #sample_rows = np.empty(round(np.sum(ss)), dtype = int)\n",
    "    sample_rows = np.empty(0, dtype = int)\n",
    "    # Sample from each grid cell\n",
    "    for ix, iy in np.ndindex(ss.shape):\n",
    "        xmin = dx*ix\n",
    "        xmax = dx*ix + dx\n",
    "        ymin = dy*iy\n",
    "        ymax = dy*iy + dy\n",
    "        nmax = ss[ix, iy]\n",
    "        realized_ss[ix, iy], grid_rows = sample_cell(individuals, xmin, xmax, ymin, ymax, nmax)\n",
    "        sample_rows = np.concatenate([sample_rows, grid_rows])\n",
    "    return(realized_ss, sample_rows)"
   ]
  },
  {
   "cell_type": "markdown",
   "metadata": {},
   "source": [
    "### Make plots of sample"
   ]
  },
  {
   "cell_type": "code",
   "execution_count": 8,
   "metadata": {},
   "outputs": [],
   "source": [
    "def make_spaghetti(sample_parents, image_w, image_h, max_width, max_height):\n",
    "    # creating new Image object\n",
    "    w, h = image_w, image_h\n",
    "    spaghetti = Image.new(\"1\", (w, h))\n",
    "    img1 = ImageDraw.Draw(spaghetti)\n",
    "\n",
    "    # Find individuals with a parent that is in the sample\n",
    "    p_in_i = np.isin(sample_parents.loc[:,'parent1'], sample_parents.loc[:,'individual'])\n",
    "    npairs = sum(p_in_i)\n",
    "\n",
    "    # Get location of parent-offspring pairs and plot\n",
    "    children = sample_parents.loc[p_in_i, :]\n",
    "    for child_i, child_row in children.iterrows():\n",
    "        parent_i = np.where(sample_parents.loc[:,'individual'] == child_row['parent1'])[0][0]\n",
    "        parent_row = sample_parents.iloc[parent_i,:]\n",
    "        # print(parent_row['individual'], child_row['individual'])\n",
    "        x_child, y_child = child_row[['x','y']]\n",
    "        x_parent, y_parent = parent_row[['x','y']]\n",
    "        img1.line([(x_child*w/max_width, y_child*h/max_height), (x_parent*w/max_width, y_parent*h/max_height)], fill =\"white\", width = 0)\n",
    "\n",
    "    return(spaghetti)"
   ]
  },
  {
   "cell_type": "code",
   "execution_count": 9,
   "metadata": {},
   "outputs": [],
   "source": [
    "def plot_samples(sample_parents, image_w, image_h, max_width, max_height):\n",
    "    # creating new Image object\n",
    "    w, h = image_w, image_h\n",
    "    sampling = Image.new(\"1\", (w, h))\n",
    "    img2 = ImageDraw.Draw(sampling)\n",
    "\n",
    "    # Plot sampling\n",
    "    for ind_i, ind_row in sample_parents.iterrows():\n",
    "        x, y = ind_row[['x','y']]\n",
    "        img2.point((x*w/max_width, y*h/max_height), fill = \"white\")\n",
    "    return(sampling)"
   ]
  },
  {
   "cell_type": "code",
   "execution_count": 10,
   "metadata": {},
   "outputs": [],
   "source": [
    "def plot_intensity(sampling_intensity, image_w, image_h):\n",
    "    w, h = image_w, image_h\n",
    "    intensity = Image.new(\"L\", (w, h))\n",
    "    img3 = ImageDraw.Draw(intensity)\n",
    "\n",
    "    # Width and height of grid cells\n",
    "    x_cells = sampling_intensity.shape[0]\n",
    "    y_cells = sampling_intensity.shape[1]\n",
    "    dx = w/x_cells\n",
    "    dy = h/y_cells\n",
    "    # Maximum sampling intensity (will be 255 or all white)\n",
    "    max_int = np.max(sampling_intensity)\n",
    "    # Plot sampling intensity\n",
    "    for ix, iy in np.ndindex(sampling_intensity.shape):\n",
    "        xmin = dx*ix\n",
    "        xmax = dx*ix + dx\n",
    "        ymin = dy*iy\n",
    "        ymax = dy*iy + dy\n",
    "        # Sampling\n",
    "        rel_intensity = round(255*sampling_intensity[ix, iy]/max_int)\n",
    "        img3.rectangle([(xmin, ymin), (xmax, ymax)], fill = rel_intensity, outline=None, width=0)\n",
    "    return(intensity)"
   ]
  },
  {
   "cell_type": "code",
   "execution_count": 11,
   "metadata": {},
   "outputs": [
    {
     "name": "stdout",
     "output_type": "stream",
     "text": [
      "[[ 4  5  7  8 10 11 13 14 16 17]\n",
      " [ 4  5  7  8 10 11 13 14 16 17]\n",
      " [ 4  5  7  8 10 11 13 14 16 17]\n",
      " [ 4  5  7  8 10 11 13 14 16 17]\n",
      " [ 4  5  7  8 10 11 13 14 16 17]\n",
      " [ 4  5  7  8 10 11 13 14 16 17]\n",
      " [ 4  5  7  8 10 11 13 14 16 17]\n",
      " [ 4  5  7  8 10 11 13 14 16 17]\n",
      " [ 4  5  7  8 10 11 13 14 16 17]\n",
      " [ 4  5  7  8 10 11 13 14 16 17]]\n"
     ]
    }
   ],
   "source": [
    "sampling_intensity =  np.ones((10,10))*np.linspace(1, 5, 10)\n",
    "ss, sample_rows = sample_grid(parents, sampling_intensity, 1000, 10, 10)\n",
    "print(ss)\n",
    "sample = parents.iloc[sample_rows]"
   ]
  },
  {
   "cell_type": "code",
   "execution_count": 12,
   "metadata": {},
   "outputs": [
    {
     "data": {
      "image/png": "[encoded data removed]",
      "text/plain": [
       "<PIL.Image.Image image mode=1 size=500x500>"
      ]
     },
     "metadata": {},
     "output_type": "display_data"
    },
    {
     "data": {
      "image/png": "[encoded data removed]",
      "text/plain": [
       "<PIL.Image.Image image mode=1 size=500x500>"
      ]
     },
     "metadata": {},
     "output_type": "display_data"
    },
    {
     "data": {
      "image/png": "[encoded data removed]",
      "text/plain": [
       "<PIL.Image.Image image mode=L size=500x500>"
      ]
     },
     "metadata": {},
     "output_type": "display_data"
    }
   ],
   "source": [
    "display(make_spaghetti(sample, 500, 500, 10, 10))\n",
    "display(plot_samples(sample, 500, 500, 10, 10))\n",
    "display(plot_intensity(sampling_intensity, 500, 500))"
   ]
  },
  {
   "cell_type": "code",
   "execution_count": 13,
   "metadata": {},
   "outputs": [],
   "source": [
    "popsize = pd.read_csv(\"bearded_seal_popsize.csv\")"
   ]
  },
  {
   "cell_type": "code",
   "execution_count": 14,
   "metadata": {},
   "outputs": [
    {
     "name": "stdout",
     "output_type": "stream",
     "text": [
      "    sampling_time      N\n",
      "0              40  18013\n",
      "1              41  17995\n",
      "2              42  17997\n",
      "3              43  17923\n",
      "4              44  17772\n",
      "5              45  17693\n",
      "6              46  17630\n",
      "7              47  17459\n",
      "8              48  17398\n",
      "9              49  17354\n",
      "10             50  17397\n",
      "11             51  17438\n",
      "12             52  17391\n",
      "13             53  17305\n",
      "14             54  17267\n",
      "15             55  17206\n",
      "16             56  17111\n",
      "17             57  17026\n",
      "18             58  16936\n",
      "19             59  16951\n",
      "20             60  16873\n",
      "Index(['sampling_time', 'N'], dtype='object')\n"
     ]
    },
    {
     "data": {
      "text/plain": [
       "17435.0"
      ]
     },
     "execution_count": 14,
     "metadata": {},
     "output_type": "execute_result"
    }
   ],
   "source": [
    "print(popsize)\n",
    "print(popsize.columns)\n",
    "np.mean(popsize.loc[:,'N'])"
   ]
  },
  {
   "cell_type": "code",
   "execution_count": 16,
   "metadata": {},
   "outputs": [
    {
     "data": {
      "text/plain": [
       "1050"
      ]
     },
     "execution_count": 16,
     "metadata": {},
     "output_type": "execute_result"
    }
   ],
   "source": [
    "np.sum(ss)"
   ]
  }
 ],
 "metadata": {
  "kernelspec": {
   "display_name": "ckmr",
   "language": "python",
   "name": "python3"
  },
  "language_info": {
   "codemirror_mode": {
    "name": "ipython",
    "version": 3
   },
   "file_extension": ".py",
   "mimetype": "text/x-python",
   "name": "python",
   "nbconvert_exporter": "python",
   "pygments_lexer": "ipython3",
   "version": "3.11.3"
  }
 },
 "nbformat": 4,
 "nbformat_minor": 2
}
