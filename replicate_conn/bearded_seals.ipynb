{
 "cells": [
  {
   "cell_type": "code",
   "execution_count": 1,
   "metadata": {},
   "outputs": [],
   "source": [
    "import tskit\n",
    "import json\n",
    "import numpy as np\n",
    "from matplotlib import pyplot as plt\n",
    "from scipy import stats\n",
    "import itertools\n",
    "import math\n",
    "import pandas as pd\n",
    "from PIL import Image, ImageDraw\n",
    "rng = np.random.default_rng()\n"
   ]
  },
  {
   "cell_type": "code",
   "execution_count": 2,
   "metadata": {},
   "outputs": [
    {
     "name": "stdout",
     "output_type": "stream",
     "text": [
      "// Initial random seed:\n",
      "119\n",
      "\n",
      "// RunInitializeCallbacks():\n",
      "initializeSLiMModelType(modelType = 'nonWF');\n",
      "initializeSLiMOptions(keepPedigrees = T, dimensionality = 'xy');\n",
      "initializeSex(\"A\");\n",
      "22026\n",
      "initializeInteractionType(1, \"xy\", reciprocal=T, maxDistance=0.56419, sexSegregation=\"FM\");\n",
      "initializeMutationType(1, 0.5, \"f\", 0);\n",
      "initializeGenomicElementType(1, m1, 1);\n",
      "initializeGenomicElement(g1, 0, 99999);\n",
      "initializeMutationRate(0);\n",
      "initializeRecombinationRate(1e-08);\n",
      "\n",
      "// Starting run at tick <start>:\n",
      "1 \n",
      "\n",
      "\"Late pop size\"\n",
      "17536\n",
      "\"Late pop size\"\n",
      "17529\n",
      "\"Late pop size\"\n",
      "17446\n",
      "\"Late pop size\"\n",
      "17509\n",
      "\"Late pop size\"\n",
      "17534\n",
      "\"Late pop size\"\n",
      "17477\n",
      "\"Late pop size\"\n",
      "17467\n",
      "\"Late pop size\"\n",
      "17554\n",
      "\"Late pop size\"\n",
      "17497\n",
      "\"Late pop size\"\n",
      "17559\n",
      "\"Late pop size\"\n",
      "17533\n",
      "\"Late pop size\"\n",
      "17532\n",
      "\"Late pop size\"\n",
      "17439\n",
      "\"Late pop size\"\n",
      "17399\n",
      "\"Late pop size\"\n",
      "17338\n",
      "\"Late pop size\"\n",
      "17211\n",
      "\"Late pop size\"\n",
      "17189\n",
      "\"Late pop size\"\n",
      "17201\n",
      "\"Late pop size\"\n",
      "17192\n",
      "\"Late pop size\"\n",
      "17133\n",
      "\"Late pop size\"\n",
      "17121\n",
      "\"Late pop size\"\n",
      "17122\n",
      "\"Late pop size\"\n",
      "17155\n",
      "\"Late pop size\"\n",
      "17092\n",
      "\"Late pop size\"\n",
      "17020\n",
      "\"Late pop size\"\n",
      "17060\n",
      "\"Late pop size\"\n",
      "16998\n",
      "\"Late pop size\"\n",
      "17056\n",
      "\"Late pop size\"\n",
      "16862\n",
      "\"Late pop size\"\n",
      "16936\n",
      "\"Late pop size\"\n",
      "16917\n",
      "\"Late pop size\"\n",
      "16865\n",
      "\"Late pop size\"\n",
      "16866\n",
      "\"Late pop size\"\n",
      "16904\n",
      "\"Late pop size\"\n",
      "16844\n",
      "\"Late pop size\"\n",
      "16776\n",
      "\"Late pop size\"\n",
      "16787\n",
      "\"Late pop size\"\n",
      "16819\n",
      "\"Late pop size\"\n",
      "16792\n",
      "\"Late pop size\"\n",
      "16710\n",
      "\"Late pop size\"\n",
      "16635\n",
      "\"Late pop size\"\n",
      "16622\n",
      "\"Late pop size\"\n",
      "16623\n",
      "\"Late pop size\"\n",
      "16575\n",
      "\"Late pop size\"\n",
      "16601\n",
      "\"Late pop size\"\n",
      "16568\n",
      "\"Late pop size\"\n",
      "16613\n",
      "\"Late pop size\"\n",
      "16526\n",
      "\"Late pop size\"\n",
      "16517\n",
      "\"Late pop size\"\n",
      "16396\n",
      "\"Late pop size\"\n",
      "16286\n",
      "\"Late pop size\"\n",
      "16234\n",
      "\"Late pop size\"\n",
      "16244\n",
      "\"Late pop size\"\n",
      "16202\n",
      "\"Late pop size\"\n",
      "16237\n",
      "\"Late pop size\"\n",
      "16345\n",
      "\"Late pop size\"\n",
      "16352\n",
      "\"Late pop size\"\n",
      "16435\n",
      "\"Late pop size\"\n",
      "16476\n",
      "\"Late pop size\"\n",
      "16406\n"
     ]
    }
   ],
   "source": [
    "%%bash\n",
    "slim -s 119 -d R0=10 -d 'OUTPUT=\"bearded_seal_parents.csv\"' -d 'POPSIZE_FILE=\"bearded_seal_popsize.csv\"' bearded_seals/bearded_seals.slim"
   ]
  },
  {
   "cell_type": "code",
   "execution_count": 2,
   "metadata": {},
   "outputs": [],
   "source": [
    "parents = pd.read_csv(\"bearded_seal_parents.csv\")"
   ]
  },
  {
   "cell_type": "markdown",
   "metadata": {},
   "source": [
    "### Define a sampling intensity grid and sample from dead animals for each year according to the grid"
   ]
  },
  {
   "cell_type": "code",
   "execution_count": 3,
   "metadata": {},
   "outputs": [],
   "source": [
    "def sample_cell_year(sample_parents, year, xmin, xmax, ymin, ymax, nmax):\n",
    "    # Sample from individuals within one grid cell\n",
    "    in_x = np.logical_and(sample_parents.loc[:,'x'] <= xmax, sample_parents.loc[:,'x'] >= xmin)\n",
    "    in_y = np.logical_and(sample_parents.loc[:,'y'] >= ymin, sample_parents.loc[:,'y'] <= ymax)\n",
    "    in_cell = np.logical_and(in_x, in_y)\n",
    "    in_year = sample_parents.loc[:,'sampling_time'] == year\n",
    "    in_i = np.where(np.logical_and(in_cell, in_year))[0]\n",
    "    # Sample size is nmax or the number of individuals in the area\n",
    "    ss = min(len(in_i), nmax)\n",
    "    sample_rows = rng.choice(in_i, ss, replace = False)\n",
    "    return(ss, sample_rows)"
   ]
  },
  {
   "cell_type": "code",
   "execution_count": 4,
   "metadata": {},
   "outputs": [],
   "source": [
    "def sample_grid_years(individuals, years, sampling_intensity, n, width = 10, height = 10):\n",
    "    # Sample from each grid cell\n",
    "    # Sample size \n",
    "    ss = np.array(np.floor(n*sampling_intensity/(np.sum(sampling_intensity)*len(years))), dtype = int)\n",
    "    # Keep track of actual total sample size (since if there are fewer than ss individuals in a grid cell, all are sampled)\n",
    "    realized_ss = 0\n",
    "    \n",
    "    # Width and height of grid cells\n",
    "    x_cells = ss.shape[0]\n",
    "    y_cells = ss.shape[1]\n",
    "    dx = width/x_cells\n",
    "    dy = height/y_cells\n",
    "    \n",
    "    # Keep track of sampled rows\n",
    "    #sample_rows = np.empty(round(np.sum(ss)), dtype = int)\n",
    "    sample_rows = np.empty(0, dtype = int)\n",
    "    # Sample from each grid cell\n",
    "    for ix, iy in np.ndindex(ss.shape):\n",
    "        for year in years:\n",
    "            xmin = dx*ix\n",
    "            xmax = dx*ix + dx\n",
    "            ymin = dy*iy\n",
    "            ymax = dy*iy + dy\n",
    "            nmax = ss[ix, iy]\n",
    "            grid_year_ss, grid_rows = sample_cell_year(individuals, year, xmin, xmax, ymin, ymax, nmax)\n",
    "            sample_rows = np.concatenate([sample_rows, grid_rows])\n",
    "            realized_ss += grid_year_ss\n",
    "    return(realized_ss, sample_rows)"
   ]
  },
  {
   "cell_type": "code",
   "execution_count": 5,
   "metadata": {},
   "outputs": [],
   "source": [
    "def sample_grid(individuals, sampling_intensity, n, width = 10, height = 10):\n",
    "    # Sample from each grid cell\n",
    "    # Sample size \n",
    "    ss = np.array(np.ceil(n*sampling_intensity/np.sum(sampling_intensity)), dtype = int)\n",
    "    # Keep track of actual sample sizes (since if there are fewer than ss individuals in a grid cell, all are sampled)\n",
    "    realized_ss = np.zeros(ss.shape, dtype = int)\n",
    "    \n",
    "    # Width and height of grid cells\n",
    "    x_cells = ss.shape[0]\n",
    "    y_cells = ss.shape[1]\n",
    "    dx = width/x_cells\n",
    "    dy = height/y_cells\n",
    "    \n",
    "    # Keep track of sampled rows\n",
    "    #sample_rows = np.empty(round(np.sum(ss)), dtype = int)\n",
    "    sample_rows = np.empty(0, dtype = int)\n",
    "    # Sample from each grid cell\n",
    "    for ix, iy in np.ndindex(ss.shape):\n",
    "        xmin = dx*ix\n",
    "        xmax = dx*ix + dx\n",
    "        ymin = dy*iy\n",
    "        ymax = dy*iy + dy\n",
    "        nmax = ss[ix, iy]\n",
    "        realized_ss[ix, iy], grid_rows = sample_cell(individuals, xmin, xmax, ymin, ymax, nmax)\n",
    "        sample_rows = np.concatenate([sample_rows, grid_rows])\n",
    "    return(realized_ss, sample_rows)"
   ]
  },
  {
   "cell_type": "code",
   "execution_count": 6,
   "metadata": {},
   "outputs": [],
   "source": [
    "def sample_cell(sample_parents, xmin, xmax, ymin, ymax, nmax):\n",
    "    # Sample from individuals within one grid cell\n",
    "    in_i = np.where(np.logical_and(np.logical_and(sample_parents.loc[:,'x'] <= xmax, sample_parents.loc[:,'x'] >= xmin),\n",
    "                np.logical_and(sample_parents.loc[:,'y'] >= ymin, sample_parents.loc[:,'y'] <= ymax)))[0]\n",
    "    # Sample size is nmax or the number of individuals in the area\n",
    "    ss = min(len(in_i), nmax)\n",
    "    sample_rows = rng.choice(in_i, ss, replace = False)\n",
    "    return(ss, sample_rows)"
   ]
  },
  {
   "cell_type": "markdown",
   "metadata": {},
   "source": [
    "### Make plots of sample"
   ]
  },
  {
   "cell_type": "code",
   "execution_count": 7,
   "metadata": {},
   "outputs": [],
   "source": [
    "def make_spaghetti(sample_parents, image_w, image_h, max_width, max_height):\n",
    "    # creating new Image object\n",
    "    w, h = image_w, image_h\n",
    "    spaghetti = Image.new(\"1\", (w, h))\n",
    "    img1 = ImageDraw.Draw(spaghetti)\n",
    "\n",
    "    # Find individuals with a parent that is in the sample\n",
    "    p_in_i = np.isin(sample_parents.loc[:,'parent1'], sample_parents.loc[:,'individual'])\n",
    "    npairs = sum(p_in_i)\n",
    "\n",
    "    # Get location of parent-offspring pairs and plot\n",
    "    children = sample_parents.loc[p_in_i, :]\n",
    "    for child_i, child_row in children.iterrows():\n",
    "        parent_i = np.where(sample_parents.loc[:,'individual'] == child_row['parent1'])[0][0]\n",
    "        parent_row = sample_parents.iloc[parent_i,:]\n",
    "        # print(parent_row['individual'], child_row['individual'])\n",
    "        x_child, y_child = child_row[['x','y']]\n",
    "        x_parent, y_parent = parent_row[['x','y']]\n",
    "        img1.line([(x_child*w/max_width, y_child*h/max_height), (x_parent*w/max_width, y_parent*h/max_height)], fill =\"white\", width = 0)\n",
    "\n",
    "    return(spaghetti, npairs)"
   ]
  },
  {
   "cell_type": "code",
   "execution_count": 8,
   "metadata": {},
   "outputs": [],
   "source": [
    "def plot_samples(sample_parents, image_w, image_h, max_width, max_height):\n",
    "    # creating new Image object\n",
    "    w, h = image_w, image_h\n",
    "    sampling = Image.new(\"1\", (w, h))\n",
    "    img2 = ImageDraw.Draw(sampling)\n",
    "\n",
    "    # Plot sampling\n",
    "    for ind_i, ind_row in sample_parents.iterrows():\n",
    "        x, y = ind_row[['x','y']]\n",
    "        img2.point((x*w/max_width, y*h/max_height), fill = \"white\")\n",
    "    return(sampling)"
   ]
  },
  {
   "cell_type": "code",
   "execution_count": 9,
   "metadata": {},
   "outputs": [],
   "source": [
    "max_bias = 10\n",
    "def plot_intensity(sampling_intensity, image_w, image_h, max_int = max_bias):\n",
    "    w, h = image_w, image_h\n",
    "    intensity = Image.new(\"L\", (w, h))\n",
    "    img3 = ImageDraw.Draw(intensity)\n",
    "\n",
    "    # Width and height of grid cells\n",
    "    x_cells = sampling_intensity.shape[0]\n",
    "    y_cells = sampling_intensity.shape[1]\n",
    "    dx = w/x_cells\n",
    "    dy = h/y_cells\n",
    "    # Maximum sampling intensity (will be 255 or all white)\n",
    "    # Plot sampling intensity\n",
    "    for ix, iy in np.ndindex(sampling_intensity.shape):\n",
    "        xmin = dx*ix\n",
    "        xmax = dx*ix + dx\n",
    "        ymin = dy*iy\n",
    "        ymax = dy*iy + dy\n",
    "        # Sampling\n",
    "        rel_intensity = round(255*sampling_intensity[ix, iy]/max_int)\n",
    "        img3.rectangle([(xmin, ymin), (xmax, ymax)], fill = rel_intensity, outline=None, width=0)\n",
    "    return(intensity)"
   ]
  },
  {
   "cell_type": "code",
   "execution_count": 10,
   "metadata": {},
   "outputs": [
    {
     "name": "stdout",
     "output_type": "stream",
     "text": [
      "[40 41 42 43 44 45 46 47 48 49 50 51 52 53 54 55 56 57 58 59 60]\n"
     ]
    }
   ],
   "source": [
    "# Divide into years and sample for each year\n",
    "sample_years = np.unique(parents.loc[:,'sampling_time'])\n",
    "print(sample_years) "
   ]
  },
  {
   "cell_type": "markdown",
   "metadata": {},
   "source": [
    "### Maternal and paternal POPs separately"
   ]
  },
  {
   "cell_type": "code",
   "execution_count": 11,
   "metadata": {},
   "outputs": [],
   "source": [
    "def find_POPs_or_sibs(focal_parents, sample_array, type):\n",
    "    # focal_parents: List of individual IDs of the focal parents. The focal parents do not need to be in the sample.\n",
    "    # sample_array: Array of information about the whole sample\n",
    "    # type: \"PO\" or \"HS\"\n",
    "    #   \"PO\": find pairs with parent in focal_parent_array and offspring in sample_array\n",
    "    #   \"sib\": find pairs of children in sample_array that share a parent in focal_parent_array\n",
    "    # Returns:\n",
    "    # An array of tuples of either [(parent, offspring), ...] or [(sibling 1, sibling 2), ...]\n",
    "    relative_pairs = []\n",
    "    for parent_id in focal_parents:\n",
    "        #print(\"Parent\", parent_id)\n",
    "        children = sample_array[np.logical_or(sample_array.loc[:,'parent1'] == parent_id,\n",
    "                                        sample_array.loc[:,'parent2'] == parent_id)]\n",
    "        #print(\"Children\")\n",
    "        #print(children)\n",
    "        if type == \"PO\":\n",
    "        # Record POPs\n",
    "            for j, child in children.iterrows():\n",
    "                child_id = child['individual']\n",
    "                relative_pairs.append((parent_id, child_id))\n",
    "        if type == \"HS\":\n",
    "            if len(children) == 2:\n",
    "                sib_ids = children.loc[:,'individual'].values\n",
    "                relative_pairs.append(tuple(np.sort(sib_ids)))\n",
    "            if len(children) > 2:\n",
    "                for pair in itertools.combinations(children.loc[:,'individual'], 2):\n",
    "                    relative_pairs.append(tuple(np.sort(pair)))\n",
    "    return(relative_pairs)            "
   ]
  },
  {
   "cell_type": "code",
   "execution_count": 12,
   "metadata": {},
   "outputs": [],
   "source": [
    "# Sample\n",
    "max_bias = 10\n",
    "sampling_intensity =  np.repeat([np.linspace(1, max_bias, 10)], 10, axis = 0)\n",
    "ss, sample_rows = sample_grid(parents, sampling_intensity, 2000, 10, 10)\n",
    "sample_parents = parents.iloc[sample_rows]"
   ]
  },
  {
   "cell_type": "code",
   "execution_count": 21,
   "metadata": {},
   "outputs": [
    {
     "name": "stdout",
     "output_type": "stream",
     "text": [
      "       individual  parent1  parent2  age sex  sampling_time        x        y\n",
      "50244      203064   166225   199104   10   M             51  7.50945  9.97969\n",
      "1\n",
      "77\n",
      "Number of mothers in the sample 42\n",
      "Number of fathers in the sample 35\n",
      "2050\n",
      "2050\n",
      "2050\n",
      "Number of mothers with multiple children in the sample 128\n",
      "Number of fathers with multiple children in the sample 101\n"
     ]
    }
   ],
   "source": [
    "# Find individuals with a parent that is in the sample\n",
    "p1_in_i = np.isin(sample_parents.loc[:,'parent1'], sample_parents.loc[:,'individual'])\n",
    "p2_in_i = np.isin(sample_parents.loc[:,'parent2'], sample_parents.loc[:,'individual'])\n",
    "# Number of individuals with both parents in the sample\n",
    "both_i = np.logical_and(p1_in_i,p2_in_i)\n",
    "n_both = sum(both_i)\n",
    "both = sample_parents[both_i]\n",
    "print(both)\n",
    "print(n_both)\n",
    "\n",
    "# Female and male rows\n",
    "ind_female = sample_parents.loc[:,'sex'] == \"F\"\n",
    "ind_male = sample_parents.loc[:,'sex'] == \"M\"\n",
    "\n",
    "# Individuals in the sample that have a child in the sample\n",
    "ind_in_p1 = np.isin(sample_parents.loc[:,'individual'].values, sample_parents.loc[:,'parent1'])\n",
    "ind_in_p2 = np.isin(sample_parents.loc[:,'individual'].values, sample_parents.loc[:,'parent2'])\n",
    "ind_in_p = np.logical_or(ind_in_p1, ind_in_p2)\n",
    "print(sum(ind_in_p))\n",
    "\n",
    "# Mothers and Fathers\n",
    "#mothers = sample_parents[np.logical_and(ind_in_p, ind_female)]\n",
    "#fathers = sample_parents[np.logical_and(ind_in_p, ind_male)]\n",
    "mothers = sample_parents[ind_in_p1]\n",
    "fathers = sample_parents[ind_in_p2]\n",
    "mother_list = mothers.loc[:,'individual'].values\n",
    "father_list = fathers.loc[:,'individual'].values\n",
    "print(\"Number of mothers in the sample\", len(mother_list))\n",
    "print(\"Number of fathers in the sample\", len(father_list))\n",
    "\n",
    "# Find the parents of children in the sample and how many children in the sample they have (the parents don't need to be in the sample)\n",
    "# Mothers are parent1 and fathers are parent2\n",
    "all_mothers, all_mother_counts = np.unique(sample_parents.loc[:,'parent1'].values, return_counts = True)\n",
    "all_fathers, all_father_counts = np.unique(sample_parents.loc[:,'parent2'].values, return_counts = True)\n",
    "\n",
    "print(sum(all_mother_counts))\n",
    "print(sum(all_father_counts))\n",
    "print(len(sample_parents))\n",
    "\n",
    "# Parents with multiple children in the sample\n",
    "maternal_sib_parents = all_mothers[all_mother_counts > 1]\n",
    "paternal_sib_parents = all_fathers[all_father_counts > 1]\n",
    "print(\"Number of mothers with multiple children in the sample\", len(maternal_sib_parents))\n",
    "print(\"Number of fathers with multiple children in the sample\", len(paternal_sib_parents))\n"
   ]
  },
  {
   "cell_type": "code",
   "execution_count": 22,
   "metadata": {},
   "outputs": [
    {
     "name": "stdout",
     "output_type": "stream",
     "text": [
      "# maternal POPs 47\n",
      "# paternal POPs 37\n",
      "# maternal sibs 149\n",
      "# paternal sibs 120\n",
      "[(157935, 197667), (138251, 178239), (191736, 238125), (201431, 236423), (149740, 190654), (149740, 194200), (161087, 192953), (128218, 200415), (171708, 204720), (178976, 238268), (183465, 201526), (173871, 264563), (228678, 265058), (213075, 242368), (224340, 267035), (190788, 210520), (171218, 202105), (161038, 199542), (235309, 261127), (235309, 252044), (209045, 273352), (205368, 250045), (185620, 204337), (156757, 201978), (209833, 216542), (245817, 267350), (183722, 225411), (183722, 230096), (172183, 198654), (135274, 206645), (211237, 221878), (86889, 216549), (191888, 271724), (191888, 245191), (211034, 256089), (141984, 190680), (148506, 199520), (165958, 230329), (173006, 215454), (189591, 242341), (182693, 208742), (168032, 189360), (168032, 206900), (219406, 234310), (217204, 261450), (191131, 209045), (166225, 203064)]\n",
      "[(205763, 216989), (174834, 181650), (140523, 152825), (185903, 211738), (156462, 191233), (173776, 191131), (151460, 188648), (218718, 223722), (180173, 191637), (178567, 200763), (215553, 244055), (160007, 186447), (164437, 169517), (193588, 200438), (165323, 203021), (192971, 200521), (170667, 186432), (207827, 220281), (183213, 199625), (170339, 199625), (170339, 183213), (190654, 194200), (198975, 210266), (212861, 227586), (205271, 220443), (207444, 216625), (183722, 201514), (192374, 216862), (175930, 192086), (175824, 195020), (182866, 192377), (178775, 182866), (178775, 192377), (179555, 227461), (206845, 212347), (199115, 235179), (204001, 211048), (204966, 221481), (199084, 203654), (197406, 217180), (197662, 219478), (214116, 219349), (199043, 219349), (199043, 214116), (187054, 207319), (210730, 213784), (182693, 200169), (200954, 208985), (200954, 223631), (200954, 233894), (208985, 223631), (208985, 233894), (223631, 233894), (185051, 210282), (189360, 206900), (247354, 257043), (203377, 206932), (188742, 193681), (205168, 214902), (196441, 206891), (197312, 216948), (199705, 205864), (208058, 220788), (191508, 207445), (196032, 235237), (196032, 201124), (201124, 235237), (212711, 213014), (196444, 203193), (208995, 213266), (212849, 232987), (213613, 231119), (194985, 222820), (217432, 223567), (212370, 221018), (211840, 236904), (208478, 211910), (200955, 232101), (218139, 232101), (200955, 218139), (225411, 230096), (220658, 230612), (204375, 221767), (191734, 238018), (212935, 225652), (220719, 229675), (208427, 220162), (218115, 263176), (206083, 248093), (205404, 209252), (232971, 253288), (213955, 227359), (205005, 258796), (241710, 255877), (225367, 230782), (214897, 224254), (245191, 271724), (229167, 232661), (206159, 217204), (225286, 231349), (223239, 225849), (228143, 231896), (237152, 238735), (214628, 222036), (231676, 247084), (250276, 251683), (222949, 230630), (227936, 263914), (223461, 235400), (226501, 233049), (226501, 254353), (233049, 254353), (257607, 267152), (222281, 247843), (229610, 241320), (226885, 235864), (251246, 255272), (245076, 266296), (233699, 242800), (241424, 253848), (246743, 255073), (227228, 237759), (223520, 240306), (214694, 226959), (261244, 269947), (220998, 232147), (226776, 238515), (237155, 266177), (237155, 245141), (245141, 266177), (230053, 245817), (222285, 227276), (230166, 242832), (237780, 239589), (238849, 257037), (231027, 242877), (226224, 257690), (253503, 255494), (229422, 242494), (229579, 279654), (229579, 276571), (276571, 279654), (250502, 270614), (254140, 257119), (250614, 253594), (238919, 273028), (261266, 265270), (252044, 261127), (266626, 271013)]\n",
      "Full sibs []\n",
      "# individuals with both parents in the sample\n",
      "1\n",
      "[[166225 203064]]\n"
     ]
    }
   ],
   "source": [
    "maternal_pops = find_POPs_or_sibs(mother_list, sample_parents, \"PO\")\n",
    "paternal_pops = find_POPs_or_sibs(father_list, sample_parents, \"PO\")\n",
    "maternal_sibs = find_POPs_or_sibs(maternal_sib_parents, sample_parents, \"HS\")\n",
    "paternal_sibs = find_POPs_or_sibs(paternal_sib_parents, sample_parents, \"HS\")\n",
    "print(\"# maternal POPs\", len(maternal_pops))\n",
    "print(\"# paternal POPs\", len(paternal_pops))\n",
    "print(\"# maternal sibs\", len(maternal_sibs))\n",
    "print(\"# paternal sibs\", len(paternal_sibs))\n",
    "print(maternal_pops)\n",
    "print(maternal_sibs)\n",
    "# Full sibling pairs appear in both maternal and paternal arrays\n",
    "if np.any([x in paternal_sibs for x in maternal_sibs]):\n",
    "    full_sibs = maternal_sibs[np.where([x in paternal_sibs for x in maternal_sibs])[0][0]]\n",
    "else:\n",
    "    full_sibs = []\n",
    "print(\"Full sibs\", full_sibs)\n",
    "# Individuals with both parents in the sample\n",
    "print(\"# individuals with both parents in the sample\")\n",
    "print(np.sum(np.isin(np.array(maternal_pops)[:,1], np.array(paternal_pops)[:,1])))\n",
    "both_in_i = np.where(np.isin(np.array(maternal_pops)[:,1], np.array(paternal_pops)[:,1]))\n",
    "print(np.array(maternal_pops)[both_in_i[0], :])"
   ]
  },
  {
   "cell_type": "code",
   "execution_count": 23,
   "metadata": {},
   "outputs": [
    {
     "data": {
      "image/png": "[encoded data removed]",
      "text/plain": [
       "<PIL.Image.Image image mode=RGB size=500x500>"
      ]
     },
     "metadata": {},
     "output_type": "display_data"
    }
   ],
   "source": [
    "# Get location of parent-offspring pairs and plot\n",
    "# creating new Image object\n",
    "w, h = 500, 500\n",
    "max_width = 10\n",
    "max_height = 10\n",
    "spaghetti = Image.new(\"RGB\", (w, h))\n",
    "img1 = ImageDraw.Draw(spaghetti)\n",
    "def draw_pairs(pairs, image, sample_array, max_width, max_height, color = \"white\"):\n",
    "    # pairs: An array of tuples of individual ids\n",
    "    # image: An image object to add lines to\n",
    "    # sample_array: Array containing information about each individual\n",
    "    for pair in pairs:\n",
    "        index1 = np.where(sample_array.loc[:,'individual'] == pair[0])\n",
    "        index2 = np.where(sample_array.loc[:,'individual'] == pair[1])\n",
    "        row1 = sample_array.iloc[index1]\n",
    "        row2 = sample_array.iloc[index2]\n",
    "        x1, y1 = row1[['x', 'y']].values[0]\n",
    "        x2, y2 = row2[['x', 'y']].values[0]\n",
    "        image.line([(x1*w/max_width, y1*h/max_height), (x2*w/max_width, y2*h/max_height)], fill =color, width = 0)\n",
    "\n",
    "draw_pairs(maternal_pops, img1, sample_parents, max_width, max_height)\n",
    "draw_pairs(paternal_pops, img1, sample_parents, max_width, max_height, \"red\")\n",
    "draw_pairs(maternal_sibs, img1, sample_parents, max_width, max_height, \"green\")\n",
    "draw_pairs(paternal_sibs, img1, sample_parents, max_width, max_height, \"blue\")\n",
    "display(spaghetti)"
   ]
  },
  {
   "cell_type": "code",
   "execution_count": 24,
   "metadata": {},
   "outputs": [
    {
     "data": {
      "image/png": "[encoded data removed]",
      "text/plain": [
       "<PIL.Image.Image image mode=1 size=500x500>"
      ]
     },
     "metadata": {},
     "output_type": "display_data"
    },
    {
     "data": {
      "image/png": "[encoded data removed]",
      "text/plain": [
       "<PIL.Image.Image image mode=1 size=500x500>"
      ]
     },
     "metadata": {},
     "output_type": "display_data"
    }
   ],
   "source": [
    "w, h = 500, 500\n",
    "max_width = 10\n",
    "max_height = 10\n",
    "maternal_pops_image = Image.new(\"1\", (w, h))\n",
    "img2 = ImageDraw.Draw(maternal_pops_image)\n",
    "draw_pairs(maternal_pops, img2, sample_parents, max_width, max_height)\n",
    "display(maternal_pops_image)\n",
    "paternal_pops_image = Image.new(\"1\", (w, h))\n",
    "img3 = ImageDraw.Draw(paternal_pops_image)\n",
    "draw_pairs(paternal_pops, img3, sample_parents, max_width, max_height)\n",
    "display(paternal_pops_image)"
   ]
  },
  {
   "cell_type": "code",
   "execution_count": 16,
   "metadata": {},
   "outputs": [
    {
     "data": {
      "image/png": "[encoded data removed]",
      "text/plain": [
       "<PIL.Image.Image image mode=1 size=500x500>"
      ]
     },
     "metadata": {},
     "output_type": "display_data"
    },
    {
     "data": {
      "image/png": "[encoded data removed]",
      "text/plain": [
       "<PIL.Image.Image image mode=1 size=500x500>"
      ]
     },
     "metadata": {},
     "output_type": "display_data"
    },
    {
     "data": {
      "image/png": "[encoded data removed]",
      "text/plain": [
       "<PIL.Image.Image image mode=L size=500x500>"
      ]
     },
     "metadata": {},
     "output_type": "display_data"
    }
   ],
   "source": [
    "display(make_spaghetti(sample_parents, 500, 500, 10, 10)[0])\n",
    "display(plot_samples(sample_parents, 500, 500, 10, 10))\n",
    "display(plot_intensity(sampling_intensity, 500, 500))"
   ]
  },
  {
   "cell_type": "code",
   "execution_count": 13,
   "metadata": {},
   "outputs": [],
   "source": [
    "popsize = pd.read_csv(\"bearded_seal_popsize.csv\")"
   ]
  },
  {
   "cell_type": "code",
   "execution_count": 14,
   "metadata": {},
   "outputs": [
    {
     "name": "stdout",
     "output_type": "stream",
     "text": [
      "    sampling_time      N\n",
      "0              40  18013\n",
      "1              41  17995\n",
      "2              42  17997\n",
      "3              43  17923\n",
      "4              44  17772\n",
      "5              45  17693\n",
      "6              46  17630\n",
      "7              47  17459\n",
      "8              48  17398\n",
      "9              49  17354\n",
      "10             50  17397\n",
      "11             51  17438\n",
      "12             52  17391\n",
      "13             53  17305\n",
      "14             54  17267\n",
      "15             55  17206\n",
      "16             56  17111\n",
      "17             57  17026\n",
      "18             58  16936\n",
      "19             59  16951\n",
      "20             60  16873\n",
      "Index(['sampling_time', 'N'], dtype='object')\n"
     ]
    },
    {
     "data": {
      "text/plain": [
       "17435.0"
      ]
     },
     "execution_count": 14,
     "metadata": {},
     "output_type": "execute_result"
    }
   ],
   "source": [
    "print(popsize)\n",
    "print(popsize.columns)\n",
    "np.mean(popsize.loc[:,'N'])"
   ]
  },
  {
   "cell_type": "code",
   "execution_count": 16,
   "metadata": {},
   "outputs": [
    {
     "data": {
      "text/plain": [
       "1050"
      ]
     },
     "execution_count": 16,
     "metadata": {},
     "output_type": "execute_result"
    }
   ],
   "source": [
    "np.sum(ss)"
   ]
  }
 ],
 "metadata": {
  "kernelspec": {
   "display_name": "ckmr",
   "language": "python",
   "name": "python3"
  },
  "language_info": {
   "codemirror_mode": {
    "name": "ipython",
    "version": 3
   },
   "file_extension": ".py",
   "mimetype": "text/x-python",
   "name": "python",
   "nbconvert_exporter": "python",
   "pygments_lexer": "ipython3",
   "version": "3.11.3"
  }
 },
 "nbformat": 4,
 "nbformat_minor": 2
}
